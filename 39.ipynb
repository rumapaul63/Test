{
 "cells": [
  {
   "cell_type": "code",
   "execution_count": 1,
   "id": "87930b07",
   "metadata": {},
   "outputs": [
    {
     "name": "stdout",
     "output_type": "stream",
     "text": [
      "Requirement already satisfied: goose3 in c:\\users\\anannya\\f1\\lib\\site-packages (3.1.13)\n",
      "Requirement already satisfied: pyahocorasick in c:\\users\\anannya\\f1\\lib\\site-packages (from goose3) (2.0.0)\n",
      "Requirement already satisfied: requests in c:\\users\\anannya\\f1\\lib\\site-packages (from goose3) (2.28.1)\n",
      "Requirement already satisfied: lxml in c:\\users\\anannya\\f1\\lib\\site-packages (from goose3) (4.9.1)\n",
      "Requirement already satisfied: langdetect in c:\\users\\anannya\\f1\\lib\\site-packages (from goose3) (1.0.9)\n",
      "Requirement already satisfied: cssselect in c:\\users\\anannya\\f1\\lib\\site-packages (from goose3) (1.1.0)\n",
      "Requirement already satisfied: Pillow in c:\\users\\anannya\\f1\\lib\\site-packages (from goose3) (9.4.0)\n",
      "Requirement already satisfied: python-dateutil in c:\\users\\anannya\\f1\\lib\\site-packages (from goose3) (2.8.2)\n",
      "Requirement already satisfied: beautifulsoup4 in c:\\users\\anannya\\f1\\lib\\site-packages (from goose3) (4.11.1)\n",
      "Requirement already satisfied: soupsieve>1.2 in c:\\users\\anannya\\f1\\lib\\site-packages (from beautifulsoup4->goose3) (2.3.2.post1)\n",
      "Requirement already satisfied: six in c:\\users\\anannya\\f1\\lib\\site-packages (from langdetect->goose3) (1.16.0)\n",
      "Requirement already satisfied: idna<4,>=2.5 in c:\\users\\anannya\\f1\\lib\\site-packages (from requests->goose3) (3.4)\n",
      "Requirement already satisfied: urllib3<1.27,>=1.21.1 in c:\\users\\anannya\\f1\\lib\\site-packages (from requests->goose3) (1.26.15)\n",
      "Requirement already satisfied: charset-normalizer<3,>=2 in c:\\users\\anannya\\f1\\lib\\site-packages (from requests->goose3) (2.0.4)\n",
      "Requirement already satisfied: certifi>=2017.4.17 in c:\\users\\anannya\\f1\\lib\\site-packages (from requests->goose3) (2022.12.7)\n",
      "Note: you may need to restart the kernel to use updated packages.\n"
     ]
    }
   ],
   "source": [
    "pip install goose3"
   ]
  },
  {
   "cell_type": "code",
   "execution_count": 2,
   "id": "7f941f97",
   "metadata": {},
   "outputs": [],
   "source": [
    "from goose3 import Goose\n",
    "url1=\"https://insights.blackcoffer.com/what-jobs-will-robots-take-from-humans-in-the-future/\"\n",
    "goose= Goose()\n",
    "article=goose.extract(url1)"
   ]
  },
  {
   "cell_type": "code",
   "execution_count": 3,
   "id": "886bb4b8",
   "metadata": {},
   "outputs": [
    {
     "data": {
      "text/plain": [
       "'What Jobs Will Robots Take From Humans in The Future? | Blackcoffer Insights'"
      ]
     },
     "execution_count": 3,
     "metadata": {},
     "output_type": "execute_result"
    }
   ],
   "source": [
    "article.title"
   ]
  },
  {
   "cell_type": "code",
   "execution_count": 4,
   "id": "79238c9e",
   "metadata": {},
   "outputs": [
    {
     "data": {
      "text/plain": [
       "'AI is rapidly evolving in the employment sector, particularly in matters involving business and finance. Finance, management, economics, and accounting are now among the most popular university courses globally; particularly at the graduate level, due to their high employability. However, the evolution of machinery in industries is changing that. According to research, 230,000 jobs in these sectors may be replaced by AI agents in the next 5 years. This is due to the nature of the work, as employees are responsible for tasks such as data analysis and keeping track of numerical information; which machines excel at. Large, complicated data sets can be analyzed faster and more efficiently by AI-powered computers than by people. Algorithmic trading procedures that produce automated deals are less likely to be produced without minute errors when undertaken by humans. In such matters involving industrial work, a subsection of artificial intelligence is used; namely, machine learning.\\n\\nMachine learning is a term used for the application of artificial intelligence (AI) in systems, which involves them assimilating and processing information by gaining experience. It is mainly concerned with the development of technology and computer programs.\\n\\nIts improvement process is mainly divided into seven steps; which start with the collection of data. This data can be collected from an internal database or perhaps an IoT structure. The second and most time-consuming step is cleaning, preparing, and rearranging the data; which involves the recognition of outliers, trends, and missing information so that the outcome is as accurate as possible. The third step consists of formatting data; which is useful if you source your information from a variety of sources. Step four is where AI comes into place. Self-service data processing tools may be useful if they provide intelligent services for matching data attributes from distinct databases and intelligently integrating them. The data is then arranged to better represent a specific pattern. Lastly, the data is divided into two sets: one for training the algorithm and one for analysis.\\n\\nThere are three types of machine learning; supervised, unsupervised, and reinforcement learning. The most common of the bunch is supervised machine learning; which is based on accurately labeled data. The machine is given a collection of information, including the outcome of the operation. The rest of the information is referred to as ‘input features’, which ‘supervises’ the machine by guiding it to establish the connections between the variants.\\n\\nIn the case of unsupervised learning, the machine isn’t given labeled sets of data to be divided into, allowing it to recognize and create its own patterns within the information provided. Since computers have the capabilities of identifying distinguished similarities, this method helps with the classifying of such data.\\n\\nReinforcement learning comprises experience-based learning. Similar to people, they learn due to a reward and punishment system based on their actions.\\n\\nThese variations of system learning have recently been integrated into business and finance, which is elaborated on in the following passages.\\n\\nThere are many ways in which machine learning is used in finance and banking. The most common place it is used is to detect any frauds. Fraud is the most common problem in financial service companies and it accounts for billions of dollars in misfortune each year. The most common frauds are credit or debit card usage by a stranger, document forgery, and mortgage fraud.\\n\\nUsually, finance companies keep an enormous amount of their data stored online, and it increases the risk of information being accessed without authorization. With expanding innovative headway, misrepresentation in the monetary business is currently viewed as a high danger to significant information. Fraud recognition frameworks in the past were planned dependent on a bunch of rules, which could be effortlessly be bypassed by current fraudsters. Therefore, most companies today leverage machine learning to combat fraudulent financial transactions.\\n\\nMachine learning works by looking over enormous informational indexes to distinguish unique or suspicious activities for additional examination by security groups. It works by looking at an exchange against other information focuses – like the client’s record history, IP address, area, and so forth. Depending on the type of exchange taking place, the program can automatically refuse a withdrawal or purchase until the person makes a decision.\\n\\nExamples of fraud detection software used by banks include Feedzai, Data visor, and Teradata\\n\\nMachine learning is also used in algorithmic trading, portfolio management, loan underwriting, chatbots, and improving customer service.\\n\\nAlgorithmic trading is an interaction for executing orders using computerized and pre-modified exchanging guidelines to represent factors like value, timing, and volume. An algorithm is a set of directions for solving a problem. Computer calculations send little parts of the full request to the market over the long run.\\n\\nIn contrast to human dealers, algorithmic exchanging can investigate enormous volumes of information every day and therefore make thousands of trades every day. Machine learning settles on quick exchanging choices, which gives human traders a benefit over the market normal. Likewise, algorithmic exchanging doesn’t settle on exchanging choices dependent on feelings, which is a typical constraint among human dealers whose judgment might be influenced by feelings or individual desires. The exchanging technique is generally utilized by multifaceted investment administrators and monetary foundations to automate trading activities.\\n\\nIn the banking industry, organizations access a large number of shopper information, with which machine learning can be prepared to work in order to simplify the underwriting process. Machine learning calculations can settle on speedy choices on endorsing and credit scoring, and save organizations both time and monetary assets that are utilized by people.\\n\\nData scientists can train algorithms on how to analyze millions of consumer data to coordinate with information records, search for interesting special cases, and settle on a choice on whether a shopper meets all requirements for an advance or protection. For instance, the calculation can be prepared on the most proficient method to examine shopper information, like age, pay, occupation, and the buyer’s credit conduct.\\n\\nAs with any form of revolutionary technology, the usage of machine learning has been debated over as its beneficial properties have been weighed against the possible disadvantages. It’s been observed that upon correct usage, it may be used to solve a wide range of business challenges and anticipate complicated customer behavior. We’ve also seen several of the largest IT conglomerates, such as Google, Amazon, and Microsoft, introduce Cloud Machine Learning platforms.\\n\\nIn terms of business, ML can aid businesses by identifying consumer’s demands and formulate a pattern based on them; allowing companies to reach out to such consumers and maximize their sales. It eliminates the need for expenses on some maintenance by reducing the risks associated with unexpected breakdowns and minimizes wasteful costs to the firms. Historical data, a process visualization tool, a flexible analytical environment, and a feedback loop may all be used to build an ML architecture. The input of data is another agitating chore for businesses in the present, which is where machine learning can step in for manual labor. This eradicates the possibility of errors caused by manual labor causing disruptions and provides employees with extra time to handle other tasks.\\n\\nIn the financial sector, machine learning is already utilized for portfolio management, algorithmic trading, loan underwriting, and fraud detection. Chatbots and other conversational interfaces for security, customer support, and sentiment analysis will be among the future uses of ML in banking. Another aspect of business involving artificial intelligence includes image recognition, which entails a system or program that recognizes objects, people, places, and movements in photos. It identifies photographs using an imaging system and machine recognition tech with artificial intelligence and programmed algorithms.\\n\\nWith all the benefits of its advancement, machine learning isn’t the most perfect thing. There are several disadvantages which are information acquisition, time and resources and high errors, and wrong interpretations. One of the major hurdles is the amount of finance needed to invest in machine learning for it to be a successful project. More issues have to do with the fact that AI requires gigantic informational indexes to train on, and these ought to be unbiased, and of good quality. There can likewise be times where they have to wait for that new information to be produced. Machine learning needs sufficient opportunity to do the calculations to learn and adequately to satisfy their accuracy and relevancy. It also needs huge resources to work. This can mean extra requirements for the computer to work. Another significant problem is the capacity to precisely decipher the results produced by the calculations. You should likewise cautiously pick the algorithms to get the wanted results.\\n\\nThere have been various reports in the past and current years which claim that a significant piece of the human labor force will be replaced via robots and machines in the years to come. With excessive innovative work being led in the field of computerized reasoning, many dread that a significant job crisis will unfurl since numerous positions are all the more precisely and productively performed with the use of machines. In countries like Japan, mainly computer programs and AI is used in the secondary and tertiary sectors. From cleaning the house to depositing money in banks, everything is done by AI. However, AI cannot replace humans in the future. Humans have several capabilities which, even after several technological advancements a machine would not be able to have. These capabilities include creative thinking and creative problem solving, and human connection. For example, when a child goes to a doctor to get an injection, a nurse always relaxes the child to not be afraid of the needle. A machine’s touch would not be able to soothe a child. Another example could be how humans tend to share things with each other and be open about it, a machine will not be able to do so since it is only programmed to things it has been told to do. Like computers, AI will not replace us but would however complement us to make daily work easier and less time-consuming. Without humans themselves, there is no future for AI.'"
      ]
     },
     "execution_count": 4,
     "metadata": {},
     "output_type": "execute_result"
    }
   ],
   "source": [
    "article.cleaned_text"
   ]
  },
  {
   "cell_type": "code",
   "execution_count": null,
   "id": "c6fc43e4",
   "metadata": {},
   "outputs": [],
   "source": []
  }
 ],
 "metadata": {
  "kernelspec": {
   "display_name": "Python 3 (ipykernel)",
   "language": "python",
   "name": "python3"
  },
  "language_info": {
   "codemirror_mode": {
    "name": "ipython",
    "version": 3
   },
   "file_extension": ".py",
   "mimetype": "text/x-python",
   "name": "python",
   "nbconvert_exporter": "python",
   "pygments_lexer": "ipython3",
   "version": "3.9.13"
  }
 },
 "nbformat": 4,
 "nbformat_minor": 5
}
