{
 "cells": [
  {
   "cell_type": "code",
   "execution_count": 1,
   "id": "b4b5a88d",
   "metadata": {},
   "outputs": [
    {
     "name": "stdout",
     "output_type": "stream",
     "text": [
      "Requirement already satisfied: goose3 in c:\\users\\anannya\\f1\\lib\\site-packages (3.1.13)\n",
      "Requirement already satisfied: beautifulsoup4 in c:\\users\\anannya\\f1\\lib\\site-packages (from goose3) (4.11.1)\n",
      "Requirement already satisfied: python-dateutil in c:\\users\\anannya\\f1\\lib\\site-packages (from goose3) (2.8.2)\n",
      "Requirement already satisfied: pyahocorasick in c:\\users\\anannya\\f1\\lib\\site-packages (from goose3) (2.0.0)\n",
      "Requirement already satisfied: Pillow in c:\\users\\anannya\\f1\\lib\\site-packages (from goose3) (9.4.0)\n",
      "Requirement already satisfied: langdetect in c:\\users\\anannya\\f1\\lib\\site-packages (from goose3) (1.0.9)\n",
      "Requirement already satisfied: cssselect in c:\\users\\anannya\\f1\\lib\\site-packages (from goose3) (1.1.0)\n",
      "Requirement already satisfied: lxml in c:\\users\\anannya\\f1\\lib\\site-packages (from goose3) (4.9.1)\n",
      "Requirement already satisfied: requests in c:\\users\\anannya\\f1\\lib\\site-packages (from goose3) (2.28.1)\n",
      "Requirement already satisfied: soupsieve>1.2 in c:\\users\\anannya\\f1\\lib\\site-packages (from beautifulsoup4->goose3) (2.3.2.post1)\n",
      "Requirement already satisfied: six in c:\\users\\anannya\\f1\\lib\\site-packages (from langdetect->goose3) (1.16.0)\n",
      "Requirement already satisfied: charset-normalizer<3,>=2 in c:\\users\\anannya\\f1\\lib\\site-packages (from requests->goose3) (2.0.4)\n",
      "Requirement already satisfied: certifi>=2017.4.17 in c:\\users\\anannya\\f1\\lib\\site-packages (from requests->goose3) (2022.12.7)\n",
      "Requirement already satisfied: urllib3<1.27,>=1.21.1 in c:\\users\\anannya\\f1\\lib\\site-packages (from requests->goose3) (1.26.15)\n",
      "Requirement already satisfied: idna<4,>=2.5 in c:\\users\\anannya\\f1\\lib\\site-packages (from requests->goose3) (3.4)\n",
      "Note: you may need to restart the kernel to use updated packages.\n"
     ]
    }
   ],
   "source": [
    "pip install goose3"
   ]
  },
  {
   "cell_type": "code",
   "execution_count": 2,
   "id": "a60d9480",
   "metadata": {},
   "outputs": [],
   "source": [
    "from goose3 import Goose\n",
    "url40=\"https://insights.blackcoffer.com/will-machine-replace-the-human-in-the-future-of-work/\"\n",
    "goose= Goose()\n",
    "article=goose.extract(url40)"
   ]
  },
  {
   "cell_type": "code",
   "execution_count": 3,
   "id": "b732b012",
   "metadata": {},
   "outputs": [
    {
     "data": {
      "text/plain": [
       "'Will Machine Replace The Human in the Future of Work? | Blackcoffer Insights'"
      ]
     },
     "execution_count": 3,
     "metadata": {},
     "output_type": "execute_result"
    }
   ],
   "source": [
    "article.title"
   ]
  },
  {
   "cell_type": "code",
   "execution_count": 4,
   "id": "c2d3ce84",
   "metadata": {},
   "outputs": [
    {
     "data": {
      "text/plain": [
       "'“Anything that could give rise to smarter-than-human intelligence – in the form of Artificial Intelligence, brain-computer interfaces, or neuroscience-based human intelligence enhancement – wins hands down beyond contest as doing the most to change the world. Nothing else is even in the same league.”\\n\\nThere’s no denying robots and automation are increasingly part of our daily lives. Just look around the grocery store, or the highway, they are everywhere. This makes us wonder what if AI can replace human intelligence? What can we do to make ourselves relevant tomorrow? Let us try to find the answers to all these questions and more.\\n\\nLet’s first understand what is Artificial Intelligence –\\n\\nArtificial Intelligence or AI basically machines displaying intelligence. This can be seen from a machine playing chess or a robot answering questions on Facebook. Artificial Intelligence can be further broken down into many different types. There are AIs designed to do specific tasks, such as detecting a specific type of cancer. However, there are also AIs that can do multiple tasks, such as driving a car. There are many types of AIs. Among the top, most important fields are Machine Learning or ML, Neural Network, Computer Vision, and Natural Language Processing or NLP.\\n\\nMachine Learning is the idea of machines being able to prove themselves similar to how a human being learns a new skill. Machine Learning also allows for the optimization of an existing skill. Machine Learning is used in many different fields and one such application is entertainment. Netflix uses Machine Learning to recommend more shows that you can watch based on the shows that you have already seen.\\n\\nNeural Networks are algorithms that are modeled after the human brain. These algorithms think just like we do which can thereby give similar results to what a human being can give. Artificial Neural Networks are used in medical fields to diagnose cancers like lung cancer and prostate cancer.\\n\\nComputer Vision is the idea that computers have visions. This allows them to see things the way human beings do or potentially better than human beings do, depending on the programming, camera used, etc. Computer Vision is used in autonomous vehicles for navigation from one place to another.\\n\\nNatural Language Processing is the idea that computers can listen to what we say. An example of this is . Siri is able to listen to our demands, process what it means, and provide you an answer based on what is researched.\\n\\nNow that we know what an AI is and what it can do, Let’s talk about the issue.\\n\\nWILL MACHINE REPLACE THE HUMAN IN THE FUTURE OF WORK?\\n\\nAIs allow for the automation of jobs, thereby replacing what humans already do. This means more job loss and the concentration of wealth to the selected few people. This could mean a destabilization of society and social unrest. In addition to social unrest, AI improves over time. This means it becomes smarter, faster, and cheaper to implement and it will be better at doing repetitive things that humans currently do, such as preparing fast food. It is predicted that AI will improve so much over 50 to 100 years that AI will become super intelligent. This means that it will become even smarter than the most intelligent human on earth. According to many experts such as Elon Musk, this could cause the end of human civilization. AI could potentially start a war against humans, burn crops and do all sorts of tragedies once reserved for human functions. At that point, in theory, we can not stop it because AI would have already thought of all the obstacles that will prevent its goal. This means that we cannot unplug the machine, in effect AI will replace human intelligence.\\n\\nBut, will this happen in next 10 to 30 years?\\n\\nNO! The field of Artificial Intelligence is sophisticated enough to do many human tasks that humans currently do. Currently, AI is not smart enough to be empathetic to humans and cannot think strategically enough to solve complex problems. AI solutions can be expensive and have to go through many different tests and standards to implement. It also takes time for AI to improve. For example, Boston Dynamics, one of the world’s top robotics company had a robot in 2009 that needed assistance to walk. Fast forward to 2019, not only the robot could walk by itself but it could jump over objects, do backflips and so much more. In addition to the timing, it takes time for the price of any new technological solution to drop to a point where it is affordable. For example, a desktop computer costs around $1000 in 1999 but now you can get a significantly more powerful laptop for the exact same price. AI will go through the same curve.\\n\\nBut what happens after those 10 to 30 years? Will AI make human intelligence obsolete? Maybe. As we have proven earlier AI will become faster better and cheaper. As this happens, more and more companies will use AI technology to automate more and more jobs to save money, increase productivity, and most importantly, stay competitive. As we have demonstrated, AI will become better through repetition via the use of machine learning. The only difference is that AI will be able to learn faster as time progresses due to the amount of data that is available today. It will also be able to learn from other machines or similar machines to learn how to optimize its tasks or new important skills. However, AI also just not do repetitive and routine tasks better, it will also be able to understand emotional intelligence, ethics, and creativity. This seen in three distinct example- IBM\\n\\nIBM uses its IBM Watson to program the AI to create a movie trailer. Fox approached IBM and said they have a movie coming out on AI #Scifi horror. They asked IBM if their platform IBM Watson could a trailer by reviewing and watching the footage and searching for scary,\\n\\nWILL MACHINE REPLACE THE HUMAN IN THE FUTURE OF WORK?\\n\\nSad or happy or other moments in the movie that provoked quality emotions based on how the machine was programmed to identify such emotions in a quantifiable manner. IBM Watson was able to generate a trailer for the movie Morgan. The result, a movie trailer created by machines example – Google\\n\\nIN 2018 google demonstrated an AI assistance that could take calls and do simple stuff. The AI was able to set up an appointment! What was more fascinating was that it was able to understand the nuances of the conversation. The receptionist thought it was a human being that was calling her. That is a very primitive version of what is possible with this technology. Eventually, it will be able to have conversations just as human beings do, making many sales jobs obsolete. example – AI generated art\\n\\nIn 2018, a Paris art collective consisting of three students used artificial intelligence to generate a portrait. It generated the portrait painting by studying a set of fifteen thousand art images on wiki art. It was estimated to be worth between seven thousand to ten thousand dollars. The painting sold at an auction for four thirty-five thousand US dollars.\\n\\nHowever, we cannot for sure say that AI will replace human intelligence. This is because we as a society have started asking hard questions and questioning ethics. Elon Musk founded Open AI, a research lab whose whole purpose is to promote and discover artificial intelligence in a way to benefits humanity. In addition to this, there are many factors that affect the long-term outcome of AI replacing human intelligence. Like, to what degree will other humans allow for AI to take over? Depending on the field, do people even want Artificial Intelligence to help them? Or will they prefer a human counterpart? While we may not be able to control what happens in the long run, we can definitely secure our short-term future.\\n\\nHere are the top five skills that will not become obsolete in the near future\\n\\nThe ability to think outside the box is very human. There are thousands upon thousands of slightly different possible outcomes that may result from every distinguishable action that the human mind with its ability to judge from experience is programmed for these purposes in a far more sophisticated manner than AI can currently achieve. As the billionaire founder of Alibaba, Jack Ma famously said – “AI has logic, human beings have wisdom”.\\n\\nWith our understanding of the complexities of human-related processes and our ability to improvise and judge, we are far better equipped to deal with conflicts than robots are ever likely to be.\\n\\nWILL MACHINE REPLACE THE HUMAN IN THE FUTURE OF WORK?\\n\\nAI may be able to recognize faces and images but it can rarely successfully read the feelings of those faces. Humans, to lesser or greater degrees, are capable of an accurate analysis of emotional subtext. With the application of intuition and the use of delicately worded or elusive languages, through these methods, we are able to properly judge how a person feels.\\n\\nRobots and computers function well when presented with quantifiable data. However, once the situation enters a gray area, whether this term refers to morals, processes, or definitions robots are more likely to falter.\\n\\nHumans are capable of responding to more indicators of quality than computers are. While an AI system may be able to analyze documents according to the true or false statements made within the text, we can judge whether or not it is well written and analyze the implication of the use of certain words and the overall meaning of the content.'"
      ]
     },
     "execution_count": 4,
     "metadata": {},
     "output_type": "execute_result"
    }
   ],
   "source": [
    "article.cleaned_text"
   ]
  },
  {
   "cell_type": "code",
   "execution_count": 5,
   "id": "c7c2ade9",
   "metadata": {},
   "outputs": [],
   "source": [
    "from goose3 import Goose\n",
    "url41=\"https://insights.blackcoffer.com/will-ai-replace-us-or-work-with-us/\"\n",
    "goose= Goose()\n",
    "article=goose.extract(url41)"
   ]
  },
  {
   "cell_type": "code",
   "execution_count": 6,
   "id": "2ae4f96a",
   "metadata": {},
   "outputs": [
    {
     "data": {
      "text/plain": [
       "'Will AI Replace Us or Work With Us? | Blackcoffer Insights'"
      ]
     },
     "execution_count": 6,
     "metadata": {},
     "output_type": "execute_result"
    }
   ],
   "source": [
    "article.title"
   ]
  },
  {
   "cell_type": "code",
   "execution_count": 7,
   "id": "d1026fb4",
   "metadata": {},
   "outputs": [
    {
     "data": {
      "text/plain": [
       "'“Machine intelligence is the last invention that humanity will ever need to make”\\n\\nTo put it frankly, Artificial Intelligence will eventually replace jobs. Workers in a variety of industries, from healthcare to agriculture and manufacturing, should expect to witness hiring disruptions as a result of Artificial Intelligence.\\n\\nIf history has taught us anything, it is that disruptive paradigm-shifting business ideas not only make a fortune for the innovators, but they also build the groundwork for new business models, market entrants, and job opportunities which will inevitably follow. It is true that robots today or in future will eventually replace humans for many jobs, but so did innovative farming equipment for humans and horses during the industrial revolution. But that does not mean that our jobs as humans will end here. We, on the other hand, will be required to generate and provide value in whole new ways for entirely new business models as a result of these changes.\\n\\nAccording to 71% of the businesses worldwide, Artificial Intelligence can help people overcome critical and challenging problems and live better lives. Artificial Intelligence consultants at work will be more or equally fair, according to a whopping 83% of corporate leaders. These results demonstrate that Artificial Intelligence is steadily extending its measures, yielding societal benefits and allowing citizens to live more fulfilling lives.\\n\\nSince the advent of Industry 4.0, businesses are moving at a fast pace towards automation, be it any type of industry. In 2013, researchers at oxford university did a study on the future of work. They concluded that almost one in every two jobs have a high risk of being automated by machines. Machine learning is responsible for this disruption. It is the most powerful branch of artificial intelligence. It allows machines to learn from data and mimic some of the things that humans can do.\\n\\nA research was conducted by the employees of Kaggle wherein an algorithm was to be created to take images of a human eye and diagnose an eye disease known as diabetic retinopathy. Here, the winning algorithm could match the diagnosis given by human ophthalmologists. Another study was conducted wherein an algorithm should be created to grade high school essays. Here too, the winning algorithm could match the grade given by human teachers.\\n\\nThus, we can safely conclude that given the right data, machines can easily outperform human beings in tasks like these. A teacher might read 10,000 essays over a 40-year career; an ophthalmologist might see 50,000 eyes but a machine can read a million essays and see a million eyes within minutes.\\n\\nThus, it is convenient to conclude that we have no chance of competing with machines on frequent, high volume tasks.\\n\\nBut there are tasks where human beings have an upper hand, and that is, in novel tasks. Machines can’t handle things they haven’t seen many times before. The fundamental rule of machine learning is that it learns from large volumes of past data. But humans don’t; we have the ability of seemingly connecting disparate threads to solve problems we haven’t seen before.\\n\\nPercy Spencer was a physicist working on radar during world war 2 where he noticed that the magnetron was melting his chocolate bar. Here, he was able to connect his understanding of electromagnetic radiation with his knowledge of cooking in order to invent the microwave oven. Now this sort of cross pollination happens to each one of us several times in a day. Thus, machines cannot compete with us when it comes to tackling novel situations.\\n\\nNow as we all know that around 92% of talented professionals believe that soft skills such as human interactions and fostering relationships matter much more than hard skills in being successful in managing a workplace. Perhaps, these are the kind of tasks that machines can never compete with humans at.\\n\\nAlso, creative tasks: the copy behind a marketing campaign needs to grab customers’ attention and will have to stand out of the crowd. Business strategy means finding gaps in the market and accordingly working on them. Since machines cannot outperform humans in novel tasks, it will be humans who would be creating these campaigns and strategies.\\n\\nHuman contact would be essential in care-giving and educational-related work responsibilities, and technology would take a backseat. Health screenings and customer service face-to-face communication would advocate for human contact, with Artificial Intelligence playing a supporting role.\\n\\nSo, what does this mean for the future of work? The future state of any single job lies in the answer to one single question: to what extent is the job reducible to tackling frequent high-volume tasks and to what extent does it involve tackling novel situations?\\n\\nToday machines diagnose diseases and grade exam papers, over the coming years they’re going to conduct audits, they’re going to read boilerplate from legal contracts. But does that mean we’re not going to be needing accountants and lawyers? Wrong. We’re still going to need them for complex tax structuring, for path breaking litigation. It will only get tougher to get these jobs as machine learning will shrink their ranks.\\n\\nAmazon has recruited more than 100,000 robots in its warehouses to help move goods and products around more effectively, and its warehouse workforce has expanded by more than 80,000 people. Humans pick and pack goods (Amazon has over 480,000,000 products on its “shelves”), while robots move orders throughout the enormous warehouses, therefore reducing “the amount of walking required of workers, making Amazon pickers more efficient and less exhausted.” Furthermore, because Amazon no longer requires aisle space for humans, the robots enable Amazon to pack shelves together like cars in rush-hour traffic.” More inventory under one roof offers better selection for customers, and a higher density of shelf space equals more inventory under one roof.\\n\\nKodak, once an undisputed giant of the photography industry, had a 90% share in the USA market in 1976, and by 1984, they were employing 1,45,000 people. But in the year 2012, they had a net worth of negative $1 billion and they had to declare bankruptcy. Why? Because they failed to predict the importance of exponential trends when it comes to technology. On the other hand, Instagram, a digital photography company started in 2012 with 13 employees and later they were sold to Facebook for $1 billion. This is so ironic because Kodak pioneered digital photography and actually invented the first digital camera but unfortunately thought of it as a mere product and didn’t pay attention towards it and this created the problem.\\n\\nWe live in an era of artificial intelligence (AI), which has given us tremendous computing power, storage space, and information access. We were given the spinning wheel in the first, electricity in the second, and computers in the third industrial revolution by the exponential growth of technology.\\n\\nAirbnb, which is a giant start-up and is known for enabling homeowners to rent out their homes and couches to travellers, for example, “is now creating a new Artificial Intelligence system that will empower its designers and product engineers to literally take ideas from the drawing board and convert them into actual products almost instantly.” This might be a significant breakthrough whether you’re a designer, engineer, or other type of technologist.\\n\\nDifferences that Automation brings onto the table:\\n\\nThere are three key changes that automation can bring about at the macro level:\\n\\nArtificial Intelligence isn’t just a fad. Tractica, a market research firm, published a report in 2016 that predicted “annual global revenue for artificial intelligence products and services will expand from 643.7 million in 2016 to $36.8 billion by 2025, a 57-fold increase over that time span.” As a result, it is the IT industry’s fastest-growing segment of any size.”\\n\\nThe reduction in need for people as a result of Artificial Intelligence and related technologies, which resulted in job layoffs, was a cause of fear. In India alone, job losses in the IT sector have reportedly reached 1,000 in the last year, owing to the integration of new and advanced technologies like artificial intelligence and machine learning.\\n\\nMost of the IT companies such as Infosys, Wipro, TCS, and Cognizant have reduced their employee base in India and are recruiting less, while engaging more personnel in the United States and investing heavily in “centres of innovation.” Artificial Intelligence and data science, which are currently the trending aspects that require fewer people and are primarily located abroad, aren’t helping the prospects of local employees. Another factor is that the computer industry is continuously growing and would develop to a size of two million workers. Unfortunately, it’s a drop in the bucket compared to what robots are doing to Information Technology’s less-skilled brothers.\\n\\nLarge e-commerce sites that used to be operated by armies of people are now manned by 200 robots produced by GreyOrange, which is an Indian company based out in Gurgaon. These indefatigable robots lift and stack boxes 24 hours a day, with only a 30-minute break for recharging, and have cut employees by up to 80%. For efficiency, this is a victory but a disaster for job prospects.\\n\\nInternal re-skilling and redeployment of staff is a critical requirement of the hour. Artificial intelligence has presented Indian policymakers with epistemological, scientific, and ethical issues. This requires us to abandon regular, linear, and non-disruptive mental patterns. The tale of artificial intelligence’s influence on individuals and their occupations will only be told over time. It is up to us to upskill ourselves and look for ways to stay current with the industry’s current trends and demands.\\n\\nSo, will machines be able to take over many of our jobs? The answer is a resounding yes. However, for every job that is taken over by robots, there will be an equal number of positions available for people to do. Some of these human vocations will be artistic in nature. Others will necessitate humans honing superhuman cognitive abilities. Humans and machines can form symbiotic relationships, assisting each other in doing what they do best. In the future, people and machines may be able to collaborate and work together towards a common goal for any business they work for.'"
      ]
     },
     "execution_count": 7,
     "metadata": {},
     "output_type": "execute_result"
    }
   ],
   "source": [
    "article.cleaned_text"
   ]
  },
  {
   "cell_type": "code",
   "execution_count": 8,
   "id": "824fc2d0",
   "metadata": {},
   "outputs": [],
   "source": [
    "from goose3 import Goose\n",
    "url42=\"https://insights.blackcoffer.com/man-and-machines-together-machines-are-more-diligent-than-humans-blackcoffe/\"\n",
    "goose= Goose()\n",
    "article=goose.extract(url42)"
   ]
  },
  {
   "cell_type": "code",
   "execution_count": 9,
   "id": "618fcf75",
   "metadata": {},
   "outputs": [
    {
     "data": {
      "text/plain": [
       "'Will machine replace the human in the future of work? | Blackcoffer Insights'"
      ]
     },
     "execution_count": 9,
     "metadata": {},
     "output_type": "execute_result"
    }
   ],
   "source": [
    "article.title"
   ]
  },
  {
   "cell_type": "code",
   "execution_count": 10,
   "id": "9dc23707",
   "metadata": {},
   "outputs": [
    {
     "data": {
      "text/plain": [
       "'Where is this disruptive technology taking us? Take it or leave it, disruptive technology always creates new jobs much more than depleted jobs. You might notice certain jobs disappearing but those jobs are the jobs that transform humans to robots, to machines, and the technology is creating machines to replace them. Technology creates the data analysis tools to manipulate and create custom scenarios using artificial intelligence (AI), Big Data and Machine Learning (ML) algorithms to predict and drive consumer behavior. Data Analytics tools, such as Google Analytics , and others are available today for free, and, if used correctly, can help organizations save millions, maybe billions of dollars of sales and marketing.\\n\\nBefore I go on, I think it’s best to level set on what constitutes machines. In the context of this article , machines describe computers and computerized equipment, like robots, that have been programmed to learn, sometimes like humans. Occasionally we call this Artificial Intelligence (AI), other times we call this machine learning, and still other times we call this robotics. And yes, these are technically different things. These bots are more efficient than humans in some specific domains and are growing smarter with each passing day. They can do some really tough tasks which are considered difficult for any human being. But, within the broad discussion related to the future of work, these are totally interrelated. Factory floors deploy robots that are increasingly driven by machine learning algorithms such that they can adjust to people working alongside them. A machine can work efficiently only it has abundant data and information about the work which is being imparted daily to them. But with every forward step & advancement in technology, a threat is proliferating, a threat of being replaced on our work front. Every passing day is sealing some jobs for humans all over the globe. Similarly, AI is being used to turn hand-drawn sketches (done by humans) into digital source code.\\n\\nRole of Machines in Companies and its future:\\n\\nCompanies are clearly developing their AI and robotics expertise with the idea that through these technological innovations they’ll be able to\\n• all of the above.\\n\\nOf course, it’s not just machines and creatives working together either. In another example, Amazon has employed more than 100,000 robots in its warehouses to efficiently move things around while it has increased its warehouse workforce by more than 80,000. Humans, in Amazon’s case, do the picking and packing of goods while robots move orders around the giant warehouses, essentially cutting “down on the walking required of workers, making Amazon pickers more efficient and less tired.” Plus, the robots “allow Amazon to pack shelves together like cars in rush-hour traffic because they no longer need aisle space for humans. The greater density of shelf space means more inventory under one roof, which means better selection for customers.”\\n\\nDuring the next few decades (or maybe sooner), the notion of work and whether it is handled by a human or a virtual being will hinge on predictability. As they are starting to do today, machines will manage the routine while humans take on the unpredictable – tasks that require creativity, problem-solving, and flexibility. In this context, robotics should be seen not only as a means to improve operations efficiency but also to improve the quality of life for workers.\\n\\nAlthough it is obvious that human factors involved in a work activity impact job automation, it is also true that highly repetitive tasks—and even mechanical ones—are ideal for robots. Besides greater efficiency and speed, automation leads to a lower risk of accidents, greater control and autonomy, and above all, fewer costs for organizations.\\n\\nAre Machines more diligent than humans?\\n\\nAlthough artificial intelligence and machine learning make us believe that robots are endowed with superior intelligence, in fact they don’t yet have the ability to learn from experience and to respond to unknowns. So as things stand, however much processing speed and automatic learning a robot has, it doesn’t beat factors innate to the human brain. Humans are still a very essential part of the process. Think about delivering services to a client. Most customer challenges are routine, but humans play a very important role in addressing new issues, solving them the first time they appear, and then consolidating the process into the system.\\n\\nMachines vs. Humans – Which is premium?\\n\\nWhile machines and humans are placed in proximity, robots can be expensive, but this doesn’t apply to all types, especially those based on Robotic Process Automation (RPA), where the development process incorporates algorithms that significantly reduce costs.\\n\\nMoreover, think of how domestic robots—be it a vacuum cleaner, a lawn mower or a pool cleaner—are increasingly part of our daily lives. This level of consumption that robotics has attained makes it affordable to automate tasks in modern homes to obtain greater control, security and comfort.\\n\\nThe division between humans and machines has been clear – I’m here, the machine is there – but that boundary is getting fuzzier. Smart prosthetics fuse seamlessly with our bodies, making up for lost limbs or providing additional strength, stability, or resilience, as seen in exoskeletons donned by assembly line workers.\\n\\nWe use our smartphones symbiotically, but what if they were integrated directly into our bodies? Think a smartphone in the form of a contact lens capable of transparently delivering augmented reality images straight to the brain. Think it sounds like science fiction? Think again. The first prototypes have already been built.\\n\\nSoon, brain-computer interfaces could become seamless as well, creating a new synergistic relationship between the cloud and us. At that point, the question of who knows what would be moot; you ask me a question and I know the answer. Sometimes that answer will be stored in my own neural circuitry, but most of the time it would come from the connection of my neurons to the web. Our brain’s decision process is influenced by the way it has been “educated” by the cultural context. These external factors are influencing our decision processes to the point that in certain situations, we can legitimately claim that influence has been so strong that our brains can’t be held accountable for the choices made. The point I’m trying to make is that we humans are in symbiosis with our cultural environment and the tools – both physical and conceptual – that we have been taught to use. My guess is that the transformation will be subtle.\\n\\nPractically speaking, robots growing to the point that they take over the world and then start creating smarter, better robots are impractical and should not even be a concern. None of this is expected in the near future, not by a long shot. If you’ve been to an ATM, waited for a PC to boot up after a catastrophic failure, or had a game crash on your X box just when you were about to reach a checkpoint, you understand that we are not in a world where machines do everything perfectly right. Before they can take over all of our jobs, they need to be able to do theirs’ flawlessly; until then, we can depend on humans to mess up our lives.\\n\\nThis isn’t a win-or-lose situation. We’re going to wind up as a partner to our smarter machines, and that partnership will be fostered by our augmentation through technology. Machines will play an essential role in this augmentation and, as with any successful technology, they will fall below our level of perception. In the end, the revolution will be silent and invisible.'"
      ]
     },
     "execution_count": 10,
     "metadata": {},
     "output_type": "execute_result"
    }
   ],
   "source": [
    "article.cleaned_text"
   ]
  },
  {
   "cell_type": "code",
   "execution_count": 11,
   "id": "eba278f9",
   "metadata": {},
   "outputs": [],
   "source": [
    "from goose3 import Goose\n",
    "url43=\"https://insights.blackcoffer.com/in-future-or-in-upcoming-years-humans-and-machines-are-going-to-work-together-in-every-field-of-work/\"\n",
    "goose= Goose()\n",
    "article=goose.extract(url43)"
   ]
  },
  {
   "cell_type": "code",
   "execution_count": 12,
   "id": "ec5dfb98",
   "metadata": {},
   "outputs": [
    {
     "data": {
      "text/plain": [
       "'How humans and machines are evolving to work together? | Blackcoffer Insights'"
      ]
     },
     "execution_count": 12,
     "metadata": {},
     "output_type": "execute_result"
    }
   ],
   "source": [
    "article.title"
   ]
  },
  {
   "cell_type": "code",
   "execution_count": 13,
   "id": "55447a4c",
   "metadata": {},
   "outputs": [
    {
     "data": {
      "text/plain": [
       "'In future or in upcoming years humans and machines are going to work together in every field of work. In upcoming days machines will be the need for every human being. Machines [AI technology] will do the work which humans are incapable of doing. Machines will partner and co-operate with humans.\\n\\nAccording to the professor at the university of Washington, he explained that, as a result of AI, there will be more demand for existing jobs and new jobs will be created that are unimaginable today. Human workers and machines will work together flawlessly, complementing each other. Machines will learn to carry out easier tasks such as following processes or crunching data. They will also help the humans while difficult. Machines or AI will create a great job opportunities for humans in future. John Kelly ll, executive vice president of IBM once said that “Man and Machines working together always beat or make a better decision than a man or a machine independently.”\\n\\nIn future, the three sectors of our country like agriculture sector, industrial sector and service sector are going to utilize the machines. So, that their work becomes not difficult. As of now, we can only see that for agriculture purposes various kinds of machines are used which we called as a modern farming method. Some major technologies [machines] that are harvest automation, autonomous tractors, seeding, and weeing and drones. As a result, farms can do agriculture peacefully. In the industrial sector also humans and machines are working together to increase production. Various types of machines are used in industries such as packing machines, loading machine etc. humans provide instructions to the machines and maintain the management in the company. Soon robots [machines] will assist doctors with surgeries. For instance, a doctor at remote location could direct a surgical robot to perform an open heart surgery. But the approaches option and decision will be left to experience and wisdom of the doctor not the robot.\\n\\nWhat do you think of machines if they will make humans less or more in the field? Machines will push human professionals up the skillset ladder into uniquely human skills such as creativity, social abilities, empathy, and sense-making, which machines cannot automate. As a result, machines will make the workplace more, not less for humans. However, humans have to learn new skills throughout their lives. It is said that in the future 80% of process-oriented tasks will be done by machines. Quantitative reasoning tasks will be done approximately 50% by humans and 50% by machines, while humans will continue to do more than 80% of cross-functional reasoning tasks. According to Harvard research machines, algorithms can read diagnostic scans with 92% accuracy. Humans can do it with 96% accuracy. Together, it will be 99% accurate.\\n\\nHuman-machine collaboration enables companies to interact with employees and customers in the novel, more effective ways. Smart machines are helping humans to expand their abilities in three ways. They can amplify our cognitive strengths; interact with customers and employees to free us from higher-level tasks, and embody human skills to extend our physical capabilities. In the research, it was found that 1,500 companies achieve the most significant performance improvement when humans and machines work together. New machine systems have beyond-human cognitive abilities, which many of us fear could potentially dehumanize the future of work. Machines will indeed automate most repetitive and physical tasks, and part of quantitative tasks such as programming and even data science. According to D.E Shaw Group and professor at the University of Washington, explained that, as a result of machines, there will be more demand for existing jobs, and new jobs will be created that are unimaginable today. This is similar to how we couldn’t imagine a web app developer decades ago, and now millions make a living doing that today.\\n\\nMachines are good at doing tasks with speed, precision, and accuracy. But machines are not very good at responding to unknown situations or making judgments. That part will be left to humans. Hence, the need for both humans and machines will be there in the future. Humans and machines have divergent skill sets that, when combined can transform the way we work. Machines have already every aspect of our lives, and we must learn to live with them. In the future, human workers will interact more closely with humans.'"
      ]
     },
     "execution_count": 13,
     "metadata": {},
     "output_type": "execute_result"
    }
   ],
   "source": [
    "article.cleaned_text"
   ]
  },
  {
   "cell_type": "code",
   "execution_count": 16,
   "id": "aa954cdf",
   "metadata": {},
   "outputs": [
    {
     "ename": "NetworkError",
     "evalue": "NetworkError: status code: Not Found; reason: 404",
     "output_type": "error",
     "traceback": [
      "\u001b[1;31m---------------------------------------------------------------------------\u001b[0m",
      "\u001b[1;31mNetworkError\u001b[0m                              Traceback (most recent call last)",
      "Cell \u001b[1;32mIn[16], line 4\u001b[0m\n\u001b[0;32m      2\u001b[0m url44\u001b[38;5;241m=\u001b[39m\u001b[38;5;124m\"\u001b[39m\u001b[38;5;124mhttps://insights.blackcoffer.com/how-neural-networks-can-be-applied-in-various-areas-in-the-future/\u001b[39m\u001b[38;5;124m\"\u001b[39m\n\u001b[0;32m      3\u001b[0m goose\u001b[38;5;241m=\u001b[39m Goose()\n\u001b[1;32m----> 4\u001b[0m article\u001b[38;5;241m=\u001b[39m\u001b[43mgoose\u001b[49m\u001b[38;5;241;43m.\u001b[39;49m\u001b[43mextract\u001b[49m\u001b[43m(\u001b[49m\u001b[43murl44\u001b[49m\u001b[43m)\u001b[49m\n",
      "File \u001b[1;32m~\\f1\\lib\\site-packages\\goose3\\__init__.py:125\u001b[0m, in \u001b[0;36mGoose.extract\u001b[1;34m(self, url, raw_html)\u001b[0m\n\u001b[0;32m    122\u001b[0m     \u001b[38;5;28;01mraise\u001b[39;00m \u001b[38;5;167;01mValueError\u001b[39;00m(\u001b[38;5;124m\"\u001b[39m\u001b[38;5;124mEither url or raw_html should be provided\u001b[39m\u001b[38;5;124m\"\u001b[39m)\n\u001b[0;32m    124\u001b[0m crawl_candidate \u001b[38;5;241m=\u001b[39m CrawlCandidate(\u001b[38;5;28mself\u001b[39m\u001b[38;5;241m.\u001b[39mconfig, url, raw_html)\n\u001b[1;32m--> 125\u001b[0m \u001b[38;5;28;01mreturn\u001b[39;00m \u001b[38;5;28;43mself\u001b[39;49m\u001b[38;5;241;43m.\u001b[39;49m\u001b[43m__crawl\u001b[49m\u001b[43m(\u001b[49m\u001b[43mcrawl_candidate\u001b[49m\u001b[43m)\u001b[49m\n",
      "File \u001b[1;32m~\\f1\\lib\\site-packages\\goose3\\__init__.py:153\u001b[0m, in \u001b[0;36mGoose.__crawl\u001b[1;34m(self, crawl_candidate)\u001b[0m\n\u001b[0;32m    151\u001b[0m parsers \u001b[38;5;241m=\u001b[39m \u001b[38;5;28mlist\u001b[39m(\u001b[38;5;28mself\u001b[39m\u001b[38;5;241m.\u001b[39mconfig\u001b[38;5;241m.\u001b[39mavailable_parsers)\n\u001b[0;32m    152\u001b[0m parsers\u001b[38;5;241m.\u001b[39mremove(\u001b[38;5;28mself\u001b[39m\u001b[38;5;241m.\u001b[39mconfig\u001b[38;5;241m.\u001b[39mparser_class)\n\u001b[1;32m--> 153\u001b[0m \u001b[38;5;28;01mreturn\u001b[39;00m \u001b[43mcrawler_wrapper\u001b[49m\u001b[43m(\u001b[49m\u001b[38;5;28;43mself\u001b[39;49m\u001b[38;5;241;43m.\u001b[39;49m\u001b[43mconfig\u001b[49m\u001b[38;5;241;43m.\u001b[39;49m\u001b[43mparser_class\u001b[49m\u001b[43m,\u001b[49m\u001b[43m \u001b[49m\u001b[43mparsers\u001b[49m\u001b[43m,\u001b[49m\u001b[43m \u001b[49m\u001b[43mcrawl_candidate\u001b[49m\u001b[43m)\u001b[49m\n",
      "File \u001b[1;32m~\\f1\\lib\\site-packages\\goose3\\__init__.py:141\u001b[0m, in \u001b[0;36mGoose.__crawl.<locals>.crawler_wrapper\u001b[1;34m(parser, parsers, crawl_candidate)\u001b[0m\n\u001b[0;32m    139\u001b[0m \u001b[38;5;28;01mtry\u001b[39;00m:\n\u001b[0;32m    140\u001b[0m     crawler \u001b[38;5;241m=\u001b[39m Crawler(\u001b[38;5;28mself\u001b[39m\u001b[38;5;241m.\u001b[39mconfig, \u001b[38;5;28mself\u001b[39m\u001b[38;5;241m.\u001b[39mfetcher)\n\u001b[1;32m--> 141\u001b[0m     article \u001b[38;5;241m=\u001b[39m \u001b[43mcrawler\u001b[49m\u001b[38;5;241;43m.\u001b[39;49m\u001b[43mcrawl\u001b[49m\u001b[43m(\u001b[49m\u001b[43mcrawl_candidate\u001b[49m\u001b[43m)\u001b[49m\n\u001b[0;32m    142\u001b[0m \u001b[38;5;28;01mexcept\u001b[39;00m (\u001b[38;5;167;01mUnicodeDecodeError\u001b[39;00m, \u001b[38;5;167;01mValueError\u001b[39;00m) \u001b[38;5;28;01mas\u001b[39;00m ex:\n\u001b[0;32m    143\u001b[0m     logger\u001b[38;5;241m.\u001b[39merror(\u001b[38;5;124m\"\u001b[39m\u001b[38;5;124mParser \u001b[39m\u001b[38;5;132;01m%s\u001b[39;00m\u001b[38;5;124m failed to parse the content\u001b[39m\u001b[38;5;124m\"\u001b[39m, parser)\n",
      "File \u001b[1;32m~\\f1\\lib\\site-packages\\goose3\\crawler.py:128\u001b[0m, in \u001b[0;36mCrawler.crawl\u001b[1;34m(self, crawl_candidate)\u001b[0m\n\u001b[0;32m    125\u001b[0m parse_candidate \u001b[38;5;241m=\u001b[39m \u001b[38;5;28mself\u001b[39m\u001b[38;5;241m.\u001b[39mget_parse_candidate(crawl_candidate)\n\u001b[0;32m    127\u001b[0m \u001b[38;5;66;03m# raw html\u001b[39;00m\n\u001b[1;32m--> 128\u001b[0m raw_html \u001b[38;5;241m=\u001b[39m \u001b[38;5;28;43mself\u001b[39;49m\u001b[38;5;241;43m.\u001b[39;49m\u001b[43mget_html\u001b[49m\u001b[43m(\u001b[49m\u001b[43mcrawl_candidate\u001b[49m\u001b[43m,\u001b[49m\u001b[43m \u001b[49m\u001b[43mparse_candidate\u001b[49m\u001b[43m)\u001b[49m\n\u001b[0;32m    130\u001b[0m \u001b[38;5;28;01mif\u001b[39;00m raw_html \u001b[38;5;129;01mis\u001b[39;00m \u001b[38;5;28;01mNone\u001b[39;00m:\n\u001b[0;32m    131\u001b[0m     logger\u001b[38;5;241m.\u001b[39mwarning(\u001b[38;5;124m\"\u001b[39m\u001b[38;5;124mNo raw_html is provided or could be fetched; continuing with an empty Article object\u001b[39m\u001b[38;5;124m\"\u001b[39m)\n",
      "File \u001b[1;32m~\\f1\\lib\\site-packages\\goose3\\crawler.py:264\u001b[0m, in \u001b[0;36mCrawler.get_html\u001b[1;34m(self, crawl_candidate, parsing_candidate)\u001b[0m\n\u001b[0;32m    262\u001b[0m \u001b[38;5;66;03m# fetch HTML\u001b[39;00m\n\u001b[0;32m    263\u001b[0m logger\u001b[38;5;241m.\u001b[39mdebug(\u001b[38;5;124m\"\u001b[39m\u001b[38;5;124mFetching html from \u001b[39m\u001b[38;5;132;01m%s\u001b[39;00m\u001b[38;5;124m\"\u001b[39m, crawl_candidate\u001b[38;5;241m.\u001b[39murl)\n\u001b[1;32m--> 264\u001b[0m response \u001b[38;5;241m=\u001b[39m \u001b[38;5;28;43mself\u001b[39;49m\u001b[38;5;241;43m.\u001b[39;49m\u001b[43mfetcher\u001b[49m\u001b[38;5;241;43m.\u001b[39;49m\u001b[43mfetch_obj\u001b[49m\u001b[43m(\u001b[49m\u001b[43mparsing_candidate\u001b[49m\u001b[38;5;241;43m.\u001b[39;49m\u001b[43murl\u001b[49m\u001b[43m)\u001b[49m\n\u001b[0;32m    265\u001b[0m \u001b[38;5;28;01mif\u001b[39;00m response\u001b[38;5;241m.\u001b[39mencoding \u001b[38;5;241m!=\u001b[39m \u001b[38;5;124m\"\u001b[39m\u001b[38;5;124mISO-8859-1\u001b[39m\u001b[38;5;124m\"\u001b[39m:  \u001b[38;5;66;03m# requests has a good idea; use what it says\u001b[39;00m\n\u001b[0;32m    266\u001b[0m     \u001b[38;5;66;03m# return response as a unicode string\u001b[39;00m\n\u001b[0;32m    267\u001b[0m     html \u001b[38;5;241m=\u001b[39m response\u001b[38;5;241m.\u001b[39mtext\n",
      "File \u001b[1;32m~\\f1\\lib\\site-packages\\goose3\\network.py:65\u001b[0m, in \u001b[0;36mNetworkFetcher.fetch_obj\u001b[1;34m(self, url)\u001b[0m\n\u001b[0;32m     63\u001b[0m     \u001b[38;5;28mself\u001b[39m\u001b[38;5;241m.\u001b[39m_url \u001b[38;5;241m=\u001b[39m \u001b[38;5;28;01mNone\u001b[39;00m\n\u001b[0;32m     64\u001b[0m     \u001b[38;5;28;01mif\u001b[39;00m \u001b[38;5;28mself\u001b[39m\u001b[38;5;241m.\u001b[39mconfig\u001b[38;5;241m.\u001b[39mstrict:\n\u001b[1;32m---> 65\u001b[0m         \u001b[38;5;28;01mraise\u001b[39;00m NetworkError(response\u001b[38;5;241m.\u001b[39mstatus_code, response\u001b[38;5;241m.\u001b[39mreason)\n\u001b[0;32m     67\u001b[0m \u001b[38;5;28;01mreturn\u001b[39;00m response\n",
      "\u001b[1;31mNetworkError\u001b[0m: NetworkError: status code: Not Found; reason: 404"
     ]
    }
   ],
   "source": [
    "from goose3 import Goose\n",
    "url44=\"https://insights.blackcoffer.com/how-neural-networks-can-be-applied-in-various-areas-in-the-future/\"\n",
    "goose= Goose()\n",
    "article=goose.extract(url44)"
   ]
  },
  {
   "cell_type": "code",
   "execution_count": 17,
   "id": "b6c6cfc1",
   "metadata": {},
   "outputs": [],
   "source": [
    "from goose3 import Goose\n",
    "url45=\"https://insights.blackcoffer.com/how-machine-learning-will-affect-your-business/\"\n",
    "goose= Goose()\n",
    "article=goose.extract(url45)"
   ]
  },
  {
   "cell_type": "code",
   "execution_count": 18,
   "id": "71f22c3b",
   "metadata": {},
   "outputs": [
    {
     "data": {
      "text/plain": [
       "'How machine learning will affect your business? | Blackcoffer Insights'"
      ]
     },
     "execution_count": 18,
     "metadata": {},
     "output_type": "execute_result"
    }
   ],
   "source": [
    "article.title"
   ]
  },
  {
   "cell_type": "code",
   "execution_count": 19,
   "id": "ed003ff9",
   "metadata": {},
   "outputs": [
    {
     "data": {
      "text/plain": [
       "'Machine learning techniques may have been used for years, but recently there has been an explosion in their applications. In fact, in a recent Q3 earnings call, Google CEO Sundar Pichai said “Machine learning is a core, transformative way by which we’re re-thinking how we’re doing everything.” And they’re far from the only business making that claim.\\n\\nIn the past, successful use of machine learning algorithms required bespoke algorithms and huge R&D budgets, but all that is changing. IBM Watson, Microsoft Azure, Amazon, and Alibaba all launched turnkey cloud-based machine-learning SaaS solutions in 2015. At the same time startups like Idibon, MetaMind, Dato, and MonkeyLearn have built machine learning products that companies can take advantage of.\\n\\nGartner already puts machine learning at the top of its hype curve, and no: machine learning won’t replace all of your employees with computers or suddenly double your revenue. But that doesn’t mean that it can’t give every business a competitive advantage. There are plenty of business processes that can significantly benefit from machine learning. So how does machine learning change the way businesses operate?\\n\\nFirst thing’s first: Machine learning needs training data and training data costs money. Especially training data labeled by humans. Let me explain. To make machine learning work for business, the algorithm needs to see lots and lots of examples of what it’s supposed to be doing. If you want an algorithm to tell you if a sales lead is good, you need to show it lots and lots of examples of good sales leads and bad sales leads. If you want an algorithm to tag the support tickets you need to show it many examples of support tickets. If you localize your algorithm to a new language you probably need to collect lots of examples in that language. In some instances, a company may have those training sets in-house. For example, a bunch of disqualified or qualified leads. But say you haven’t labeled each of your support tickets as they’ve come in over the year. You’d need to have people either in-house or en masse via a data enrichment platform -label those tickets. The machine will then look at those judgments and start finding connections and patterns it can learn from.\\n\\nMachine learning is much cheaper and more efficient than people when it works well. The downside is that it often works well in 80 percent of the cases and badly in 20 percent of the cases, and lowering the 20 percent error rate is hard, if not impossible. But even an 80 percent accurate algorithm can save you a lot of money because good machine learning algorithms know where they are accurate and where they are more likely to have errors. Smart companies take the cases where the algorithm has high confidence and uses those directly while sending low confidence cases to humans. Banks have been doing this for years. When you put a check in an ATM, an algorithm tries to decipher the numbers on the check. If you have really sloppy handwriting or the ink is smudged the algorithm passes the task to a human. This design pattern saves banks lots of money while preserving a very high level of accuracy.\\n\\nYour costs will drop over time\\n\\nA huge benefit of machine learning is that it can turn part of your variable cost into more of a fixed cost. If you use humans to handle cases where that algorithm is struggling, you are creating the perfect training data to feed into your algorithm. This is a well-studied technique called active learning it turns out that training data labels collected on cases where the algorithm has low confidence help the algorithm learn much, much more efficiently.\\n\\nAs the algorithm becomes increasingly more accurate, the unit economics of your business process become better and as machine learning becomes able to handle more cases, the expensive humans are only called in on the toughest, rarest situations. That means you use the best of both human and machine intelligence in tandem: leveraging the speed and reliability of computers for the easy judgments and the fluency and expertise of humans for the difficult ones. And if that sounds like smart business, it’s because it is.'"
      ]
     },
     "execution_count": 19,
     "metadata": {},
     "output_type": "execute_result"
    }
   ],
   "source": [
    "article.cleaned_text"
   ]
  },
  {
   "cell_type": "code",
   "execution_count": 20,
   "id": "e81de40d",
   "metadata": {},
   "outputs": [],
   "source": [
    "from goose3 import Goose\n",
    "url46=\"https://insights.blackcoffer.com/deep-learning-impact-on-areas-of-e-learning/\"\n",
    "goose= Goose()\n",
    "article=goose.extract(url46)"
   ]
  },
  {
   "cell_type": "code",
   "execution_count": 22,
   "id": "399a8af4",
   "metadata": {},
   "outputs": [
    {
     "data": {
      "text/plain": [
       "'Deep learning impact on areas of e-learning? | Blackcoffer Insights'"
      ]
     },
     "execution_count": 22,
     "metadata": {},
     "output_type": "execute_result"
    }
   ],
   "source": [
    "article.title\n"
   ]
  },
  {
   "cell_type": "code",
   "execution_count": 23,
   "id": "794364f5",
   "metadata": {},
   "outputs": [
    {
     "data": {
      "text/plain": [
       "'eLearning as technology becomes more affordable in higher education but having a big barrier in the cost of developing its resources. Deep learning using artificial intelligence continues to become more and more popular and having impacts on many areas of eLearning. It offers online learners of the future intuitive algorithms and automated delivery of eLearning content through modern LMS platforms. This paper aims to survey various applications of deep learning approaches for developing the resources of the eLearning platform, in which predictions, algorithms, and analytics come together to create more personalized future eLearning experiences. In addition, deep learning models for developing the contents of the eLearning platform, deep learning framework that enable deep learning systems into eLearning and its development, benefits & future trends of deep learning in eLearning, the relevant deep learning-based artificial intelligence tools, and a platform enabling the developer and learners to quickly reuse resources are clearly summarized. Thus, deep learning has evolved into developing ways to re-purpose existing resources that can mitigate the expense of content development of future eLearning.\\n\\nIt is natural to wonder where you might get AI tools to avoid the time and expense of developing your own. Don’t worry about the advert of AIaaS or “AI as a Service” even small education or learning & development professionals can purchase the license of AI tools and components. However, such types of tools cannot be useful for every e-learning ecosystem but may offer some enticing benefits such as adding standard AI tasks (logic, decision making) to your toolbox. Here are some of the AIaaS tools and platforms offered by famous tech giants most of which are cloud-based.\\n\\nCloud-based AI services that can be used to build and manage AI applications like image recognition or bot-based apps\\n\\nCloud-based AI services that can be integrated into your applications; to store and manage your own data\\n\\nOffers a wide range of products and services on Amazon’s cloud\\n\\nThere are other AIaaS platforms such as DataRobot, Petuum, and H2O which shows that the field is expanding.AI will probably not make human workers obsolete, at least not for a long time To put some of your fears to bed: the robots are probably not coming for your jobs, at least not yet. Given how artificial intelligence has been portrayed in the media, in particular in some of our favorite sci-fi movies, it’s clear that the advent of this technology has created fear that AI will one day make human beings obsolete in the workforce. After all, as technology has advanced, many tasks that were once executed by human hands have become automated. It’s only natural to fear that the leap toward creating intelligent computers could herald the beginning of the end of work as we know it. But, I don’t think there is any reason to be so fatalistic. A recent paper published by the MIT Task Force on the Work of the Future entitled “Artificial Intelligence And The Future of Work,” looked closely at developments in AI and their relation to the world of work. The paper paints a more optimistic picture.\\n\\nRather than promoting the obsolescence of human labor, the paper predicts that AI will continue to drive massive innovation that will fuel many existing industries and could have the potential to create many new sectors for growth, ultimately leading to the creation of more jobs. While AI has made major strides toward replicating the efficacy of human intelligence in executing certain tasks, there are still major limitations. In particular, AI programs are typically only capable of “specialized” intelligence, meaning they can solve only one problem, and execute only one task at a time. Often, they can be rigid, and unable to respond to any changes in input, or perform any “thinking” outside of their prescribed programming. Humans, however, possess “generalized intelligence,” with the kind of problem-solving, abstract thinking, and critical judgment that will continue to be important in business. Human judgment will be relevant, if not in every task, then certainly throughout every level across all sectors. There are many other factors that could limit runaway advancement in AI. AI often requires “learning” which can involve massive amounts of data, calling into question the availability of the right kind of data, and highlighting the need for categorization and issues of privacy and security around such data. There is also the limitation of computation and processing power. The cost of electricity alone to power one supercharged language model AI was estimated at $4.6 million. Another important limitation of note is that data can itself carry bias, and be reflective of societal inequities or the implicit biases of the designers who create and input the data. If there is bias in the data that is inputted into an AI, this bias is likely to carry over to the results generated by the AI.\\n\\nThere has even been a bill introduced into Congress entitled the Algorithmic Accountability Act with the goal of forcing the Federal Trade Commission to investigate the use of any new AI technology for the potential to perpetuate bias. Based on these factors and many others, the MIT CCI paper argues that we are a long way from reaching a point in which AI is comparable to human intelligence, and could theoretically replace human workers entirely. Provided there is an investment at all levels, from education to the private sector and governmental organizations—anywhere that focuses on training and upskilling workers—AI has the potential to ultimately create more jobs, not less. The question should then become not “humans or computers” but “humans and computers” involved in complex systems that advance industry and prosperity. This paper is a fascinating read for anyone hoping to dive deeper into AI and the many potential directions in which it may lead.AI Is becoming standard in all businesses, not just in the world of tech A couple of times recently, AI has come up in conversation with a client or an associate, and I’m noticing a fallacy in how people are thinking about it. There seems to be a sense for many that it is a phenomenon that is only likely to have big impacts in the tech world. In case you hadn’t noticed, the tech world is the world these days. Don’t ever forget when economist Paul Krugman said in 1998 that “By 2005 or so, it will become clear that the Internet’s impact on the economy has been no greater than the fax machine’s.” You definitely don’t want to be behind the curve when it comes to AI. In fact, 90% of leading businesses already have ongoing investments in AI technologies. More than half of businesses that have implemented some manner of AI-driven technology report experiencing greater productivity. AI is likely to have a strong impact on certain sectors in particular:\\n\\nThe potential benefits of utilizing AI in the field of medicine are already being explored. The medical industry has a robust amount of data, which can be utilized to create predictive models related to healthcare. Additionally, AI has shown to be more effective than physicians in certain diagnostic contexts.\\n\\nWe’re already seeing how AI is impacting the world of transportation and automobiles with the advent of autonomous vehicles and autonomous navigation. AI will also have a major impact on manufacturing, including within the automotive sector.\\n\\nCybersecurity is front of mind for many business leaders, especially considering the spike in cybersecurity breaches throughout 2020. Attacks rose 600% during the pandemic as hackers capitalized on people working from home, on less secure technological systems, and Wi-Fi networks. AI and machine learning will be critical tools in identifying and predicting threats in cybersecurity. AI will also be a crucial asset for security in the world of finance, given that it can process large amounts of data to predict and catch instances of fraud.\\n\\nAI will play a pivotal role in e-commerce in the future, in every sector of the industry from user experience to marketing to fulfillment and distribution. We can expect that moving forward, AI will continue to drive e-commerce, including through the use of chat-bots, shopper personalization, image-based targeting advertising, and warehouse and inventory automation.\\n\\nAI can have a big impact on the job search\\n\\nIf you are moving forward with the hope that a hiring manager may give you the benefit of the doubt on a small misstep within the application, you might be in for a rude awakening. AI already plays a major role in the hiring process, so much so that up to 75% of resumes are rejected by an automated applicant tracking system, or ATS before they even reach a human being. In the past, recruiters have had to devote considerable time to poring over resumes to look for relevant candidates. Data from LinkedIn shows that recruiters can spend up to 23 hours looking over resumes for one successful hire.\\n\\nIncreasingly, however, resume scanning is being done by AI-powered programs. In 2018, 67% of hiring managers stated that AI was making their jobs easier. Despite the increasing prevalence of automation and algorithms in the hiring process, many have been critical of the use of certain types of AI by hiring managers, based on the charge that it can perpetuate and ever create more bias in hiring. One particular example is illustrated by HireVue, a startup whose initial services included technology that aimed to use facial recognition software and psychology to determine the potential effectiveness of a candidate in a certain role. The Electronic Privacy Information Center filed a lawsuit with the Federal Trade Commission alleging that this software had the potential to perpetuate bias and prejudice. HireVue discontinued the use of facial recognition software in early 2021, and now uses audio analysis and natural language processing. It’s clear that the use of certain types of AI in the hiring process will likely be controversial as new technology develops. However, if potential employers are using AI to process your application, there is no reason that you cannot be utilizing similar technology to your advantage.\\n\\nJobscan is an excellent resource that provides similar resume scanning to what would be used by a hiring manager. By comparing your resume to a job description, Jobscan will give you information on how to tweak your resume so that it is a good match for a certain position, with the goal of “beating” an applicant tracking system (ATS).\\n\\nJobseer is a browser add-on, and another great AI-based tool for those on the job market. Based on a scan of your resume, as well as keywords and skills related to your desired jobs, Jobseer will help match you with the job listings that best fit your experience. For each listing, you get a rating based on how well you are aligned with the particular posting, as well as recommendations of skills to add to better position your resume and experience.\\n\\nRezi: Now, as a disclaimer, I would never encourage you to turn your resume writing over to a bot. But Rezi is an awesome AI-based resume builder that includes templates to help you design a resume that is sure to check the boxes when it comes to applicant tracking systems. This is a great jumping-off point to kickstart a new resume. Another great way to use this type of tool is to generate a new resume and compare it to your current resume to see how it stacks up, and identify some areas for improvement. AI is also a great place to focus your energy if you are looking to upskill in your career, or make your professional profile more competitive in the job market, especially when you consider that AI will have such far-reaching impacts across many industries.AI and machine learning are at the top of many lists of the most important skills in today’s job market. Jobs requesting AI or machine-learning skills are expected to increase by 71% in the next five years. If you’d like to expand your knowledge base in this arena, consider some of the great free online course offerings that focus on AI skills. If you are tech-savvy, it would be wise to dive deep and learn as much as you can about interacting in the AI space. If your skills lie elsewhere, it is important to recognize that AI will have a big impact, and to the extent of your abilities, you should try to understand the fundamentals of how it functions in different sectors. AI is definitely here to stay, whether we like it or not. Personally, I don’t think we have anything to be afraid of. The best way to move forward is to be aware of and adapt to the new technology around us, AI included. This article was updated on April 16, 2021, to reflect changes in HireVue’s assessment tools.'"
      ]
     },
     "execution_count": 23,
     "metadata": {},
     "output_type": "execute_result"
    }
   ],
   "source": [
    "article.cleaned_text"
   ]
  },
  {
   "cell_type": "code",
   "execution_count": 24,
   "id": "1b632709",
   "metadata": {},
   "outputs": [],
   "source": [
    "from goose3 import Goose\n",
    "url47=\"https://insights.blackcoffer.com/how-to-protect-future-data-and-its-privacy-blackcoffer/\"\n",
    "goose= Goose()\n",
    "article=goose.extract(url47)"
   ]
  },
  {
   "cell_type": "code",
   "execution_count": 25,
   "id": "de96fea7",
   "metadata": {},
   "outputs": [
    {
     "data": {
      "text/plain": [
       "'How to protect future data and its privacy? | Blackcoffer Insights'"
      ]
     },
     "execution_count": 25,
     "metadata": {},
     "output_type": "execute_result"
    }
   ],
   "source": [
    "article.title"
   ]
  },
  {
   "cell_type": "code",
   "execution_count": 26,
   "id": "37413a39",
   "metadata": {},
   "outputs": [
    {
     "data": {
      "text/plain": [
       "'Before the internet, information was in some ways restricted and more centralized. The only mediums of information were books, newspapers, and word of mouth, etc. But now with the advent of the internet and improvements to computer technology (Moore’s Law), information and data skyrocketed, and it has become this open-system, where information can be distributed to people without any kind of limits.\\n\\nVarious publicly available tools have taken the rocket science out of encrypting (and decrypting) email and files. Data encryption isn’t just for technology geeks; modern tools make it possible for anyone to encrypt emails and other information. “Encryption used to be the sole province of geeks and mathematicians, but a lot has changed in recent years. In particular, various publicly available tools have taken the rocket science out of encrypting (and decrypting) email and files. GPG for Mail, for example, is an open-source plug-in for the Apple Mail program that makes it easy to encrypt, decrypt, sign and verify emails using the OpenPGP standard. And for protecting files, newer versions of Apple’s OS X operating system come with FileVault, a program that encrypts the hard drive of a computer. Those running Microsoft Windows have a similar program. This software will scramble your data, but won’t protect you from government authorities demanding your encryption key under the Regulation of Investigatory Powers Act (2000), which is why some aficionados recommend TrueCrypt, a program with some very interesting facilities, which might have been useful to David Miranda,” explains John Naughton in an article for The Guardian.\\n\\nOne of the most basic, yet often overlooked, data protection tips is backing up your data. Basically, this creates a duplicate copy of your data so that if a device is lost, stolen, or compromised, you don’t also lose your important information. As the U.S. Chamber of Commerce and insurance company Nationwide points out, “According to Nationwide, 68% of small businesses don’t have a disaster recovery plan. The problem with this is the longer it takes you to restore your data, the more money you’ll lose. Gartner found that this downtime can cost companies as much as $300,000 an hour.”\\n\\nWhile you should use sound security practices when you’re making use of the cloud, it can provide an ideal solution for backing up your data. Since data is not stored on a local device, it’s easily accessible even when your hardware becomes compromised. “Cloud storage, where data is kept offsite by a provider, is a guarantee of adequate disaster recovery,” according to this post on TechRadar. Twitter: @techradar\\n\\nScammers are sneaky: sometimes malware is cleverly disguised as an email from a friend or a useful website. Malware is a serious issue plaguing many computer users, and it’s known for cropping up in inconspicuous places, unbeknownst to users. Anti-malware protection is essential for laying a foundation of security for your devices. “Malware (short for malicious software) is software designed to infiltrate or damage a computer without your consent. Malware includes computer viruses, worms, trojan horses, spyware, scareware, and more. It can be present on websites and emails or hidden in downloadable files, photos, videos, freeware, or shareware. (However, it should be noted that most websites, shareware, or freeware applications do not come with malware.) The best way to avoid getting infected is to run a good anti-virus protection program, do periodic scans for spyware, avoid clicking on suspicious email links or websites. But scammers are sneaky: sometimes malware is cleverly disguised as an email from a friend or a useful website. Even the most cautious of web-surfers will likely pick up an infection at some point.,” explains Clark Howard. Twitter: @ClarkHoward\\n\\nMuch information can be gleaned through old computing devices, but you can protect your personal data by making hard drives unreadable before disposing of them. “Make old computers’ hard drives unreadable. After you back up your data and transfer the files elsewhere, you should sanitize by disk shredding, magnetically cleaning the disk, or using software to wipe the disk clean. Destroy old computer disks and backup tapes,” according to the Florida Office of the Attorney General. Twitter: @AGPamBondi\\n\\nOperating system updates are a gigantic pain for users; it’s the honest truth. But they’re a necessary evil, as these updates contain critical security patches that will protect your computer from recently discovered threats. Failing to install these updates means your computer is at risk. “No matter which operating system you use, it’s important that you update it regularly. Windows operating systems are typically updated at least monthly, typically on so-called ‘Patch Tuesday.’ Other operating systems may not be updated quite as frequently or on a regular schedule. It’s best to set your operating system to update automatically. The method for doing so will vary depending upon your particular operating system,” says PrivacyRights.org. Twitter: @PrivacyToday\\n\\nMany software programs will automatically connect and update to defend against known risks.\\n\\nIn order to ensure that you’re downloading the latest security updates from operating systems and other software, enable automatic updates. “Many software programs will automatically connect and update to defend against known risks. Turn on automatic updates if that’s an available option,” suggests StaySafeOnline.org. Twitter: @StaySafeOnline\\n\\nSecure your wireless network at your home or business.\\n\\nA valuable tip for both small business owners and individuals or families, it’s always recommended to secure your wireless network with a password. This prevents unauthorized individuals within proximity to hijack your wireless network. Even if they’re merely attempting to get free Wi-Fi access, you don’t want to inadvertently share private information with other people who are using your network without permission. “If you have a Wi-Fi network for your workplace, make sure it is secure, encrypted, and hidden. To hide your Wi-Fi network, set up your wireless access point or router so it does not broadcast the network name, known as the Service Set Identifier (SSID). Password protect access to the router,” says FCC.gov in an article offering data protection tips for small businesses. Twitter: @FCC\\n\\nWhen you’re finished using your computer or laptop, power it off. Leaving computing devices on, and most often, connected to the Internet, opens the door for rogue attacks. “Leaving your computer connected to the Internet when it’s not in use gives scammers 24/7 access to install malware and commit cybercrimes. To be safe, turn off your computer when it’s not in use,” suggests CSID, a division of Experian. Twitter: @ExperianPS_NA\\n\\nFirewalls assist in blocking dangerous programs, viruses, or spyware before they infiltrate your system.”Firewalls assist in blocking dangerous programs, viruses, or spyware before they infiltrate your system. Various software companies offer firewall protection, but hardware-based firewalls, like those frequently built into network routers, provide a better level of security,” says Geek Squad. Twitter: @GeekSquad\\n\\nPractice the Principle of Least Privilege (PoLP).\\n\\nIndiana University Information Technology recommends following the Principle of Least Privilege (PoLP): “Do not log into a computer with administrator rights unless you must do so to perform specific tasks. Running your computer as an administrator (or as a Power User in Windows) leaves your computer vulnerable to security risks and exploits. Simply visiting an unfamiliar Internet site with these high-privilege accounts can cause extreme damage to your computer, such as reformatting your hard drive, deleting all your files, and creating a new user account with administrative access. When you do need to perform tasks as an administrator, always follow security procedures.” Twitter: @IndianaUniv\\n\\nUse “passphrases” rather than “passwords.”\\n\\nWhat’s the difference? “…we recommend you use passphrases–a series of random words or a sentence. The more characters your passphrase has, the stronger it is. The advantage is these are much easier to remember and type, but still hard for cyber attackers to hack.” explains SANS. Twitter: @SANSAwareness\\n\\nEncrypt data on your USB drives and SIM cards.\\n\\nEncrypt your SIM card in case your phone is ever stolen, or take it out if you are selling your old cell phone. Encrypting your data on your removable storage devices can make it more difficult (albeit not impossible) for criminals to interpret your personal data should your device become lost or stolen. USB drives and SIM cards are excellent examples of removable storage devices that can simply be plugged into another device, enabling the user to access all the data stored on it. Unless, of course, it’s encrypted. “Your USB drive could easily be stolen and put into another computer, where they can steal all of your files and even install malware or viruses onto your flash drive that will infect any computer it is plugged in to. Encrypt your SIM card in case your phone is ever stolen, or take it out if you are selling your old cell phone,” according to Mike Juba in an article on Business2Community. Twitter: @EZSolutionCorp\\n\\nDon’t store passwords with your laptop or mobile device.\\n\\nA Post-It note stuck to the outside of your laptop or tablet is “akin to leaving your keys in your car,” says The Ohio State University’s Office of the Chief Information Officer. Likewise, you shouldn’t leave your laptop in your car. It’s a magnet for identity thieves. Twitter: @OhioState\\n\\nDisable file and media sharing if you don’t need it.\\n\\nIf you don’t really need your files to be visible to other machines, disable file and media sharing completely. If you have a home wireless network with multiple devices connected, you might find it convenient to share files between machines. However, there’s no reason to make files publicly available if it’s not necessary. “Make sure that you share some of your folders only on the home network. If you don’t really need your files to be visible to other machines, disable file and media sharing completely,” says Kaspersky. Twitter: @kaspersky\\n\\nHowToGeek offers a series of articles with tips, tricks, and tools for encrypting files or sets of files using various programs and tools. This article covers a method for creating an encrypted volume to easily transport private, sensitive data for access on multiple computers. Twitter: @howtogeeksite\\n\\nDeleting your information on a computing device rarely means it’s truly deleted permanently. Often, this data still exists on disk and can be recovered by someone who knows what they’re doing (such as, say, a savvy criminal determined to find your personal information). The only way to really ensure that your old data is gone forever is to overwrite it. Luckily, there are tools to streamline this process. PCWorld covers a tool and process for overwriting old data on Windows operating systems. Twitter: @pcworld\\n\\nDon’t forget to delete old files from cloud backups.\\n\\nIf you back up your files to the cloud, remember that even though you delete them on your computer or mobile device, they’re still stored in your cloud account. If you’re diligent about backing up your data and use a secure cloud storage service to do so, you’re headed in the right direction. That said, cloud backups, and any data backups really, create an added step when it comes to deleting old information. Don’t forget to delete files from your backup services in addition to those you remove (or overwrite) on your local devices. “If you back up your files to the cloud, remember that even though you delete them on your computer or mobile device, they’re still stored in your cloud account. To completely delete the file, you’ll also need to remove it from your backup cloud account,” says re/code. Twitter: @Recode'"
      ]
     },
     "execution_count": 26,
     "metadata": {},
     "output_type": "execute_result"
    }
   ],
   "source": [
    "article.cleaned_text"
   ]
  },
  {
   "cell_type": "code",
   "execution_count": 27,
   "id": "a7610730",
   "metadata": {},
   "outputs": [],
   "source": [
    "from goose3 import Goose\n",
    "url48=\"https://insights.blackcoffer.com/how-machines-ai-automations-and-robo-human-are-effective-in-finance-and-banking/\"\n",
    "goose= Goose()\n",
    "article=goose.extract(url48)"
   ]
  },
  {
   "cell_type": "code",
   "execution_count": 28,
   "id": "12312b61",
   "metadata": {},
   "outputs": [
    {
     "data": {
      "text/plain": [
       "'How Machines, AI, Automations, and Robo-human are Effective in Finance and Banking? | Blackcoffer Insights'"
      ]
     },
     "execution_count": 28,
     "metadata": {},
     "output_type": "execute_result"
    }
   ],
   "source": [
    "article.title"
   ]
  },
  {
   "cell_type": "code",
   "execution_count": 29,
   "id": "3d7099f5",
   "metadata": {},
   "outputs": [
    {
     "data": {
      "text/plain": [
       "'We all hear day in and day out that we amidst a technological revolution. But do we know what this really means?\\n\\nBefore we understand how its going to impact us, let us first discuss what these terms really mean.\\n\\nA technological revolution simply means that we are in a period where better and newer technologies replace the others to get the job done faster and better. We are in an era with rapid innovations where machines are being compared to humans.\\n\\nSo, then what is Machine Learning?\\n\\nMachine Learning is basically the application of artificial intelligence into electronic systems to enable them to learn and enhance themselves without being programmed by humans. It is the evolution and development of computer programs that can access data and then use it to advance themselves. Whether you know it or not, you use machine learning-powered applications daily.\\n\\nNow, what is Artificial intelligence?\\n\\nAt its simplest form, artificial intelligence is a field, which combines computer science and robust datasets, to enable problem-solving.\\n\\nIn simple words, Artificial Intelligence is the technology that facilitates these machines to perform human like behaviour.\\n\\nJust like every other industry, machine learning is playing its role in the finance and banking industry too. In most cases where a human would perform the same task by performing the same calculations or following the same process can be taught to the machine which can now perform it by itself.\\n\\nLet us discuss a few examples of the applications that we might have come in our day to day running which are a result of machine learning in this industry:\\n\\nIn earlier days, an investor would need to consult a financial advisor to understand his/her risk appetite and advise accordingly. Today, using machine learning algorithms there exists the concept of a “Robo-Advisor” that requires any user to give certain inputs about their financial status and goals and calculates their risk tolerance and constructs and idle portfolio allocation for them. Young users today find this extremely useful rather than physically visiting an advisor and paying a fee for doing so.\\n\\nUnderwriting is one of the core functions for most financial institutions especially banks and insurance companies where they are required to underwrite the risk of the customers before loaning out money or insurance policies. These underwriting activities are based on trends and thumb rules industrywide. The same has been introduced through machine learning which is able to underwrite risks today on a larger and more accurate scale.\\n\\nMachine learning is a mathematical model that tracks market information, analyses massive data sources and study market conditions simultaneously to detect patterns which can be used for trading. This is humanly impossible to do in a fraction of time. Algorithmic systems can make millions of trades daily, often known as “high-frequency trading”. It is highly believed that deep learning is playing its role in calibrating real-time trading decisions.\\n\\nWith the increase in use and dependency on computers for financial transactions came the data security risk. There is an ample amount of valuable data stored online available to create potential risk. Machine learning thus helped in fraud detection by detecting anomalies in transactions and flagging them for scrutiny based on the risk factors defined by the institutions. Fraud identification in insurance claims, credit card payments, identity theft, account theft, are all areas in fraud detection that machine learning can help in.\\n\\nProcess automation is one of the most common applications of machine learning in finance. The technology has helped in replacing manual work, automate repetitive tasks to avoid redundancy, and as a result, increase productivity. Machine learning has benefitted these organizations to optimize costs, improve customer experiences, and scale up their services. Some examples of financial and banking firms using process automation are the use of chatbots, automated calls, paperwork automation, and gamified employee training.\\n\\nIn this highly competitive industry, customer acquisition and the customer onboarding process is highly relevant in building a good customer relationship. At any stage, during the onboarding, a slight inconvenience or delay can act as a barrier. Machine learning-enabled complete automation in this process for these financial and banking institutions. Today, from opening an account, filing for any application can be completed within a few minutes with utmost ease. With AI, customers’ behavioral patterns have been studied to improvise and make the whole process efficient and user-friendly.\\n\\nWith the multitude of offerings and availability of a plethora of options, customer stickiness is a big problem faced by financial firms. Customer churn forecasting is one of the best big data use cases. It helps in detecting customers who cancel their subscription and analyses the same to tailor products as per customer needs. Video streaming application, Netflix’s subscribers worldwide has continued to grow to reach 167 million through using machine learning analytics on their customer database.\\n\\nFinancial and banking institutions function on facilitating investments made by their customers. Organizations are constantly in search of customers from whom they can get more revenue. This is now possible through performing machine learning analysis on both structured and unstructured data which helps them make more informed decisions. It also analyses data from the website and mobile application to construct effective marketing campaigns for the targeted customers.\\n\\nFinancial monitoring, security analysis, prevention of money laundering, network security, investment predictions, personalization of customer service everything comes under the realm of the applications of machine learning in the financial and banking industry. Yet, this is just the tip of the iceberg, there is a lot more that is going to change in the future. It is now visibly imperative that while AI is beginning to create a wave of transformation across these industries and adapting to these changes s important for one’s survival. With smart technology applied everywhere, all financial firms are bound to turn into FinTech’s to stay relevant to the “silver tech generation” consisting of millennials and the GenZs.\\n\\nThe financial services industry has entered the space of artificial intelligence and machine learning, and the pace is not surprising knowing the positive changes it has brought. Machine learning has the most use cases in finance than any other industry because of the available computer power and new machine learning tools. The greatest applications include simplifying customer engagement and accurate sales forecasting. It is only making this industry better and more efficient with each new adaptation. Machine learning algorithms have the capability to deal with a lot more than human capacity along with eliminating human error. As even the algorithms are constantly learning and innovating, they can serve as a bridge to a completely flawless automated financial system in the future. Nonetheless, the challenges of high cost and lack of resources that come along play a significant role in how early these firms can adopt these technologies. But even then, the future seems bright as the industry has enough adopters and prospects ready to explore.'"
      ]
     },
     "execution_count": 29,
     "metadata": {},
     "output_type": "execute_result"
    }
   ],
   "source": [
    "article.cleaned_text"
   ]
  },
  {
   "cell_type": "code",
   "execution_count": 30,
   "id": "d4e62c54",
   "metadata": {},
   "outputs": [],
   "source": [
    "from goose3 import Goose\n",
    "url49=\"https://insights.blackcoffer.com/ai-human-robotics-machine-future-planet-blackcoffer-thinking-jobs-workplace/\"\n",
    "goose= Goose()\n",
    "article=goose.extract(url49)"
   ]
  },
  {
   "cell_type": "code",
   "execution_count": 31,
   "id": "57b9dad1",
   "metadata": {},
   "outputs": [
    {
     "data": {
      "text/plain": [
       "'How Robo Human will Impact the Future? | Blackcoffer Insights'"
      ]
     },
     "execution_count": 31,
     "metadata": {},
     "output_type": "execute_result"
    }
   ],
   "source": [
    "article.title"
   ]
  },
  {
   "cell_type": "code",
   "execution_count": 32,
   "id": "0370b83a",
   "metadata": {},
   "outputs": [
    {
     "data": {
      "text/plain": [
       "'It’s the year 2060. An automaton in a Research Laboratory says to a Scientist, “Warning! Error Occurred Reformatting Hard Disk Now!” The scientist panics. Automaton says again,” Ha! Ha! Just Kidding! “.\\n\\nFunny Right. Before some of you say that this joke isn’t realistic, “How can an Automaton tell you a joke?” But what if I tell you in 2017, “Sofia” the robot made a joke on the show Good Morning Britain! Who thought computers could tell us a joke? Hard to believe? Well, the idea of giving computers human-enjoy thinking has now become a reality. Thanks to the technological advancement in AI in the last decade.\\n\\nBefore diving deep into how AI can impact the future of work, let’s begin with the simple question: what’s AI? Artificial Intelligence provides machines the power to think from data. The machine uses the patterns and trends found in data and makes its decision, but cannot create thought beyond these patterns and trends.\\n\\nWith the rise of AI, humans are divided into one question. Are machines human’s friend or foe? Tech executives and politicians on conference stages, campaign rallies, and even science fiction Hollywood movies like Carbon Black, Westworld, Minority Report, and Ex Machina have given their take on this question. Some believe AI will help us solve problems while others believe that the rise of AI will result in destruction and maybe the end of the world, we all know.\\n\\nStephen Hawking made it no secret of his concern about the rise of superhuman AI that eventually would escape earth to a new planet. No, this isn’t a plot of Black Mirror. Right now, Superhumans may not be a reality, but AI is.\\n\\n“Homo Deus”, the emergence of the new Digital God using AI. God must also worry, as AI might take his job.\\n\\nHere’s some Career Advice, have you thought about being a Robot? The fear that AI would automate all jobs in the future eventually leaving all humans jobless has been daunting for many workers today. Statistics show that nearly 37% of workers worry about losing their jobs to robots. While another thought that many people believe is that though the rise of AI with result in automating most of the jobs in the future, however, it also will create millions of new job opportunities.\\n\\nAI is already replacing most manual and repetitive tasks. For example, buying a metro ticket or a movie ticket is now almost a human-less interaction. Each year the number of industrial robot jobs increases by 14 %. At this rate, it’s predicted that the 20 million jobs in the manufacturing industry will be replaced by robots due to automation.\\n\\nThe coronavirus pandemic and recession have boosted the demand for automation. The Robotic Process Automation (RPA) Software industry has experienced an increase of 19.53% in the year 2021. Coronavirus pandemic has increased interest in technology that reduces human contact as minimal for making workplaces safe.\\n\\nOur workplaces will look much different in the next five to ten years. AI will help humans in simplifying repetitive processes. The two most important catalysts for the future of work are the two D’s- Digitization and Datafication. Digitalization is converting data to digital formats (computer-readable). For example, text to Html, analog video to YouTube video. Digitization helps in increasing data exponentially. Datafication is quantifying human life to data and improving the data-driven business model. By 2025, it is forecasted that the digital transformation space will build in a $3,294 billion industry!\\n\\nOne thing is clear, no data, no future of work. What we find is that the future of data and the future of work will go hand in hand. The total volume of data in the datasphere that is created, captured, copied, and consumed in the world is predicted to reach 175 zettabytes by 2025. To give you a much better picture for understanding, if we represent the digital universe as stacks of tablets, there would be 27.25 stacks from earth to the moon.\\n\\nIt’s time to prepare for the data-dominated future as Industry 4.0/Fourth Industrial Revolution has begun. So, let’s see how artificial intelligence will affect the following fields:\\n\\nHuman Resource: Nowadays, recruiters use AI-powered tools for hiring workers. Using these tools, recruiters get insights into a candidate’s skills, personality and even check whether the candidate is fit for the organization. For example, the company AllyO first identifies high-potential candidates through assessment and smart screening, and then automatically schedules interviews using AI. HR departments at large companies receive hundreds of resumes for a job opening. Entry-level roles focusing on screening and scheduling will be automated. AI will automate specific HR jobs, not HR roles. A Deloitte study found that AI has already eliminated 800,000 low-skilled jobs in the UK, but 3.5 million new jobs were also created. Roles that focus on complex decisions like resolving disputes within a department will continue to be a very human endeavor.\\n\\nFinance and Accounting: In 2015, a report from Accenture named “Finance 2020: death by digital” predicted that 40 percent of transactional accounting work would be automated by 2020. Has technology replaced the human factor? Well, AI has created new jobs involving managing the AI system and using the information to create insights. For example, accounting software has already automated bookkeeping tasks that used to be done by humans, but that’s only opened the door for former bookkeepers to learn skills needed to run and manage the software for employers and clients. Advisors are another crucial role of the accounting and finance team. Using the information gained from transactions in books, the team creates insights to improve business strategy. Owing to automation, the team spends more time analyzing numbers.\\n\\nMarketing and Sales: Marketing automation has helped companies strategize the proper utilization of the company’s resources, managing time, and achieving budget targets. Marketing automation has helped to draw conclusions at a scale no marketer ever would. In this process, marketers and machines both excel in different parts. Marketers using AI tools drive more conversions in less time. Human Intelligence with technology can help identify the right customers to talk to and at the right time. Modern Marketers understand the insights from any marketing campaign and create it into effective messaging.\\n\\nEngineering: Technology is changing in a blink of an eye. The technologies used five years ago in the industry have become obsolete today. Engineers will have to keep up with the technological advancements and keep upgrading their skills to stay relevant in the industry. Learning to work alongside machines and designing work such that interaction better humans and machines are better are going to be important skills for engineers in the future.\\n\\nIn the 18th and 19th centuries, the rise of the industrial revolution centuries led to millions of people losing their jobs because of scientific advancements. But that also ended in creating millions of other jobs. Statisticians have said, when automation destroys jobs, people find new ones. Thus, AI holds a more optimistic picture for the future.\\n\\nIn the future, AI is not going to replace humans, rather make jobs more humane. AI will disrupt millions of middle and entry-level jobs in the next few years but will also create millions of additional jobs and help to boost economies.'"
      ]
     },
     "execution_count": 32,
     "metadata": {},
     "output_type": "execute_result"
    }
   ],
   "source": [
    "article.cleaned_text"
   ]
  },
  {
   "cell_type": "code",
   "execution_count": 33,
   "id": "c2a01b39",
   "metadata": {},
   "outputs": [],
   "source": [
    "from goose3 import Goose\n",
    "url50=\"https://insights.blackcoffer.com/how-ai-will-change-the-world-blackcoffer/\"\n",
    "goose= Goose()\n",
    "article=goose.extract(url50)"
   ]
  },
  {
   "cell_type": "code",
   "execution_count": 34,
   "id": "8caa10b7",
   "metadata": {},
   "outputs": [
    {
     "data": {
      "text/plain": [
       "'How AI will change the World? | Blackcoffer Insights'"
      ]
     },
     "execution_count": 34,
     "metadata": {},
     "output_type": "execute_result"
    }
   ],
   "source": [
    "article.title"
   ]
  },
  {
   "cell_type": "code",
   "execution_count": 35,
   "id": "4e44eb53",
   "metadata": {},
   "outputs": [
    {
     "data": {
      "text/plain": [
       "'The way work is being done now is destined to undergo massive transformational changes which will impact humans and their ways of working dramatically. With the development of the new machine programs, A.I. is all set to take over the humans in their workplace as no other did. Now we are not only in competition with other beings but with robots too. And robots will overcome us in our fields of work.\\n\\nAt present we are being surrounded by A.I. from dusk till dawn, from facial recognition present in our mobile application to dating websites/applications which uses decision making as their algorithms and learn from the past data as well. It is believed that A.I. has grown over 270% over the last years.\\n\\nFirst, let us know what A.I. is and all the fuss going on about it?\\n\\nA.I. as defined by the internet is simply ‘simulation of human intelligence in machines that are programmed to think like humans and mimic their actions’. This translates to, it can work as a human being just at fast speed and with 100% accuracy.\\n\\nIn my definition I would define A.I. as the god form of human beings.\\n\\nNow the question that arises is, what does A.I. entails for the future?\\n\\nA.I. is fancy enough to continue existing in our minds all the time, but it does come with certain limitations and threats which is a cause for a peaceful sleep for most of the workers. With its introduction to different areas of the workplace, it is clear that half of the human jobs would be taken up by A.I. and then there would arise a need for more jobs for humans in new upcoming AI-based ventures in different industries. Thereby giving us our fair share back to us.\\n\\nIn a survey, it was found that some believed that AI will be devastating for humans and while some professionals and tech-savvy people believed that inculcating AI technology into business and our daily lives would be a remarkable step as it will lead to the flourishment of business in the future and give them a competitive edge over their rivals.\\n\\nPeople believed that when these advanced technologies would come together to work with humans, they will produce a smarter strategic decision with productive collaborative practices. More modern technology prevailing in the organization will lead to stress reduction and produce more satisfying results thereby making the organization more efficient.\\n\\nThe Organizations who are in use of the AI technology responds by saying that their managers are more comfortable using A.I. and are accustomed to it and the organizations are now looking forward to having integration of higher-end technology systems, as it is believed that new technology will result in more productivity thereby making more profits in the long run.\\n\\nMany jobs today require AI and humans working in collaboration, which creates a positive signal that in the future to humans would be working closely with the technology. Beyond just training and developing these machines, humans would be working in close vicinity with them and making decisions on how to act on the result that is given by the machine.\\n\\nIt can be said that both the AI advanced technology and human can’t remain in the workforce without each other, as the technology will produce accurate and top-notch results but it requires someone to make delivery.\\n\\ne.g., in a firm, an AI-based system produces results based on historical data but there is a need for someone to analyze and communicate and present this data to the respective stakeholders whether inside or outside of the organization.\\n\\nVarious uses of artificial intelligence technology in day-to-day functions in regards to interactions with humans are:\\n• Voice activation and much more.\\n\\nArtificial intelligence as we know works on algorithms, neural networks, and deep learning which all are analytical tools that help AI in taking analytical decisions based on the data provided.\\n\\nWhereas, humans on the other hand take higher-level decisions based on ‘Intuition’ sometimes, which refers to the gut feeling that generates in humans concerning any situation or challenge.\\n\\nAI alone can’t work to handle critical situations on its own as it needs humans for it to reciprocate them and share the information with stakeholders, and humans alone can’t anticipate much on the accurate and fast-paced analytical solutions to the problems persisting in place of the situation.\\n\\nThe strength of humans and AI working in synergy can be surprisingly beneficial and advantageous to organizations.\\n\\nIt is believed that machines in the future would be eating up our traditional jobs. But the reality seems to be turning otherwise.\\n\\nThe future trend shows that in future the AI-powered technology would take up jobs that were being done by humans but in return would produce more jobs that would require human interference with them. As and when the newer technology is approaching more and more countries are now proceeding towards GIG Economies, and so in the future, we can witness an increase in freelance jobs and the permanent labor market norms could reduce drastically.\\n\\nSome of the jobs today will be replaced by AI which is in the transportation or retail commerce sector that can be 100% automated in the future years. There is an ‘Amazon Go’ store that uses this technology which goes by the name ‘Just walk out technology’ wherein there is no need for any human-induced workforce and all the operations are carried out by AI-powered technologies, which is indeed a breakthrough technology in today’s world.\\n\\nRather than eating up our jobs AI in return will be creating more jobs in the future by creating massive innovations thereby fueling up many new industries and thereby giving us our fair share of jobs back.\\n\\nThere will be a lot of demand placed on the upcoming young workforce which is also categorized as ‘Gen Z’. They are expected to know more about technology and would be high in demand. These young generations are required to learn new skills which are needed to survive in the dynamic changing environment, and as most of the activities that are carried out by workers will be automated, there will be demand for people working in the back office and maintaining and developing the technology to its best versions.\\n\\nAI powered technology has its limitations which makes it a rigid system to hold on to and also which makes it a costly affair at the initial stage.\\n\\nIt was predicted that the cost of electricity to power a supercharged AI model was around $4.6 million. So, this super-powered AI can be purchased only by big fortune firms and thereby creating more value to their net worth.\\n\\nOne of the major limitations of AI is that it can contain biased data as the scientists who put in the data can create biasedness and so the resultant output of the same would have a biased report.\\n\\nThese machines as do not have neuroscience-based technology in them yet which enables them to carry human emotions to understand complex situations and a creative way out of that, they tend to have a lack of out of box thinking which in the case is rigid in themselves as they are programmed to work on a single task and they cannot perform more than a single task at the same time.\\n\\nIt is also believed that there exists no creativity among the computer, no matter it is fast-paced, but they are not intelligent.\\n\\nBusinesses and organizations need to understand and anticipate the opportunities that the future holds for them and they need to start training their employees based on today’s dynamic changing technology. While it’s still unclear what does the future holds for us, but the anticipation of it could benefit us in several ways.\\n\\nAs we are unclear about what the future looks like, we need to think in probable terms how it could turn out to be and then employ specific training programs for the employees of the organization.\\n\\nThe training the employees are needed to be done on a continuous and lifetime basis which means that education won’t be only limited to PG degrees but will be now a lifetime process of learning.\\n\\nAs the Covid-19 changed the scenario of the work patterns around the world, we now need to think strategically about the working dynamics of the future and how does it look like compared to the pre-covid and post-covid scenario.\\n\\nEmployees will be playing a major role in transforming the organizations and work practices in the upcoming future, so organizations need to select and recruit the best candidates among the pool and then provide them with best practices of the new machines and make proficient in their area of work. Policies need to be developed to hire the best people and then retaining the talent in the organization.\\n\\nThere needs to be a continuous scanning of the environment by the organizations to comprehend any new trends and assess them, not all trends will be beneficial for organizations, they must be aware of the prospects and plan for the future systematically and consistently.\\n\\nThere lies a possibility in future certain years from now, we could have machines who will have general human intelligence who would be able to answer deep meaningful questions asking ‘Why are the curtains blue?’, would be able to clean cars, play politics and tell jokes to us, and by using deep and machine learning programs their level of intelligence would be beyond mathematical calculations to us. That’s how good machines will be in the future, but to make ourselves competitive with machines, we would need to train ourselves for the impending ambiguous future ahead of us.\\n\\nHumans and machines need to work in synergy to get beneficial and satisfying results for both parties.\\n\\nMachines are indeed going take away many of our jobs, but let me make you sleep peacefully tonight, the machines aren’t arriving until we’re retired.'"
      ]
     },
     "execution_count": 35,
     "metadata": {},
     "output_type": "execute_result"
    }
   ],
   "source": [
    "article.cleaned_text"
   ]
  },
  {
   "cell_type": "code",
   "execution_count": 36,
   "id": "e6fbafb4",
   "metadata": {},
   "outputs": [],
   "source": [
    "from goose3 import Goose\n",
    "url51=\"https://insights.blackcoffer.com/future-of-work-how-ai-has-entered-the-workplace/\"\n",
    "goose= Goose()\n",
    "article=goose.extract(url51)"
   ]
  },
  {
   "cell_type": "code",
   "execution_count": 37,
   "id": "3c44898f",
   "metadata": {},
   "outputs": [
    {
     "data": {
      "text/plain": [
       "'Future of Work: How AI Has Entered the Workplace | Blackcoffer Insights'"
      ]
     },
     "execution_count": 37,
     "metadata": {},
     "output_type": "execute_result"
    }
   ],
   "source": [
    "article.title"
   ]
  },
  {
   "cell_type": "code",
   "execution_count": 38,
   "id": "d93918b3",
   "metadata": {},
   "outputs": [
    {
     "data": {
      "text/plain": [
       "'Artificial intelligence and employment are the burning issues nowadays workers need clarity on as we head into the longer term. This article focuses on the various impact of AI on our jobs and explains the benefits of AI in our workplace. That right there must have hit a nerve. However, everything is about to change because this article highlights some of the reasons we should not fear AI.\\n\\nAI is the abbreviation of Artificial Intelligence. Artificial intelligence is often defined as a set of various technologies which will be brought together to permit machines to act with what appears to be human-like levels of intelligence. This includes learning rules required to make certain decisions and reasoning to arrive at certain conclusions, learning from past experiences, and self-correction.\\n\\nAI is of two types.\\n• Strong AI – An AI solution whose intelligence matches that of a human brain across multiple & differentiated task.\\n\\nExpectations that machines could match humans in terms of general intelligence. By that, we mean machines could have the capability to find out, Reason, and React.\\n\\nAlan Turing develops the Turing Test; a test to determine whether a machine is intelligent.However, it wasn’t for another 60 years or so that any program was deemed to have passed.\\n\\nThe first time a computer virus defeats a person’s World Champion during a parlor game.\\n\\nJohn McCarthy invents the new term ‘Artificial Intelligence’ when he held the primary Academic Conference on the subject of AI.\\n\\nReinforcement Learning is introduced. This is a kind of programming that uses rewards and punishments to coach a machine to interact with its environment.\\n\\nA research group led by Geoffrey Hinton wins the Image Net competition – this competition requires AI to categorize about 1.2 million images into any of 10,000 different categories. The level of accuracy was adequate to that of the typical human completing an equivalent task manually.\\n\\nEugene Goostman’s chatbot, a bot pretending to be a 13-year-old boy, supposedly passes the Turing Test, a test which nobody has passed before! But controversy arose with this claim as:\\n\\n1. Experts claim it only lasted five minutes.\\n\\n2. It had been deemed biased as Eugene’s mother tongue (Ukrainian) wasn’t equivalent to the judge’s (English), which is a plus as language is one among the few ways we will tell the difference between a person’s and machine.\\n\\nAlibaba’s AI Model performs better than humans during a reading and comprehension test at Stanford University, scoring 82.44 against the 82.304 scored by humans!\\n\\nArtificial Intelligence (AI) is here to remain, and lots of people aren’t happy. After all, it’s hard to embrace something that would displace about 40 percent of human jobs within the next 15 years. In an interview for CBS’s hour, Kai-Fu Lee (a Chinese AI expert) also mentioned truck drivers, chauffeurs, waiters, and chefs as a number of the professions that will be disrupted.\\n\\nBut if you were to ask the experts, they might unwaveringly confirm that no matter all the noise, AI is here to profit us all. Case in point, an executive briefing by the McKinsey Global Institute revealed that AI and automation are creating opportunities for the economy, society, and business.\\n\\nThat said, it’s time to repress the widespread idea of artificial intelligence taking jobs. So, let’s highlight a number of the useful developments you’ll expect from this technological phenomenon.\\n\\nWhile the relationship between artificial intelligence and jobs is a matter of hot debate, it is still safe to say that AI will indeed offer new opportunities. According to the planet Economic Forum report, robots and AI will create as many AI jobs as they displace. This conclusion is entirely viable as it is easy to identify some of the many careers in artificial intelligence, for example, data scientists, who evaluate the decisions made by AI algorithms to eliminate any biases. Apart from that, some other AI occupations include:\\n\\nTransparency analysts: people tasked with classifying the varied sorts of opacity for algorithms. Smart-system interaction modelers: experts who develop machine behavior based on employee behavior. Machine-relations managers: people that champion the greater use of algorithms that perform well. As far because the competition for jobs between humans and robots goes, worth noting is that there are jobs that AI can’t replace. Roles that need leadership, empathy, and delegation are samples of the various jobs that are safe from automation.\\n\\nAI will eliminate bias and a variety of challenges at work\\n\\nAutomation will stir positive change in the workplace. When AI is employed during recruitment or maybe performance management, all workers are going to be evaluated in an unbiased, fact-based manner. In turn, Human Resources managers can get to consider other essential strategic undertakings that ensure balance within the workplace.\\n\\nAI can help HR departments to use machine learning (ML) in discovering where issues like bias stem from and assist them to act accordingly faster. ML shines in identifying instances of bias. In turn, this may promote fairness and variety within the work setting.\\n\\nAI in the workplace will steer business-outcome strategies\\n\\nThe impact of AI in business is already felt, and this is often expected to continue through to the longer term. A few years from now, AI-oriented architecture is forecasted to require the lead in assisting businesses to hold out operations in additional comprehensive ways, thus shifting them from traditional data science and machine learning models. It will be necessary to maneuver to business outcomes because AI will play an important role in multiple aspects of the business. While there is no way of telling the future of artificial intelligence in business for sure, it makes sense for owners to keep up with the evolution to avoid being left behind.\\n\\nAI will boost innovation within the workplace in the longer term\\n\\nThe workforce of the longer term will lean more towards innovation and creativity. Businesses have spent higher a part of the previous couple of years studying AI automation and the way they will leverage it to realize results fast. With statistics showing that workers spend up to 40 percent of their hours at work performing repetitive tasks, every business should consider automating any functions which will be automated. Automation is not new; machines have been replacing human labor in different areas for decades.\\n\\nHowever, within the coming years, mundane daily tasks will become fully automated. Already, 39 percent of organizations were completely reliant on automation in 2018. With repetitive tasks taken care of, employees can focus their energies on high-value customer-oriented tasks and collaboration. The designs of workplaces and workflows will also change with the implementation of AI technology. More people will begin to figure more closely with machines as companies will strive to become more agile.\\n\\nCompanies that implement AI in their business strategy will experience dramatic improvements in their customer experiences, and their employees are going to be more motivated. Encouraging creativity rather than the performance of repetitive tasks gives workers more fulfillment in their jobs as well.\\n\\nWith another technology, AI will positively impact the world\\n\\nWith the web of things and AI working hand in hand, identifying trends and solving problems within the business world will become more convenient and also sustainable. AI, alongside other technologies, is predicted to vary the planet by impacting the way businesses run. With time, we’ll be ready to combine both human and artificial brains to seek out solutions to major global problems.\\n\\nIt will even be easier to foresee problems with more accuracy and nip them at the bud with the help of AI. But these positive impacts can only be felt if stakeholders are transparent and mindful in their use of the technology for the greater good of everyone else.\\n\\nAccording to a report by PWC, 54 percent of companies confirm that the implementation of AI-driven solutions in their companies has already improved productivity. AI and automation, even once they are implemented partially, have unlimited potential for any business. Workers’ skills, attitude, training, command chain, and workflows protocols are a number of the leading productivity challenges that companies face.\\n\\nApart from increasing productivity, AI systems will help businesses to chop down on costs, improve the standard of their products or services, and make better customer profiles. As a result, companies also will get higher profits, which may be shared among stakeholders as dividends, or reinvest it back within the business. Improved productivity also means firms are going to be ready to sell their products at lower prices, thereby creating more demand among customers and more job opportunities for workers. Businesses can, therefore, use human labor to take up those jobs that have been created by AI and cannot be automated.\\n\\nFinal thoughts on the impact of AI on jobs\\n\\nArtificial Intelligence isn’t showing any signs of slowing down. Soon, it’ll become another necessity of life, a bit like the web. But for now, more and more businesses are beginning to realize how invaluable AI automation and data interpretation are. Though machines will take some jobs initially, the roles created by automation will also keep soaring within the next few years.\\n\\nWill, we’ve reached the purpose of accelerating human intelligence by artificial means? Who knows? What we all know, however, is that those that are going to be sought-after in AI and employment are individuals who have the relevant skills. There’s work that not even the machines can do; so, we should make ourselves as valuable as we can be in our field and we will be irreplaceable.'"
      ]
     },
     "execution_count": 38,
     "metadata": {},
     "output_type": "execute_result"
    }
   ],
   "source": [
    "article.cleaned_text"
   ]
  },
  {
   "cell_type": "code",
   "execution_count": 39,
   "id": "b95dbed3",
   "metadata": {},
   "outputs": [],
   "source": [
    "from goose3 import Goose\n",
    "url52=\"https://insights.blackcoffer.com/ai-tool-alexa-google-assistant-finance-banking-tool-future/\"\n",
    "goose= Goose()\n",
    "article=goose.extract(url52)"
   ]
  },
  {
   "cell_type": "code",
   "execution_count": 40,
   "id": "f60b18f3",
   "metadata": {},
   "outputs": [
    {
     "data": {
      "text/plain": [
       "'How machine learning used in finance and banking? | Blackcoffer Insights'"
      ]
     },
     "execution_count": 40,
     "metadata": {},
     "output_type": "execute_result"
    }
   ],
   "source": [
    "article.title"
   ]
  },
  {
   "cell_type": "code",
   "execution_count": 41,
   "id": "4d71c731",
   "metadata": {},
   "outputs": [
    {
     "data": {
      "text/plain": [
       "'Through AI tools like natural language processing, Alexa and google assistant has led the retail industry in its rise towards conversational commerce. As if a customer was interacting with a clerk in a retail store, conversational commerce makes it possible for users to engage with software to research, purchase, or get customer assistance with products and services across a wide range of industries. With Alexa, for example, users can ask any Alexa-enabled device to add an item to an Amazon shopping cart, set a purchasing reminder when a product is running low, or carry out a complete purchase without having to access a shopping cart. The result is a seamless conversational experience that enables consumers to carry out transactions as quickly as it takes to speak a sentence.\\n\\nThrough AI tools like natural language processing, Alexa has led the retail industry in its rise towards conversational commerce. As if a customer was interacting with a clerk in a retail store, conversational commerce makes it possible for users to engage with software to research, purchase, or get customer assistance with products and services across a wide range of industries.\\n\\nWith the advent of personalized products and on-call delivery, customers have come to expect a new standard experience: fast, easy, accurate, and personalized. Accomplishing this without sacrificing your workday can be a challenge, since the data processing required to meet these needs is immense. Luckily, virtual agents (VAs), powered by conversational AI, can utilize this information faster and more accurately than humans, finding insights and automating communication to deliver an enriched customer experience. If you invest based on these improvements, you’ll find that implementing these tools delivers a powerful competitive advantage. AI has helped in automobile, education, retail and commerce, finance and banking and healthcare.\\n\\nVoice AI has powered the wheels of conversational e-commerce, which has impacted the way the customer communicates with the brand in multiple industries. Brands generally build a campaign to emotionally connect with customers, for long-term growth. With Voice, brand campaigns need to be short and ones that can lead to immediate buying. Conversational e-commerce is still in its nascent stage and it is expected to grow manifold in the coming years. The future of shopping is going to Voice AI and marketers have to get on the bandwagon fast to increase their brand value and visibility. Targeting will have to be highly personalized for success.\\n\\nDespite its narrow focus, conversation AI is an extremely lucrative technology for enterprises, helping businesses more profitable. While an AI chatbot is the most popular form of conversational AI, there are still many other use cases across the enterprise.\\n\\nWhile an exclusively chat- or voice-based shopping experience for all scenarios may never completely replace the in-person experience, conversational commerce will continue to grow as an added method of convenient and efficient communication. As users continue to become more accustomed to engaging with chatbots and voice-driven interfaces, expect more innovations in the space as brands continue to develop their unique conversation-based solutions.'"
      ]
     },
     "execution_count": 41,
     "metadata": {},
     "output_type": "execute_result"
    }
   ],
   "source": [
    "article.cleaned_text"
   ]
  },
  {
   "cell_type": "code",
   "execution_count": 42,
   "id": "3d52d207",
   "metadata": {},
   "outputs": [],
   "source": [
    "from goose3 import Goose\n",
    "url53=\"https://insights.blackcoffer.com/ai-healthcare-revolution-ml-technology-algorithm-google-analytics-industrialrevolution/\"\n",
    "goose= Goose()\n",
    "article=goose.extract(url53)"
   ]
  },
  {
   "cell_type": "code",
   "execution_count": 44,
   "id": "cabf062a",
   "metadata": {},
   "outputs": [
    {
     "data": {
      "text/plain": [
       "'How AI will impact the future of work? | Blackcoffer Insights'"
      ]
     },
     "execution_count": 44,
     "metadata": {},
     "output_type": "execute_result"
    }
   ],
   "source": [
    "article.title"
   ]
  },
  {
   "cell_type": "code",
   "execution_count": 45,
   "id": "ecbdd5fd",
   "metadata": {},
   "outputs": [
    {
     "data": {
      "text/plain": [
       "'AI experts believe it’s going to be one of the main drivers of the fourth Industrial Revolution and that it has the potential to not just transform the tech sectors and going to open a new chapter of the society of the world that people try to understand themselves better rather than the outside world with AI because people who are naysayer and kind of try to drum up these doomsday scenarios are pretty irresponsible. After all, In the next, five to ten years AI is going to deliver so many improvements and the quality of our lives it is a renaissance, a golden age of machine- learning and artificial intelligence that was the realm of science fiction for the last several decades. AI is probably the most important thing humanities that have ever worked which is more profound than any work with technology, as it is important to harness the benefits and while minimizing the downside is focusing on autonomous systems like self-driving cars seen as the mother of all AI projects and has made applications like self-driving technology viable for the first time, three things happen at the same time number one data collection and data processing became easier because of better technologies right um you need data to fuel AI training and that’s been one of the big drivers the second thing that has happened is that computer processing has become faster that’s like the engine so no matter how much fuel you have if you don’t have that engine and processing the data on a timeframe that’s reasonable was just not possible and the third thing that’s happened is that new algorithms have been developed which has made AI much more powerful so #technology has been changing and developing at a pace that’s much faster than ever before and we have not been used to this rapid pace of change which means that we have not been used to thinking about how it’s going to impact our immediate future. The most important factor responsible for the growth of AI is Google and its AI what Google’s done is given all of us the power to get the relevant information we want at our fingertips this has created a shift in how things are bought but it didn’t happen overnight this started in 2004 but the major change only happens to start 2012 onwards Google’s taken away about 65% of sales people’s jobs that were primarily order takers and the ones that are remaining are likely to be gone over the next decade.\\n\\nIn present several AI projects are helping in diagnosing diseases better match up drugs with people depending on what they’re sick they can get treated better so it’s going to help a whole lot of people get treated and get better #healthcare than would have had access to it before if you look at self-driving cars they’re going to be safer than people driving cars and the value that machine learning is providing is actually happening beneath the surface and it is things like improved search results improved product recommendations for customers improve forecasting for inventory management and literally hundreds of other things including speech-recognition or image-recognition that the performance levels are phenomenal or drug discovery as these biological systems are very complicated because vaccines for TB and HIV developing that’s notably enabled by this rich data advanced in biology and machine learning and recent invention in which is an application we just launched for anybody with visual impairment ass it uses the latest cutting-edge computer vision technology to give anyone the ability to see, so anyone who has dyslexia can now use AI to be able to read better and with the latest release of Windows 10 has this capability called IJ’s which enable the eye muscle that the gaze can help to type. Like the two sides of the coin, there are negative impacts of AI as well Bill Gates Ellen Musk also tech giants in a way their views are pessimistic, to say the least, they warned against the potential of AI to replace humans in the workplace and Ella masks even went as far as to claim that AI is the biggest existential threat to mankind. because of the loss of a job, when you think about a job or a career choice if a majority of the tasks that comprise that career choice is likely to be these vulnerable tasks then that is a career at risk in the future so what are the tasks that AI will find? hard to do anything unpredictable anything that requires skills like creative thinking or empathy or interpersonal skills but it’s important to understand tomorrow whether Google is there or not, artificial intelligence is going to progress you know technology has just nature it’s that it’s going to evolve as technology and in particular AI can, in fact, bring more empowerment more inclusiveness and at the same time it is important to be clear-eyed about displacement and unintended consequences like any other technology and work both skills so that people can find the jobs of the future create new jobs also the policy decisions that help people as they go through this change people already unhappy because of machine learning artificial intelligence as they think if they’re not innovative enough or not creative enough your job will be taking away by a lot of machines AI for business going to affect the future of work specifically there are jobs that are at more risk of being taken over by AI and automation there is very wide dissonance on this, there are different reports that have been shared by Oxford study that says 47% of US jobs are at risk of automation over the next few years meanwhile the general population and workers think differently a recent study conducted by college actually identifies that 97% of workers believe that most jobs will be automated but not their own this suggests that the general public needs to be educated on which jobs are susceptible to this risk which are not and businesses need to be aware of the forthcoming skills gap of course not all jobs are equal the Oxford study that highlights this they examined 700 participants and found the generalist occupations that require creative knowledge or innovation are at least risk the same is true for occupations in education healthcare media and arts jobs on the flip side jobs like telemarketers junior lawyers accountants are at most risk in short there is a simple rule of thumb if your job is in some way predictable or routine the risk of automation is much higher if a job doesn’t require innovation or creativity then the return on investment for companies is higher on machines than real-time employees machines are faster can’t be distracted and can work 24/7 this is actually good for creative marketers because AI and automation can serve to augment their jobs rather than substituting them as impact of emerging technologies on the creative economy they stated that artificial intelligence is changing creative content from beginning to end by 2030 AI will be able to write high school essays code in Python composed top 40s chart songs and make creative videos but all of these advancements also come with risks and costs take a look at this report by the global Commission on the future of work in the absence of effective transition policies many people will have to accept lower skilled and lower paying jobs high-skilled workers are taking less cognitively demanding jobs displacing less educated workers and this is already happening also technological dividends are being unevenly distributed among firms a very limited amount of companies tend to dominate when it comes to big data just think about Google and Facebook today they alone are responsible for 70% of the referral marketing traffic and receive more than 50% of total global advertising budget so the question is in businesses workers and social institutions go into the same direction if companies and public policy leaders can understand the evolving landscape they can help the workforce anticipate the upcoming challenges technology and the demographic changes are leading to a smaller workforce compared to the previous generation and a workforce that has to pursue many careers during their time of work we need to provide workers with an environment where they can continuously upskill and grow governments will have to re-evaluate the educational system we will have to continuously learn and grow and companies will have to redesign their structure and their culture around technology just like during the Industrial Revolution we are heading into a new age and the great transformation that we’re about to see by 2022 it is estimated that 20 to 25 percent of the labor force will be displaced within 10 to 20 years however this is also an opportunity for people to get ahead for which different ways have to be find to attract and retain highly skilled workers and allow them the time to up skill themselves even during work hours and it is a good way to develop a learning community to benefit from each other and also to use technology to supplement goal tracking and efforts instead of as a distraction in short what we are doing is to bridge the dissonance and it is imperative to build a map of how AI and automation will affect industry and company if this is an economic imperative how do people feel about committing itself to a lifelong approach to knowledge as these risks are important but it is important to do things like from being upfront to have ethical charters like AI safety and to be very transparent and open and how we perceive progress there and figure out global frameworks by which we can engage just like Paris agreement and climate change by using such forums bring people together as they engage on the hard questions and it will emerge answers and on the question of whether AI is a threat or not, artificial intelligence is not a threat because there is a rare case where people need to be proactive in regulation instead of reactive because I think by the time we are reactive in AI regulation it’s too late right now we have machine learning algorithms that can solve an incredibly complex problem beyond any human intelligence as they are mere machines that can be given enormous data set and they come up with brilliant correlations and insights but they’re not going threaten the human population anytime soon because fish intelligent isn’t terrible but human being a smart enough to learn that skills at least to have a complete toolbox to be prepared volatility of the future adaptability.'"
      ]
     },
     "execution_count": 45,
     "metadata": {},
     "output_type": "execute_result"
    }
   ],
   "source": [
    "article.cleaned_text"
   ]
  },
  {
   "cell_type": "code",
   "execution_count": 46,
   "id": "0394971a",
   "metadata": {},
   "outputs": [],
   "source": [
    "from goose3 import Goose\n",
    "url54=\"https://insights.blackcoffer.com/all-you-need-to-know-about-online-marketing/\"\n",
    "goose= Goose()\n",
    "article=goose.extract(url54)"
   ]
  },
  {
   "cell_type": "code",
   "execution_count": 47,
   "id": "d65077d2",
   "metadata": {},
   "outputs": [
    {
     "data": {
      "text/plain": [
       "'All you need to know about online marketing | Blackcoffer Insights'"
      ]
     },
     "execution_count": 47,
     "metadata": {},
     "output_type": "execute_result"
    }
   ],
   "source": [
    "article.title"
   ]
  },
  {
   "cell_type": "code",
   "execution_count": 48,
   "id": "e9718079",
   "metadata": {},
   "outputs": [
    {
     "data": {
      "text/plain": [
       "'Ever wondered how you get notified of the products or services you want or you have been looking for for a long time. Now how does this happen? Let me start with the simple and the most known fact- Marketing,\\n\\nMarketing is a common term which everyone knows and is aware of. Marketing is the action of promoting products and services, including market research and advertising.\\n\\nTraditional Marketing was working fine for all these years. So why there was a need for online marketing?\\n\\nThe story begins from the internet era, The online presence of customers-\\n\\nThere are 4.72 billion people are on internet users in the world today and the number is increasing day by day. So if the companies want to create awareness about their products and services their is a huge audience present online.\\n\\nThere are a lot of benefits of online marketing like a large audience, benefits of targeting on the basis of demographics, location, age, gender, and many more. Because of this diversity, almost every type of company can use the Internet to reach any audience. All would find something of their liking.\\n\\nLet’s take a look at what does online marketing involves.\\n\\nThese days, almost everybody is on social media. The majority of people use Facebook, Twitter, Instagram, and other social media platforms to communicate with their friends and relatives. Some people have created companies solely based on their social media activity.\\n\\nYou can, however, promote your Knowledge Commerce products through social media. Whether or not you advertise on these sites.\\n\\nThe best social media networks for advertising-\\n\\nContent marketing is a strategic marketing strategy that focuses on producing and delivering useful, appropriate, and reliable content in order to attract and maintain a specific audience — and, eventually, to drive profitable consumer action.\\n\\nIn simple words, content marketing is a marketing strategy that producers and delivers relevant and reliable content to attract potential clients and to also retain existing clients.\\n\\nAbout half of all website traffic originates from a search engine. People who use searches are often high-intent buyers. This indicates that they are searching for a particular item. They’re all set to buy the products and services.\\n\\nThe majority of online marketing is focused on pay-per-click (PPC). However, when you hear the word “PPC,” it refers to search ads.\\n\\nPay-per-click (PPC) advertising on search engines, social media sites, and other online venues can be extremely successful.\\n\\nSo the next time when you search for a product and services and you find similar ads on the internet this is a kind of internet marketing.\\n\\nEmail marketing is the highly successful digital marketing technique of sending emails to prospects and consumers. It allows communicating directly with the present, former, and potential customers. businesses will inform the audience about new products as they become aware of them.\\n\\nBanner ads are rectangular or square advertisements that appear above, in the sidebar, or below the content on websites. Usually, a banner ad leads to a sales or landing page. You will get great results by running banner ads on websites that attract members of the target audience.\\n\\nAn affiliate marketer, like a car salesperson, only gets paid when someone buys the stuff. You may not have to pay if there are no purchases.\\n\\nAffiliates are free to sell your goods anywhere they choose (as long as the material follows the terms of service of the website). It’s a fantastic way to reach new markets.\\n\\nAnyone can start their affiliate marketing career by registering on the different affiliate websites.\\n\\nInfluencer marketing is a new trend for online marketing. They have a strong following, can inspire people to buy your goods, and are loved by their viewers.\\n\\nThe type of online marketing that will work best for the company will be determined by many factors, including the nature of your industry, the tastes and demographics of the target market, and budget. Market analysis will guide to the best strategy or combination of strategies for your offerings, and comprehensive performance metrics will show you which are the most effective.\\n• None Online advertising provides a large client base for a company’s services or products. All kinds of companies, from multinationals to small and medium enterprises, have access to millions of potential customers. The higher the number of users who visit your website, the more sales you can make.\\n• None One can advertise their company 24 hours a day, seven days a week, through online marketing campaigns. You just won’t have to think about employee pay or shop hours. Furthermore, time differences in different parts of the world will have no impact on your campaigns.\\n• None In today’s ads, social media is important. This is due to the fact that customers read comments and feedback left by other customers on the internet. Businesses can easily integrate social media tools into their advertising strategies and benefit from consumers who use social media extensively.\\n• None In an online marketing process, consumers can be demographically targeted even more effectively than in an offline process. Organizations will enhance their targeting over time, have a better understanding of their consumer base, and generate exclusive deals that are only shown to certain demographics when combined with the improved analytics.\\n\\nOnline marketing is a rapidly expanding industry that benefits companies in a variety of ways. The number of people who purchase goods and services online is on the rise. As a result, an increasing number of businesses around the world are turning to internet marketing to communicate with consumers and advertise their goods and services.'"
      ]
     },
     "execution_count": 48,
     "metadata": {},
     "output_type": "execute_result"
    }
   ],
   "source": [
    "article.cleaned_text"
   ]
  },
  {
   "cell_type": "code",
   "execution_count": 49,
   "id": "1907cbe3",
   "metadata": {},
   "outputs": [],
   "source": [
    "from goose3 import Goose\n",
    "url55=\"https://insights.blackcoffer.com/evolution-of-advertising-industry/\"\n",
    "goose= Goose()\n",
    "article=goose.extract(url55)"
   ]
  },
  {
   "cell_type": "code",
   "execution_count": 51,
   "id": "94c33675",
   "metadata": {},
   "outputs": [
    {
     "data": {
      "text/plain": [
       "'Evolution of Advertising Industry | Blackcoffer Insights'"
      ]
     },
     "execution_count": 51,
     "metadata": {},
     "output_type": "execute_result"
    }
   ],
   "source": [
    "article.title"
   ]
  },
  {
   "cell_type": "code",
   "execution_count": 52,
   "id": "93a26062",
   "metadata": {},
   "outputs": [
    {
     "data": {
      "text/plain": [
       "'Advertising can be described as a type of specific content broadcasting to a larger audience; the form can take several different forms, and the intended message can differ from genre to genre. The target for each medium could be different. Advertised content could be in print, radio, TV, or digital formats.\\n\\nWe’ll look at how the advertising market has changed over the last ten decade.\\n\\nAdvertising is a form of communication that aims to persuade a target audience. Typical advertising messages endorse programs, goods, concepts, people, and companies.\\n\\nFirst, conventional types of advertising were used to carry out advertising. Let’s take a look at the traditional forms of advertising.\\n\\nOther types of advertising include press advertisements in magazines and newspapers. Advertising in the classified section of a newspaper is an example of press advertising. A billboard or digital screen placed on a moving vehicle is often referred to as a mobile billboard.\\n\\nWhen a brand or product is used in a large entertainment venue, it is known as convert ads or guerrilla advertising.\\n\\nWhen a soft drink, a watch, or a pair of sneakers is seen or mentioned in a common film, this is an example of this.\\n\\nAd in supermarket videos, aisles, and on the inside of shopping carts is referred to as in-store advertising.\\n\\nConsumers are influenced by celebrity advertisements because of the power of wealth, fame, and popularity. However, if a celebrity falls out of favor, the use of that celebrity may be detrimental to a company.\\n\\nReligious organizations, political parties, political candidates, and special interest groups are examples of noncommercial ads.\\n\\nThese were the conventional forms of advertisement, but as the internet and technology progressed, the advertising industry began to play a role in helping brands establish a digital presence and advertising their products in a new way.\\n\\nThe advertising industry is a multibillion-dollar global company that connects producers with customers. According to the research firm eMarkerter, global media advertising spending totaled nearly $629 billion in 2018, with digital advertising accounting for nearly 44% of that amount.\\n\\nFor more than a decade, consumers’ perspectives have been shifted in favor of commercials. Advertisements are created based on the preferences of the target audience, and as the population has become more tech-savvy, advertising agencies have shifted their focus from conventional to digital advertising. The internet, as well as the devices, used to access it.\\n\\nInternet advertising has evolved from a risky gamble to the main marketing medium for most businesses. Digital advertising continues to expand by double digits on an annual revenue basis in the United States, with overall spending exceeding $129 billion in 2019.\\n\\nMobile advertising is a form of advertising that uses wireless devices such as smartphones, tablets, and personal digital assistants to view advertisements. In the consumer goods and retail industries, it is extremely necessary.\\n\\nMobile advertising contents tailored to particular age groups present an opportunity for the mobile advertising industry. The challenges that the mobile advertising industry faces pose a significant risk of new entrants.\\n\\nContent marketing is an old trend that has resurfaced. Many marketers have struggled to determine how powerful banners and display advertising on other people’s content are.\\n\\nCompanies are embedding their marketing pitch within the content itself, rather than serving an ad. This can take the form of publisher-tailored content that the advertiser can support or content that the advertiser publishes directly.\\n\\nThere are different kinds of businesses and websites that have used content marketing to grow and flourish in the industry. Content marketing is a trend that has contributed a large amount of income to the advertisement industry.\\n\\nTo summarise, the advertising industry has evolved through time and will continue to do so as technology advances, allowing advertisers to reach a wider audience and gain a greater understanding of the people to whom they are delivering material.\\n\\nThe advertising industry will continue to develop in tandem with innovation. People are also becoming more jaded when it comes to advertisements, pushing businesses to come up with new ways to convey their messages. However, advertisement has a promising future.'"
      ]
     },
     "execution_count": 52,
     "metadata": {},
     "output_type": "execute_result"
    }
   ],
   "source": [
    "article.cleaned_text"
   ]
  },
  {
   "cell_type": "code",
   "execution_count": 53,
   "id": "139c49da",
   "metadata": {},
   "outputs": [],
   "source": [
    "from goose3 import Goose\n",
    "url56=\"https://insights.blackcoffer.com/how-data-analytics-can-help-your-business-respond-to-the-impact-of-covid-19/\"\n",
    "goose= Goose()\n",
    "article=goose.extract(url56)"
   ]
  },
  {
   "cell_type": "code",
   "execution_count": 54,
   "id": "5edbb4e6",
   "metadata": {},
   "outputs": [
    {
     "data": {
      "text/plain": [
       "'How Data Analytics can help your business respond to the impact of COVID-19? | Blackcoffer Insights'"
      ]
     },
     "execution_count": 54,
     "metadata": {},
     "output_type": "execute_result"
    }
   ],
   "source": [
    "article.title"
   ]
  },
  {
   "cell_type": "code",
   "execution_count": 55,
   "id": "1bc9ee66",
   "metadata": {},
   "outputs": [
    {
     "data": {
      "text/plain": [
       "'Before we get into the whole discussion, let’s first discuss the basic working of data analysis.\\n\\nData analysis is defined as a process of cleaning, transforming, and modeling data to discover useful information for business decision-making.\\n\\nUsing data analysis, we can extract useful information from the given data and then take corresponding decisions based upon the analyzed data.\\n\\nDuring the pandemic known as COVID-19, many businesses failed to grow whereas many touched the sky, for example, the transportation of raw materials was drastically low because:\\n• Storage facilities were shut down, and many more for such reasons.\\n\\nOn the other hand, new business/startups got a chance to compete in the market by getting early responses from the companies they wanted to tie up with or from the head of the companies that they wanted investments from.\\n\\nThe data analysis can help businesses in many ways such as:\\n• Using different statistical models that are used in data analysis, the businesses can predict the approximate requirement for the product in the near future and hence they can produce it accordingly.\\n• It makes it easier to track the requirement and produce the product accordingly.\\n• Because of the lockdown, people had to start working from home, which became a huge advantage for the businesses as they would get quicker responses from their tie-ups.\\n• Using data analysis, businesses can create several models and structures to measure the growth of the company and also to make devised plans to increase the revenues and decrease the losses.\\n\\nData analysis provides different analytical techniques such as:\\n\\nUsing these techniques, businesses can analyze everything and predict almost anything.\\n\\nThese techniques, tools, and models, can help businesses tackle this horrendous situation that is COVID-19.'"
      ]
     },
     "execution_count": 55,
     "metadata": {},
     "output_type": "execute_result"
    }
   ],
   "source": [
    "article.cleaned_text"
   ]
  },
  {
   "cell_type": "code",
   "execution_count": 56,
   "id": "a739eb03",
   "metadata": {},
   "outputs": [
    {
     "ename": "NetworkError",
     "evalue": "NetworkError: status code: Not Found; reason: 404",
     "output_type": "error",
     "traceback": [
      "\u001b[1;31m---------------------------------------------------------------------------\u001b[0m",
      "\u001b[1;31mNetworkError\u001b[0m                              Traceback (most recent call last)",
      "Cell \u001b[1;32mIn[56], line 4\u001b[0m\n\u001b[0;32m      2\u001b[0m url57\u001b[38;5;241m=\u001b[39m\u001b[38;5;124m\"\u001b[39m\u001b[38;5;124mhttps://insights.blackcoffer.com/covid-19-environmental-impact-for-the-future/\u001b[39m\u001b[38;5;124m\"\u001b[39m\n\u001b[0;32m      3\u001b[0m goose\u001b[38;5;241m=\u001b[39m Goose()\n\u001b[1;32m----> 4\u001b[0m article\u001b[38;5;241m=\u001b[39m\u001b[43mgoose\u001b[49m\u001b[38;5;241;43m.\u001b[39;49m\u001b[43mextract\u001b[49m\u001b[43m(\u001b[49m\u001b[43murl57\u001b[49m\u001b[43m)\u001b[49m\n",
      "File \u001b[1;32m~\\f1\\lib\\site-packages\\goose3\\__init__.py:125\u001b[0m, in \u001b[0;36mGoose.extract\u001b[1;34m(self, url, raw_html)\u001b[0m\n\u001b[0;32m    122\u001b[0m     \u001b[38;5;28;01mraise\u001b[39;00m \u001b[38;5;167;01mValueError\u001b[39;00m(\u001b[38;5;124m\"\u001b[39m\u001b[38;5;124mEither url or raw_html should be provided\u001b[39m\u001b[38;5;124m\"\u001b[39m)\n\u001b[0;32m    124\u001b[0m crawl_candidate \u001b[38;5;241m=\u001b[39m CrawlCandidate(\u001b[38;5;28mself\u001b[39m\u001b[38;5;241m.\u001b[39mconfig, url, raw_html)\n\u001b[1;32m--> 125\u001b[0m \u001b[38;5;28;01mreturn\u001b[39;00m \u001b[38;5;28;43mself\u001b[39;49m\u001b[38;5;241;43m.\u001b[39;49m\u001b[43m__crawl\u001b[49m\u001b[43m(\u001b[49m\u001b[43mcrawl_candidate\u001b[49m\u001b[43m)\u001b[49m\n",
      "File \u001b[1;32m~\\f1\\lib\\site-packages\\goose3\\__init__.py:153\u001b[0m, in \u001b[0;36mGoose.__crawl\u001b[1;34m(self, crawl_candidate)\u001b[0m\n\u001b[0;32m    151\u001b[0m parsers \u001b[38;5;241m=\u001b[39m \u001b[38;5;28mlist\u001b[39m(\u001b[38;5;28mself\u001b[39m\u001b[38;5;241m.\u001b[39mconfig\u001b[38;5;241m.\u001b[39mavailable_parsers)\n\u001b[0;32m    152\u001b[0m parsers\u001b[38;5;241m.\u001b[39mremove(\u001b[38;5;28mself\u001b[39m\u001b[38;5;241m.\u001b[39mconfig\u001b[38;5;241m.\u001b[39mparser_class)\n\u001b[1;32m--> 153\u001b[0m \u001b[38;5;28;01mreturn\u001b[39;00m \u001b[43mcrawler_wrapper\u001b[49m\u001b[43m(\u001b[49m\u001b[38;5;28;43mself\u001b[39;49m\u001b[38;5;241;43m.\u001b[39;49m\u001b[43mconfig\u001b[49m\u001b[38;5;241;43m.\u001b[39;49m\u001b[43mparser_class\u001b[49m\u001b[43m,\u001b[49m\u001b[43m \u001b[49m\u001b[43mparsers\u001b[49m\u001b[43m,\u001b[49m\u001b[43m \u001b[49m\u001b[43mcrawl_candidate\u001b[49m\u001b[43m)\u001b[49m\n",
      "File \u001b[1;32m~\\f1\\lib\\site-packages\\goose3\\__init__.py:141\u001b[0m, in \u001b[0;36mGoose.__crawl.<locals>.crawler_wrapper\u001b[1;34m(parser, parsers, crawl_candidate)\u001b[0m\n\u001b[0;32m    139\u001b[0m \u001b[38;5;28;01mtry\u001b[39;00m:\n\u001b[0;32m    140\u001b[0m     crawler \u001b[38;5;241m=\u001b[39m Crawler(\u001b[38;5;28mself\u001b[39m\u001b[38;5;241m.\u001b[39mconfig, \u001b[38;5;28mself\u001b[39m\u001b[38;5;241m.\u001b[39mfetcher)\n\u001b[1;32m--> 141\u001b[0m     article \u001b[38;5;241m=\u001b[39m \u001b[43mcrawler\u001b[49m\u001b[38;5;241;43m.\u001b[39;49m\u001b[43mcrawl\u001b[49m\u001b[43m(\u001b[49m\u001b[43mcrawl_candidate\u001b[49m\u001b[43m)\u001b[49m\n\u001b[0;32m    142\u001b[0m \u001b[38;5;28;01mexcept\u001b[39;00m (\u001b[38;5;167;01mUnicodeDecodeError\u001b[39;00m, \u001b[38;5;167;01mValueError\u001b[39;00m) \u001b[38;5;28;01mas\u001b[39;00m ex:\n\u001b[0;32m    143\u001b[0m     logger\u001b[38;5;241m.\u001b[39merror(\u001b[38;5;124m\"\u001b[39m\u001b[38;5;124mParser \u001b[39m\u001b[38;5;132;01m%s\u001b[39;00m\u001b[38;5;124m failed to parse the content\u001b[39m\u001b[38;5;124m\"\u001b[39m, parser)\n",
      "File \u001b[1;32m~\\f1\\lib\\site-packages\\goose3\\crawler.py:128\u001b[0m, in \u001b[0;36mCrawler.crawl\u001b[1;34m(self, crawl_candidate)\u001b[0m\n\u001b[0;32m    125\u001b[0m parse_candidate \u001b[38;5;241m=\u001b[39m \u001b[38;5;28mself\u001b[39m\u001b[38;5;241m.\u001b[39mget_parse_candidate(crawl_candidate)\n\u001b[0;32m    127\u001b[0m \u001b[38;5;66;03m# raw html\u001b[39;00m\n\u001b[1;32m--> 128\u001b[0m raw_html \u001b[38;5;241m=\u001b[39m \u001b[38;5;28;43mself\u001b[39;49m\u001b[38;5;241;43m.\u001b[39;49m\u001b[43mget_html\u001b[49m\u001b[43m(\u001b[49m\u001b[43mcrawl_candidate\u001b[49m\u001b[43m,\u001b[49m\u001b[43m \u001b[49m\u001b[43mparse_candidate\u001b[49m\u001b[43m)\u001b[49m\n\u001b[0;32m    130\u001b[0m \u001b[38;5;28;01mif\u001b[39;00m raw_html \u001b[38;5;129;01mis\u001b[39;00m \u001b[38;5;28;01mNone\u001b[39;00m:\n\u001b[0;32m    131\u001b[0m     logger\u001b[38;5;241m.\u001b[39mwarning(\u001b[38;5;124m\"\u001b[39m\u001b[38;5;124mNo raw_html is provided or could be fetched; continuing with an empty Article object\u001b[39m\u001b[38;5;124m\"\u001b[39m)\n",
      "File \u001b[1;32m~\\f1\\lib\\site-packages\\goose3\\crawler.py:264\u001b[0m, in \u001b[0;36mCrawler.get_html\u001b[1;34m(self, crawl_candidate, parsing_candidate)\u001b[0m\n\u001b[0;32m    262\u001b[0m \u001b[38;5;66;03m# fetch HTML\u001b[39;00m\n\u001b[0;32m    263\u001b[0m logger\u001b[38;5;241m.\u001b[39mdebug(\u001b[38;5;124m\"\u001b[39m\u001b[38;5;124mFetching html from \u001b[39m\u001b[38;5;132;01m%s\u001b[39;00m\u001b[38;5;124m\"\u001b[39m, crawl_candidate\u001b[38;5;241m.\u001b[39murl)\n\u001b[1;32m--> 264\u001b[0m response \u001b[38;5;241m=\u001b[39m \u001b[38;5;28;43mself\u001b[39;49m\u001b[38;5;241;43m.\u001b[39;49m\u001b[43mfetcher\u001b[49m\u001b[38;5;241;43m.\u001b[39;49m\u001b[43mfetch_obj\u001b[49m\u001b[43m(\u001b[49m\u001b[43mparsing_candidate\u001b[49m\u001b[38;5;241;43m.\u001b[39;49m\u001b[43murl\u001b[49m\u001b[43m)\u001b[49m\n\u001b[0;32m    265\u001b[0m \u001b[38;5;28;01mif\u001b[39;00m response\u001b[38;5;241m.\u001b[39mencoding \u001b[38;5;241m!=\u001b[39m \u001b[38;5;124m\"\u001b[39m\u001b[38;5;124mISO-8859-1\u001b[39m\u001b[38;5;124m\"\u001b[39m:  \u001b[38;5;66;03m# requests has a good idea; use what it says\u001b[39;00m\n\u001b[0;32m    266\u001b[0m     \u001b[38;5;66;03m# return response as a unicode string\u001b[39;00m\n\u001b[0;32m    267\u001b[0m     html \u001b[38;5;241m=\u001b[39m response\u001b[38;5;241m.\u001b[39mtext\n",
      "File \u001b[1;32m~\\f1\\lib\\site-packages\\goose3\\network.py:65\u001b[0m, in \u001b[0;36mNetworkFetcher.fetch_obj\u001b[1;34m(self, url)\u001b[0m\n\u001b[0;32m     63\u001b[0m     \u001b[38;5;28mself\u001b[39m\u001b[38;5;241m.\u001b[39m_url \u001b[38;5;241m=\u001b[39m \u001b[38;5;28;01mNone\u001b[39;00m\n\u001b[0;32m     64\u001b[0m     \u001b[38;5;28;01mif\u001b[39;00m \u001b[38;5;28mself\u001b[39m\u001b[38;5;241m.\u001b[39mconfig\u001b[38;5;241m.\u001b[39mstrict:\n\u001b[1;32m---> 65\u001b[0m         \u001b[38;5;28;01mraise\u001b[39;00m NetworkError(response\u001b[38;5;241m.\u001b[39mstatus_code, response\u001b[38;5;241m.\u001b[39mreason)\n\u001b[0;32m     67\u001b[0m \u001b[38;5;28;01mreturn\u001b[39;00m response\n",
      "\u001b[1;31mNetworkError\u001b[0m: NetworkError: status code: Not Found; reason: 404"
     ]
    }
   ],
   "source": [
    "from goose3 import Goose\n",
    "url57=\"https://insights.blackcoffer.com/covid-19-environmental-impact-for-the-future/\"\n",
    "goose= Goose()\n",
    "article=goose.extract(url57)"
   ]
  },
  {
   "cell_type": "code",
   "execution_count": 57,
   "id": "41bf9da5",
   "metadata": {},
   "outputs": [],
   "source": [
    "from goose3 import Goose\n",
    "url58=\"https://insights.blackcoffer.com/environmental-impact-of-the-covid-19-pandemic-lesson-for-the-future/\"\n",
    "goose= Goose()\n",
    "article=goose.extract(url58)"
   ]
  },
  {
   "cell_type": "code",
   "execution_count": 58,
   "id": "75d1fbfe",
   "metadata": {},
   "outputs": [
    {
     "data": {
      "text/plain": [
       "'Environmental impact of the COVID-19 pandemic – Lesson for the Future | Blackcoffer Insights'"
      ]
     },
     "execution_count": 58,
     "metadata": {},
     "output_type": "execute_result"
    }
   ],
   "source": [
    "article.title"
   ]
  },
  {
   "cell_type": "code",
   "execution_count": 59,
   "id": "ad04b630",
   "metadata": {},
   "outputs": [
    {
     "data": {
      "text/plain": [
       "'The Covid- 19 pandemics forced factories to shut down, flights getting canceled and a massive decrease in the global economy, with a significant decrease in Green House Gases (GHG) in many developed and developing countries.\\n\\nThe SARS- CoV2 came into the spotlight in December 2019 and has impacted most of the countries till then. Nearly 131 million peoples were infected worldwide and resulting in deaths of around 2.9 Million according to World Health Organisation (WHO). Most of the countries dealt with the new virus by imposing strict lockdowns and social distancing to control the spread of the virus. These policies caused adverse effects worldwide. One of the most important impacts of the Covid-19 Pandemic is on the environment.\\n\\nThere have been few positive impacts on the environment due to lockdown like, air pollution has decreased dramatically, as people were asked to stay in their houses due to the lockdowns. There has also been a sharp decline in environmental noise. Environmental noise can be well defined as the unwanted or harmful outdoor sounds caused by human activities like noise emitted by road traffics, air traffics, rail traffics, and industrial activities. It is one of the most important challenges in the modern era as noise pollution can cause adverse effects on humans as well as harm many animals too. The imposition of lockdown and quarantine by various nation’s governments has caused people to remain back at their homes. Because of this, the movement of people from one place to a different place has reduced significantly and the use of personal and public transport has also decreased. Due to all these changes, the environmental noise generated in most of the cities has dropped substantially.\\n\\nWater Pollution at beaches have reduced significantly and many animals were spotted back in the cities, but the covid-19 virus has also generated many negative and indirect effect on the environment.\\n\\nTo begin with, some of the developed countries have halted their sustainability program during the pandemic. In the United States and in many other European nation-States, waste recycling plants have been suspended in many municipalities and cities due to the concern of the virus getting spread at the recycling centers. This has resulted in an increase in the use of single-use plastic bags instead of the re-usable bags by many leading restaurants, firms, and corporations. For instance, Starbucks, a leading coffee company during the month of March 2020, has announced a short-lived ban on the utilization of recyclable and reusable cups.\\n\\nFurthermore, with most of the people staying indoors because of the lockdown majority of the department stores, shops, restaurants, and food outlets are closed, making an online purchase and food delivery are quite high. This has created more consumption and demand for fossil fuels due to the transportation and mobility of these goods to each individual. There has been an enormous upsurge of medical waste- because most of the products employed by healthcare professionals are usually single-use items that can be used only once before they are disposed of. Some of these wastes include used masks, personal protection kits, and gloves. For instance, nearly 200 tons of medical waste were generated during the peak of the pandemic breakout in Wuhan, China. This is 50 tones more than the average waste generated before the outbreak in Wuhan.\\n\\nThese organic and inorganic wastes generated due to the policies crafted by the government takes a heavy toll on the environment and can cause environmental issues like water pollution, air pollution, soil erosion, and can harm the local flora and fauna.\\n\\nThe demand for masks during the pandemic has become skyrocketing but the materials required for the production of these masks are highly dangerous for the environment as they are generally composed of non-woven fabrics. Polyester, Polystyrene, polyethylene, and polycarbonate, are some common materials used for the surgical mask with density lying between 20grams to 25 grams/sq. meter. These materials are mostly resistant to liquids and are plastic-based products with a really high afterlife after being discarded. If not treated properly without discarding, they end up filling the landfills and the oceans making it dangerous to aquatic lifeforms. For example, recently the environment in Hong Kong has started degrading drastically during the pandemic with the accumulation of these clinical wastes.\\n\\nWith recycling plants on hold, piles of small mountains of wastes and their depositions at open areas are formed due to the increasing number of unrecycled wastes generated every day. This makes the surrounding more vulnerable and also creating a high risk of air pollutions as the dumped open wastes decays into Methane (CH4), a greenhouse gas, hence increasing the risk of global warming too. Not only the surroundings are getting affected by these careless methods, but the local people are also getting affected. If the excess methane gets accumulated in the Earth’s atmosphere due to piles of unrecycled wastes, this could result in increases in Earth’s average temperature and can be harmful to future generations.\\n\\nMany protected and endangered flora and fauna are facing much greater risks due to the imposition of the lockdown. Many countries under lockdown have made people stay inside their homes. The employees, NGOs, and volunteers working in these protected areas like National Parks, Marine Conservation Zones, and wildlife sanctuaries are made to stay at home making these protected and endangered flora and fauna unattended. This has also led to an increase in many illegal activities like wildlife hunting, illegal deforestation, and fishing activities due to the absence of these people. The prohibition of eco-tourism has also led to a significant financial drop in the economy of these protected areas.\\n\\nSome nations like China have asked the local authorities and native government bodies to increase the amount of disinfection routine, mainly to increase the dosage of chlorine in the wastewater treatment plant to prevent the spread of the COVID-19 virus. However, according to WHO (2020), no solid evidence has been found on the survival of the virus on the lifespan of the virus in wastewater as well as in drinking water. Despite the fact that excessive amounts of chlorine in water can cause harmful problems and issues associated with people’s health like bladder cancer and it also damages its cells.\\n\\nThe COVID-19 is a reminder that the health of the planet is also linked to the health of humans. Evidence proves that the virus is zoonotic, meaning it can be transmitted between people and animals. They are accountable for seventy-five percent of all emerging infectious diseases in the World. With the Virus infecting millions of people every day across the globe, Various governments and agencies’ top priority is to regulate the spread of the virus by shifting the spotlight on the management and treatment of wastes (especially the clinical and medical waste). Likewise, at the same time, we as responsible individuals need to step up and follow the necessary guideline and precautions for the disposal of the waste and medical gears.\\n\\nIn Spite of various data showing that the pollutions have reduced significantly during the pandemic, History has witnessed a rise in pollution during any “post-financial crisis”. A similar case was observed during the 2008 financial crash – although there was a temporary decrease in emissions of 1.3% was observed, but as the economy recovered in 2010, emissions were at an all-time high. After all, only through sheer mutual empathy and goodwill that the world will emerge stronger after this global pandemic. To prevent future outbreaks, we must address regularly the threats to the ecosystems and wildlife, including habitat loss, illegal trade, pollution, and climate change as human life depends on Earth’s life.\\n\\nIf you live near a spacious outdoor area, like the desert or an empty road lined with trees and you realize it’s the only safe, surface-less space to take a walk in, then you begin to realize the beauty of nature. The point is not to remain indoors, but to avoid being in close contact with others. When you do leave your home, whether it is for a walk in the desert or a run on your street, make sure to wipe down any surfaces you come into contact with, avoid touching your face, and frequently wash your hands.'"
      ]
     },
     "execution_count": 59,
     "metadata": {},
     "output_type": "execute_result"
    }
   ],
   "source": [
    "article.cleaned_text"
   ]
  },
  {
   "cell_type": "code",
   "execution_count": 60,
   "id": "4ccadb37",
   "metadata": {},
   "outputs": [],
   "source": [
    "from goose3 import Goose\n",
    "url59=\"https://insights.blackcoffer.com/how-data-analytics-and-ai-are-used-to-halt-the-covid-19-pandemic/\"\n",
    "goose= Goose()\n",
    "article=goose.extract(url59)"
   ]
  },
  {
   "cell_type": "code",
   "execution_count": 61,
   "id": "c398d9a1",
   "metadata": {},
   "outputs": [
    {
     "data": {
      "text/plain": [
       "'How Data Analytics and AI are used to halt the COVID-19 Pandemic? | Blackcoffer Insights'"
      ]
     },
     "execution_count": 61,
     "metadata": {},
     "output_type": "execute_result"
    }
   ],
   "source": [
    "article.title"
   ]
  },
  {
   "cell_type": "code",
   "execution_count": 62,
   "id": "3307d5f3",
   "metadata": {},
   "outputs": [
    {
     "data": {
      "text/plain": [
       "'Even though COVID-19 has not yet halted and we are facing the nth wave of the coronavirus outbreak across several countries, most notably the US, India, and Brazil. It is a fact that Data Analytics and AI are the big guns of our artillery in this fight against the COVID-19 pandemic. It has helped us in several stages of this outbreak, like the detection of its first outbreak, vaccine development and manufacturing contact tracing, and future hotspot detection. Some of these interesting applications are discussed in this article.\\n\\nA lesser-known fact is that the COVID-19 outbreak was first detected in Toronto, Canada, nearly 7,230 miles away from the first outbreak, nine days before the WHO issued its warning. It was with the help of Big Data Analytics and AI, more specifically Deep Learnings (DL, a subset of Machine Learning) application in Natural Language Processing (NLP) to analyze text inputs that traced the surge of pneumonia cases in the Wuhan province of China. The specialty of DL algorithms is that they mimic the brain cells called neurons and can identify patterns in Big Data. This DL-backed software is used as inputs, reports from public health organizations, global airline ticketing data, etc. These were used to flag unusual surges and potential spreads of infectious diseases.\\n\\nThe next application of Big Data Analytics and AI was in the Research and Development of drugs to halt COVID-19. AI was used to analyze the protein structure of the virus, findings that were significant in the progress of vaccine development. In preliminary studies, it was found that it does not mutate as fast as other viruses such as HIV, which means that a prophylactic vaccine is a better way to proceed rather than a therapy. But there is also some evidence supporting the fact that when we find any kind of cure for it, there is a chance of the virus mutating, which is what happened and major mutations have been found in the UK, Brazil, and South Africa. AI also assisted scientists in rapidly shortlisting a set of already available vaccines that could be effective against the coronavirus.\\n\\nAnother interesting application of AI can be found in the selection of the right candidates, i.e. most likely to test positive for testing coronavirus in case of insufficient testing resources. This method was first exercised on Greek borders and was called project EVA. Whenever a traveler wanted to come into Greece, he had to fill out a form known as Passenger Locator Form (PLF) at least 24 hours prior to arrival, containing information on their origin country, demographics, point, and date of entry, and the intended destination. EVA then allocated testing resources according to the size of the set of passengers to be tested. After the test results, if found positive, they are put in quarantine. The results were sent back to the program for real-time learning.\\n\\nThe question remains how EVA made allocations, It was found that, statistically, only the origin country and the city were significant factors for screening. Ultimately, from a variety of countries and city pairs, EVA had to predict how many testing resources were to be allocated at each entry point and to particular passengers from a location is technically called the Multi-Armed Bandit (MAB) problem, and the chosen method to solve this problem was an AI algorithm called optimistic Gittins index. This algorithm identified on average 1.85x as many asymptomatic, infected travelers as random surveillance testing, and up to 2-4x as many during peak travel. After the test results, if found positive, they are put in quarantine. Following the collection of significant data through the aforementioned process, after a certain period, policies were made categorizing them separately and imposing restrictions on travelers from the specific location. This EVA as presented above was in operation from August 6th to November 1st processing around 38,500 PLFs each day and testing on an average 18.5% of households entering the country every day.\\n\\nAbove mentioned applications just show the tip of the iceberg and there is more to get into some of the other developments to watch for include the use of Image Recognition to identify covid based on x-ray images, the use of Deep Learning to predict the 3-D protein structure associated with COVID-19 and so on.'"
      ]
     },
     "execution_count": 62,
     "metadata": {},
     "output_type": "execute_result"
    }
   ],
   "source": [
    "article.cleaned_text"
   ]
  },
  {
   "cell_type": "code",
   "execution_count": 63,
   "id": "e753eb84",
   "metadata": {},
   "outputs": [],
   "source": [
    "from goose3 import Goose\n",
    "url60=\"https://insights.blackcoffer.com/difference-between-artificial-intelligence-machine-learning-statistics-and-data-mining/\"\n",
    "goose= Goose()\n",
    "article=goose.extract(url60)"
   ]
  },
  {
   "cell_type": "code",
   "execution_count": 64,
   "id": "fec57c26",
   "metadata": {},
   "outputs": [
    {
     "data": {
      "text/plain": [
       "'What is the difference between Artificial Intelligence, Machine Learning, Statistics, and Data Mining? | Blackcoffer Insights'"
      ]
     },
     "execution_count": 64,
     "metadata": {},
     "output_type": "execute_result"
    }
   ],
   "source": [
    "article.title"
   ]
  },
  {
   "cell_type": "code",
   "execution_count": 65,
   "id": "c961c421",
   "metadata": {},
   "outputs": [
    {
     "data": {
      "text/plain": [
       "'“Data is the new oil” has become the most important trendline of the 21st century. The reason for this is the advancements in the fields related to data analysis. The field of AI Machine Learning Statistics and Data Mining all deal with data and are developing at such a staggering pace, that these fields have become the most popular buzzwords these days.\\n\\nBuzzwords are originated through technical terms but often the underlying essence is ignored through fashionable use and mainly used to impress. This is the main reason for the misconception amongst people. AI, ML, Stats, Data Mining, and many other fields related to the analysis of data are most often mistook for one and the same thing, thus all these words are often used interchangeably to convey one and the same thing. But this is not true at all!\\n\\nThe only similarity between these disciplines is that all of these disciplines are related to the analysis of the data and converting this data into “information”.\\n\\nIn academics, while learning AI Machine Learning Statistics and Data Mining, the academic approach only wander in the technical definitions and concepts but the underlying essence and the aim of the discipline remain unexplored, same is the case with most of the articles out there which try to explain the difference. Thus, becoming the primary cause of confusion between learners. Hence, this article explains the difference by explaining the philosophy and the aims of each of the disciplines rather than wandering in the technical definitions.\\n• Then what is the difference between AI Machine Learning Statistics and Data Mining?\\n\\nThe essential difference between these disciplines lies in their “aims” and the approach taken to achieve those aims.\\n\\nThe aims of each of these fields are explained in detail in the following sections:\\n\\nThe aim of Artificial intelligence is to understand intelligent entities. Then to satisfy this aim, we must first understand what is intelligence and what makes an agent intelligent agent? The answer to all these questions can be found by studying intelligent agents and the best example of an intelligent agent can be found by just standing in front of a mirror! Yes! Humans are the best examples of intelligent entities. Thus, in the 1900s, researchers began exploring the thought process, the reasoning process of humans as human beings were considered as an ideal intelligent agent. Mimicking human behavior became the aim of AI in the initial years of the research. After setting this goal, studies and experiments began and the most famous experiment conducted in the initial years to achieve this aim was the Turing Test! Turing defined intelligent behavior as the ability to achieve human-level performance in all cognitive tasks, sufficient to fool an interrogator. But this test received criticism as only mimicking human behavior is not exactly intelligence. Because intelligence should be related to the working of the human brain as without the human brain, intelligence has no meaning!\\n\\nThus, mimicking human thought processes and reasoning became the transformed aim. The field of Psychology and philosophy also resonate with this aim that is to understand the human thought process. The difference is that AI not only tries to understand the thought process but to mimic it, build it. The collaboration of these fields resulted in models such as Neural Networks which try to mimic the function of neurons present in the human brain. So, basically, this initial aim was human-centered and humans were considered as the ideal intelligent agent.\\n\\nConcurrently, the field of computer science was developing at a greater pace. With the advances in computer science, the experiments and theories could be easily tested and validated. As programs were being applied to solve real-life problems, it was found that computers performed better than humans at some tasks that are really complex for humans. One of the best examples of this could be the chess-playing program. An AI program defeated the world’s best chess player Garry Kasparov. This incident indicated that human intelligence is not the ultimate intelligence or else a human would have been able to defeat the AI program. This leads to a question, is human intelligence the ideal intelligence?\\n\\nAs computers became more advanced, they proved to be better than humans at certain complex tasks. That is why the new definition of intelligence was being related to the ability to solve cognitive tasks or problems. So, rather than considering the nature of agents, researchers began to study the nature of intelligence itself. Then the question comes how to test or validate intelligence? The best way to test intelligence is to solve cognitive problems. An agent can be said intelligent only if it can solve a complex problem. The problem-solving approach can be easily tested and validated on computers. Thus, some researchers began studying the ideal intelligence, and the selected agent to validate the experiments was the computer. So, a computer and problem-solving approach were adopted. So, the human-centered approach and computer, problem-solving approach are the two main aims of AI. Both of these fields have contributed to the field by giving valuable insights.\\n\\nBoth the aims are important and both of these collaboratively form the main aim of AI!\\n\\nIn the problem-solving approach, there is a big challenge that AI has to overcome in order to achieve its aim. Consider the example of solving a math problem. There are two cases by which intelligence can be tested in this problem-solving approach. Let us say two math problems are given for you to solve. The first problem is familiar to you and the second problem is not.\\n\\nConsider the first problem. The first problem is familiar to you, that means you know how to solve such kind of problems as you have already solved some similar problems in the past. So, there comes a question, how our mind is able to solve that problem? The answer is, that you have solved similar problems in the past, thus you have learned from the past data, how to solve such problems, thus even if you haven’t seen that problem in the past, you will still be able to solve similar problems. This is one form of intelligence.\\n\\nConsider another case where you are given a second problem where you have not solved such kind of problems in the past. Then to solve this problem, you will try to consciously gather and manipulate the given information so that you reach a certain conclusion. This kind of approach does not necessarily rely on the past data but completely on the reasoning process. This is the second kind of intelligence.\\n\\nFor AI to build intelligent agents, both of these kinds of intelligence must be developed in the agent. But, the reality is that AI has reached the point where it is able to build agents which can only learn from past data and find some useful information. AI today has not reached a point where it can build agents who can think on their own. That is the second type of intelligence.\\n\\nSo, the way AI is able to implement the first type of intelligence is through Machine Learning! So, the domain of AI which focuses solely on implementing the first kind of intelligence is in fact Machine Learning. That is the reason why ML is called the subset of AI! So, this is the main difference between AI and ML.\\n\\nTechnically speaking, “It is the field of study that gives computers the ability to learn from past data and find some meaningful conclusions, patterns without being explicitly programmed”. This statement needs some elaboration. The essence of ML is related to the process of “Generalization” and learning from past data. Generalization is an abstraction by which common properties of specific instances are formulated as general concepts or claims. Consider how we humans recognize daily life objects. If we see an animal, then we can easily recognize if it is a “dog” or a “cat”. It is a very trivial task for us but have you ever wondered how our mind is able to do it? The answer is Generalization!\\n\\nIf you were given a picture of a dog, you can easily recognize that it is a picture of a dog, because, our minds have abstracted the description of a dog and formulated it into a “concept” of what a dog is and these concepts became better and better as we learned from the past experiences of a dog. So, the way we think is dependent on the fact that things are represented as generalized concepts in our minds.\\n\\nWith generalization only, can come real “information”. So, we try to give computers the ability to generalize the “raw data” and convert it into “information” which can be patterns and trends in the data on their own.\\n\\nThis is the discipline that concerns the collection, organization, analysis, interpretation, and presentation of data. Statistics tries to deal with data with the only aim that is to explain it. So, it is the study of explaining the data itself! Statistics has two main domains which are Descriptive statistics and Inferential statistics.\\n\\nDescriptive statistics deals with the explanation or description of data thus the name “Descriptive” statistics. It tries to explain as much information as possible, easily about the whole large data which would be a very complex task otherwise.\\n\\nInferential statistics try to make accurate inferences from the available small data. We use inference in many tasks in our daily lives. Consider a simple case of cooking a soup. After completing the recipe, you will taste a small sample, that is, a spoonful of the soup to check if the soup tastes good or bad. Depending upon the result of the sample, you make an inference about the whole soup that if the soup as a whole, good or bad. Similarly, in statistics, there are cases where you have to apply inference to have meaningful information. For example, consider a case where you cannot gather the whole data because it is very time-consuming and costly. In these cases, applying inference based on the available sample introduces uncertainty. That is where inferential statistics come for help.\\n\\nSo, the use of data in the context of uncertainty and decision-making in the face of uncertainty is what statistics deals with. So, however, and whatever the data, statistics tries to explain that data. This aim does not resonate with that of AI and ML, but statistics help these fields to correctly interpret the data!\\n\\n“Data”, is not useful at all in its raw form. Consider examples of sensors used in industrial applications. These sensors might be used in a manufacturing plant to sense different properties like temperature, pressure, etc. The raw data generated by these sensors are not useful until and unless it is converted to a suitable form, then processed, analyzed to gather valuable insights, which can be used to solve a problem!\\n\\nDue to its unique aim of capturing the essence of very large datasets, to gather insights, Data Mining is also referred to as “Knowledge Discovery”. That is why, Carly Fiorina, former CEO of Hewlett-Packard once said, “The goal is to turn data into information and information into Insight”. This statement completely explains the aim of Data Mining!\\n\\nSo, the difference between AI Machine Learning Statistics and Data Mining lies in their aims. But the approaches taken in all of these fields, help in one way or the other in fulfilling the aims of the other fields. This is the beauty of these fields!'"
      ]
     },
     "execution_count": 65,
     "metadata": {},
     "output_type": "execute_result"
    }
   ],
   "source": [
    "article.cleaned_text"
   ]
  },
  {
   "cell_type": "code",
   "execution_count": 66,
   "id": "780717fd",
   "metadata": {},
   "outputs": [],
   "source": [
    "from goose3 import Goose\n",
    "url61=\"https://insights.blackcoffer.com/how-python-became-the-first-choice-for-data-science/\"\n",
    "goose= Goose()\n",
    "article=goose.extract(url61)"
   ]
  },
  {
   "cell_type": "code",
   "execution_count": 67,
   "id": "96a80be7",
   "metadata": {},
   "outputs": [
    {
     "data": {
      "text/plain": [
       "'How Python became the first choice for Data Science. | Blackcoffer Insights'"
      ]
     },
     "execution_count": 67,
     "metadata": {},
     "output_type": "execute_result"
    }
   ],
   "source": [
    "article.title"
   ]
  },
  {
   "cell_type": "code",
   "execution_count": 68,
   "id": "73cce202",
   "metadata": {},
   "outputs": [
    {
     "data": {
      "text/plain": [
       "'Data Science is gaining popularity exponentially over the past decade, and thanks to that we are now enjoying better products, recommendations, and smoother life. Data science is an interdisciplinary subject that includes statistics, math, IT, etc.\\n\\nNow there is so much to do in Data Science, so we need an arrangement where all this can be accessible in one place. It will be very hectic to go to hundreds of different resources while doing analysis or building models. But don’t worry, PYTHON is there for you.\\n\\nYes, you read it right, Python is a general programming language that can provide everything you need for Data Science. Several features that have made Python become the choice of data science in past times are:\\n\\n1. Python is a progressively typed language, so the variables are defined automatically.\\n\\n2. Python is more readable and uses lesser code to play out a similar task when contrasted with other programming languages.\\n\\n3. Python is specifically typed. In this way, developers need to cast types manually.\\n\\n4. Python is an interpreted language. This implies the program need not have complied.\\n\\n5. Python is flexible, convenient, and can run on any platform effectively. It is adaptable and can be integrated with other third-party software effectively.\\n\\nNow let’s see why Python become the choice of data science:\\n\\nThis library available in python makes it very easier to analyze the data, you can read a variety of data sets like CSV, XML, XLSX, JSON, etc. You can perform several operations like Groupby, sorting with the help of easily accessible objects from pandas.\\n\\nThis package helps you with any numerical operation that is needed to be performed in Data science, for example calculating Euclidean distance, finding ranks of the matrix, etc.\\n\\nThese are excellent data visualization libraries available in python that produce some excellent visualization like shown here,\\n\\nIt provides you state of the art machine learning algorithms for your accurate predictive analysis. Scikit–Learn is characterized by a clean, uniform, and streamlined API, as well as by very useful and complete online documentation. It provides a selection of efficient tools for machine learning and statistical modeling including classification, regression, clustering, and dimensionality reduction via a consistent interface in Python.\\n\\nKeras is an open-source software library that provides a Python interface for artificial neural networks. Keras acts as an interface for the TensorFlow library. Keras is an industry-strength framework that can scale to large clusters of GPUs or an entire TPU pod.\\n\\nSee, Now that you have a variety of resources available here in python, then why go anywhere else. Python I also becoming the world’s most loved and most wanted programming language and it will surely help to get you the job. Data science consulting organizations are empowering their group of developers and data scientists to utilize Python as a programming language. Python has gotten well-known and the most significant programming language in an extremely brief timeframe. Data Scientists need to manage a large amount of data known as big data. With simple utilization and a huge arrangement of python libraries, Python has become a popular choice to deal with big data.\\n\\nSeeing the stats we can clearly see that Python has taken over other Languages needed for data science. It has also surpassed R which is exclusively built for Data science. Isn’t this exciting.\\n\\nPython in Data science has empowered data scientists to accomplish more in less time. Python is an adaptable programming language that can be effectively understood and is exceptionally amazing as well.\\n\\nPython is highly adaptable and can work in any environment effectively. Additionally, with negligible changes, it can run on any operating system and can be integrated with other programming languages. These qualities have settled on Python as the top choice for developers & data scientists.\\n\\nSo next time you do analysis or work on any Data Science project, feel proud cause you are working with the most loved language of the world.'"
      ]
     },
     "execution_count": 68,
     "metadata": {},
     "output_type": "execute_result"
    }
   ],
   "source": [
    "article.cleaned_text"
   ]
  },
  {
   "cell_type": "code",
   "execution_count": 69,
   "id": "52143ebe",
   "metadata": {},
   "outputs": [],
   "source": [
    "from goose3 import Goose\n",
    "url62=\"https://insights.blackcoffer.com/how-google-fit-measure-heart-and-respiratory-rates-using-a-phone/\"\n",
    "goose= Goose()\n",
    "article=goose.extract(url62)"
   ]
  },
  {
   "cell_type": "code",
   "execution_count": 70,
   "id": "e25d8a90",
   "metadata": {},
   "outputs": [
    {
     "data": {
      "text/plain": [
       "'How Google fit measure heart and respiratory rates using a phone camera? | Blackcoffer Insights'"
      ]
     },
     "execution_count": 70,
     "metadata": {},
     "output_type": "execute_result"
    }
   ],
   "source": [
    "article.title"
   ]
  },
  {
   "cell_type": "code",
   "execution_count": 71,
   "id": "529e23d7",
   "metadata": {},
   "outputs": [
    {
     "data": {
      "text/plain": [
       "'It was in March that Tech giant Google came up with a ground-breaking announcement of Google Fit able to measure one’s heart and respiratory rates using their smartphones. This news spread like wildfire. Instantly became the talk of the town. This feature was said to be available to the Google Fit app exclusively to its Pixel phone users. Google also plans to expand to its other Android devices in the future.\\n\\nThis was after Google’s newest endeavor of acquiring the Fitbit for a whopping $2.1 billion. This acquisition not only does steps up a stage for a potential Google Smartwatch but also gives Google the ownerships to Fitbit’s health business and wealth of data assets. Users just need to place their head and upper torso in view of the front-facing phone camera for those who wish to measure their respiratory rate. For measuring Heart rate the user just has to place their finger on the rear-facing camera lens. Mind-blowing right!\\n\\nOnce the measurements have been taken the users simply have to store and save them in the Google Fit app to monitor and track their day-to-day wellness. On asked how it’s measuring these heart rate and respiratory rate, Google Health director of health technologies Shwethak Patel explained that these features rely on the sensors that have been built into the smartphone, such as its camera, microphone, and accelerometer. Thanks to increasingly power sensors even in affordable smartphones and advancements in computer vision, these features let use one smartphone’s camera to track even tiny physical signals like your chest movement to measure your respiratory rate and subtle changes in the color of your finger for your heart rate.\\n\\nPixel underwent and completed initial clinical trials to validate the algorithm cloud work in a variety of different world conditions and that too with many people while developing the features. Since our heart rate relies on approximating blood flow from color changes in someone’s fingertip, it has to account for factors such as lighting, skin tone, age. Adding to be able to measure heart and respiratory rate soon Google Fit also displays user daily stats such as daily goals, weekly goals, heart points, workout, and also sleep monitor.'"
      ]
     },
     "execution_count": 71,
     "metadata": {},
     "output_type": "execute_result"
    }
   ],
   "source": [
    "article.cleaned_text"
   ]
  },
  {
   "cell_type": "code",
   "execution_count": 72,
   "id": "c646dfb1",
   "metadata": {},
   "outputs": [],
   "source": [
    "from goose3 import Goose\n",
    "url63=\"https://insights.blackcoffer.com/what-is-the-future-of-mobile-apps/\"\n",
    "goose= Goose()\n",
    "article=goose.extract(url63)"
   ]
  },
  {
   "cell_type": "code",
   "execution_count": 73,
   "id": "5c1b9a97",
   "metadata": {},
   "outputs": [
    {
     "data": {
      "text/plain": [
       "'What is the future of mobile apps? | Blackcoffer Insights'"
      ]
     },
     "execution_count": 73,
     "metadata": {},
     "output_type": "execute_result"
    }
   ],
   "source": [
    "article.title"
   ]
  },
  {
   "cell_type": "code",
   "execution_count": 74,
   "id": "edde13cd",
   "metadata": {},
   "outputs": [
    {
     "data": {
      "text/plain": [
       "'From what I have learned on the mobile apps development market recently, it is becoming harder for an Android or iOS developer to find a suitable and well-paying job in the market.\\n\\nSome major reasons include the increasing supply of mobile engineers, people generally stop downloading apps, and many more.\\n\\nIn this article, I will go through a more detailed explanation of the recent trend mentioned above and my two cents on what mobile engineers could do to prepare themself for the upcoming challenge! and the future of mobile apps.\\n\\nAlthough the demand for mobile developers has not fallen sharply compared with previous years, the growth rate has slowed. On the other hand, owing to a great number of coding boot camps that target to bring up mobile and frontend engineers, a great number of developers are flooding into the developer job market.\\n\\nThe supply side for mobile engineers has increased rapidly in recent years, raising the standards for qualified mobile engineers. The days of a mobile engineer easily getting over 10 job offers are over.\\n\\nRecode ran an article in mid-2016, that begins: “The mobile app boom kicked off in July 2008, when Apple introduced the App Store. Now it is over.”\\n\\nAccording to data gathered and analyzed by the CakeResume team, JavaScript and Python are now the most in-demand programming languages for companies who post product development jobs on CakeResume, both together taking up almost half of the job opportunities, while mobile engineers taking up merely 10% of the job opportunities.\\n\\nlearn more about tech salaries in Taiwan\\n\\nWhile App usage continues to grow and revenue also ascends, the majority of consumers actually download zero apps per month\\n\\nlet’s face the truth, born and raised up in the era of the information explosion, individuals don’t have the leisure to check on what’s new on the app store every day. When it comes to choosing an App to download, many people feel overwhelmed by the sheer number of options available.\\n\\nTake the productivity category of the App Store as an example, there are over thousands of Apps in this category, and new Apps popping up almost every week. It is almost impossible for users to dig through and learn all the apps. They just choose what is on top then click Install.\\n\\nAnd not to mention that if you could build an awesome productivity app, Google and Apple could do it 10 times better and faster than you. In the end, there’s not as much need for individual apps to accomplish similar convenience factors.\\n\\nWhat You Could Do to Prepare for The future Changes for mobile apps\\n\\nAlthough the bull run for mobile development has ended, there are still over 2 billion smartphone users, 27.5 billion mobile apps downloaded, and time spent per day on mobile devices has increased rapidly in recent years. Moreover, apps offer a user experience that even ‘Responsive Websites’ are unable to provide.\\n\\nIn order to stay on top of the game, you will have to differentiate yourself from the pack — other mobile engineers. If you are a mobile engineer who only knows how to code and tweak your App’s UI, you aren’t that different from others after all. Below I listed a few ways that you could implement so that you could stay competitive in the job market.\\n\\n1. Choose Newer Technologies When You Have the Chance\\n\\nIf you are an Android developer, you could start choosing a job involving Kotlin or Flutter, which are backed by Google. If you are an iOS developer, try to look for a job to get involved with using Swift.\\n\\nAlthough older mobile coding languages, such as Java and Objective-C, still have their upsides, the main reason why Kotlin and Swift are created at first is to address the older languages issue. It means that Kotlin and swift provide many safety mechanisms available out-of-the-box while being more concise and expressive than Java and Objective-C at the same time.\\n\\nKotlin vs. Java: Which One You Should Choose for Your Next Android App\\n\\nA detailed comparison of Java and Kotlin to help you decide which language will work best for your next mobile…\\n\\nThe article covers a brief comparison between Objective-C and Swift in 2019, with ABI Stability.\\n\\n2. Build Up Your Domain Knowledge and Industry Skills\\n\\nThis point is especially crucial. Each industry has its specific skills to learn and refine. For example, if you are building a stock, foreign exchange, future, or options market app, you will have to understand the WebSocket protocol, which lets you transfer as much data as you like without incurring the overhead associated with traditional HTTP requests.\\n\\nFor the streaming media industry, possessing experience with live streaming protocols such as HLS, RTMP, WebRTC will be a must to deal with streaming-related apps.\\n\\nThese industry skills can really make you stand out, and adds another layer of expertise to your already pretty impressive mobile engineer title, making you more valuable in the job market.\\n\\nThe future of mobile app development will be shaped by how businesses harness mobile technology to solve people’s everyday problems.\\n\\nDon’t try to fight the irresistible trend, see how you can surf the trend! Exposing yourself or trying to get a job in the field mentioned below will absolutely give you more opportunities as a mobile developer.\\n\\nSo what are the trends for mobile apps development?\\n• “The driving force behind the growing mobility market is the impact of the IoT and its broad reach,” writes the experts at Maryville University online. In the future, apps will need to speak to each other, in the same way, that devices in the IoT communicate. The market needs companies that can develop custom IoT applications — sensors and devices, web apps, and both B2B and B2C mobile end-user apps.\\n• According to experts at Maryville University, AI is everywhere, from predictive analytics algorithms used by retailers like Target and Amazon to anticipate shopping needs to fraud detection monitors from banks and credit cards. Some more examples: Tinder uses machine learning to increase a user’s chances to find a match. Google Maps makes the process of choosing a parking spot easier.\\n• Tech Giants such as Apple and Google have launched their own augmented reality kits — AR Kit and AR Core resp to help app developers to create high-quality mobile apps. As for VR, the latest buzzword associated with it is v-commerce. One of the examples is Alibaba, which in November of 2016 introduced VR shopping to its customers across China.'"
      ]
     },
     "execution_count": 74,
     "metadata": {},
     "output_type": "execute_result"
    }
   ],
   "source": [
    "article.cleaned_text"
   ]
  },
  {
   "cell_type": "code",
   "execution_count": 75,
   "id": "e88a8eb0",
   "metadata": {},
   "outputs": [],
   "source": [
    "from goose3 import Goose\n",
    "url64=\"https://insights.blackcoffer.com/impact-of-ai-in-health-and-medicine/\"\n",
    "goose= Goose()\n",
    "article=goose.extract(url64)"
   ]
  },
  {
   "cell_type": "code",
   "execution_count": 76,
   "id": "a2d1038b",
   "metadata": {},
   "outputs": [
    {
     "data": {
      "text/plain": [
       "'Impact of AI in health and medicine | Blackcoffer Insights'"
      ]
     },
     "execution_count": 76,
     "metadata": {},
     "output_type": "execute_result"
    }
   ],
   "source": [
    "article.title"
   ]
  },
  {
   "cell_type": "code",
   "execution_count": 77,
   "id": "c4b6c77a",
   "metadata": {},
   "outputs": [
    {
     "data": {
      "text/plain": [
       "'AI allows those in training to go through naturalistic simulations in a way that simple computer-driven algorithms cannot. The advent of natural speech and the ability of an AI computer to draw instantly on a large database of scenarios means the response to questions, decisions, or advice from a trainee can challenge in a way that humans cannot in health and medicine\\n\\nWearable health trackers-like those from FitBit, Apple, Garmin, and others- monitor health rate and activity levels. They can send alerts to the user to get more exercise and can share this information with doctors.\\n• Technology applications and apps encourage healthier behavior in individuals and help with the proactive management of a healthy lifestyle.\\n• AI increases the ability for healthcare professionals to better understand the day-to-day patterns and needs of the people they care, for better feedback, guidance, and support.\\n\\nMachine learning algorithms can process unimaginable amounts of information in the blink of an eye and provide more precision than humans in spotting even the smallest detail in medical imaging. A few of them are Blackford, Zebra, Enlitic, Lunit.\\n\\nThe company “Zebra Medical Vision” developed a new platform called profound, which analyzes all types of medical imaging reports that are able to find every sign of potential conditions such as osteoporosis, aortic aneurysms, and many more with a 90% accuracy rate.\\n\\nFor eg, the digital health firm #HealthTap developed “Dr. AI”, and apps like Babylon in the UK use AI to give medical consultations based on personal medical history and common medical knowledge. Users report their symptoms into the app, which uses speech recognition to compare against a database of illness and asks patients to specify symptoms to triage whether they should go to the ED, urgent care, or a primary care doctor.\\n\\nAI robot-assisted surgery: Robots have been used in medicine for more than 30 years. Surgical robots can either aid a human surgeon or execute operations by themselves. They’re also used in hospitals and labs for repetitive tasks, in rehabilitation, physical therapy, and in support of those with long-term conditions.\\n\\nHealth chatbots such as Babylon, Ada, and mostly close-ended communications.\\n\\nMachine learning is a type of AI that allows computers to make predictions without being explicitly\\n• Provides formal conceptual Framework for input processing and decision making in diagnosis and management\\n• Unlock the power of big data and gain insight into patients.\\n\\nExamples of AI in healthcare and medicine\\n\\nActionable medical insights: An ever-increasing amount of medical data are being digitized at all public and private healthcare institutions. However, by its very nature, this kind of data is messy and unstructured. Unlike other types of business data, where traditional statistical methods can be used for quick insights, patient data is not particularly amenable to simple modeling and analytics tools.\\n\\nFor eg.- Enlitic, a San Francisco-based start-up, has a mission of mixing intelligence with empathy and leverage the power of AI in health and medicine for precisely generating.\\n\\nTherefore, a massive parallel effort to rationalize the legal and policy-making is needed to bring the full benefit of advancement in AI technologies into the healthcare space. As technologies and AI/ML enthusiasts, we can only hope for such a bright future where the power of this intelligence.'"
      ]
     },
     "execution_count": 77,
     "metadata": {},
     "output_type": "execute_result"
    }
   ],
   "source": [
    "article.cleaned_text"
   ]
  },
  {
   "cell_type": "code",
   "execution_count": 78,
   "id": "fab5b152",
   "metadata": {},
   "outputs": [],
   "source": [
    "from goose3 import Goose\n",
    "url65=\"https://insights.blackcoffer.com/telemedicine-what-patients-like-and-dislike-about-it/\"\n",
    "goose= Goose()\n",
    "article=goose.extract(url65)"
   ]
  },
  {
   "cell_type": "code",
   "execution_count": 79,
   "id": "bee51739",
   "metadata": {},
   "outputs": [
    {
     "data": {
      "text/plain": [
       "'What patients like and dislike about telemedicine? | Blackcoffer Insights'"
      ]
     },
     "execution_count": 79,
     "metadata": {},
     "output_type": "execute_result"
    }
   ],
   "source": [
    "article.title"
   ]
  },
  {
   "cell_type": "code",
   "execution_count": 80,
   "id": "ea355867",
   "metadata": {},
   "outputs": [
    {
     "data": {
      "text/plain": [
       "'In today’s world, telemedicine technology is one of those technologies which has brought about a change. Compared to the early days there have been remarkable differences in the methods of consultation with a doctor. In the years that have passed by, consultation for a disease with a doctor was quite hectic. It involved waiting, traveling, etc. But with the advent of telemedicine opportunities, this has completely changed.\\n\\nIt is a rural area that has been completely blessed with the invention of telemedicine. Today a considerable amount of people are able to consult doctors remotely. Not just doctors, but specialists in various fields of medicine. This has been of great importance as far as rural people are concerned. There are a lot of telemedicine tools that have been found. There are a lot of areas like ophthalmology, oncology, dermatology, etc where the facility of telemedicine has been practiced.\\n\\nMost of the patients are truly benefitting from telemedicine. Patients are pretty satisfied with the consultation they are getting. They don’t have to travel now. They can consult doctors and other specialists from remote areas. The cost of consultation has become pretty much affordable. Moreover, they get exposed to highly efficient and qualified experts in the field of medicine.\\n\\nOn the other hand, there can be patients who do not fully get satisfied through a virtual consultation. Rather they might feel that they need to have a direct talk with the doctor, which can boost up their confidence and also it helps to maintain a better relationship with the doctor and patient. The patients feel trust when they talk to doctors face to face. Moreover, doctors also might be able to console their patients when they have direct interaction with their patients. There could also be patients who doubt if these virtual methodologies are really trusted worthy or not. It is so because, while the patients have direct contact with their patients, the qualifications are visible to the patients. So there shall be no question of distrust.\\n\\nThere are major challenges like better connectivity of the internet, without which the patients will not be able to have continuous interaction with the doctors. Technical glitches may hinder the consultation too. Moreover, emergency situations cannot be addressed beyond a limit through telemedicine.'"
      ]
     },
     "execution_count": 80,
     "metadata": {},
     "output_type": "execute_result"
    }
   ],
   "source": [
    "article.cleaned_text"
   ]
  },
  {
   "cell_type": "code",
   "execution_count": 81,
   "id": "16ace3c2",
   "metadata": {},
   "outputs": [],
   "source": [
    "from goose3 import Goose\n",
    "url66=\"https://insights.blackcoffer.com/how-we-forecast-future-technologies/\"\n",
    "goose= Goose()\n",
    "article=goose.extract(url66)"
   ]
  },
  {
   "cell_type": "code",
   "execution_count": 82,
   "id": "758e6f87",
   "metadata": {},
   "outputs": [
    {
     "data": {
      "text/plain": [
       "'How we forecast future technologies? | Blackcoffer Insights'"
      ]
     },
     "execution_count": 82,
     "metadata": {},
     "output_type": "execute_result"
    }
   ],
   "source": [
    "article.title"
   ]
  },
  {
   "cell_type": "code",
   "execution_count": 83,
   "id": "1e20a81d",
   "metadata": {},
   "outputs": [
    {
     "data": {
      "text/plain": [
       "'TECHNOLOGY is playing a dominant role in human life. And as in our daily lifestyle technology is used each and every place where human beings are present. so How we forecast future technologies?\\n\\nSo, the fact is that technology is not a single immutable piece of hardware orbit chemistry. It is simply knowledge of physical relationships and it systematically applied to the useful arts. This knowledge can vary continuously over time. It can range basic phenomenon can be applied to an end product, device, or production machine in a mature operating system. Even as time passes, the performance characteristics of any machine, product, or operating system are normally improved in small continuous increments over time.\\n\\nAdvance in technology is usually nothing more than an accumulation of small advances not worth introducing individually to make a significant change in total technology. Forecast future technologies no matter how accurate – unless they eventually influence action.'"
      ]
     },
     "execution_count": 83,
     "metadata": {},
     "output_type": "execute_result"
    }
   ],
   "source": [
    "article.cleaned_text"
   ]
  },
  {
   "cell_type": "code",
   "execution_count": 84,
   "id": "4fbf76a9",
   "metadata": {},
   "outputs": [],
   "source": [
    "from goose3 import Goose\n",
    "url67=\"https://insights.blackcoffer.com/can-robots-tackle-late-life-loneliness/\"\n",
    "goose= Goose()\n",
    "article=goose.extract(url67)"
   ]
  },
  {
   "cell_type": "code",
   "execution_count": 85,
   "id": "2d9dd611",
   "metadata": {},
   "outputs": [
    {
     "data": {
      "text/plain": [
       "'Can robots tackle late-life loneliness? | Blackcoffer Insights'"
      ]
     },
     "execution_count": 85,
     "metadata": {},
     "output_type": "execute_result"
    }
   ],
   "source": [
    "article.title"
   ]
  },
  {
   "cell_type": "code",
   "execution_count": 86,
   "id": "6efb7bee",
   "metadata": {},
   "outputs": [
    {
     "data": {
      "text/plain": [
       "'In this era, everyone is busy in his life. No one spares time for someone. so robots tackle life loneliness? We have no time to stand and stare. This causes loneliness. Loneliness is due to fast-moving life and hurry and worry. In the 21st century, everyone is spending most of their time earning money. They are day-by-day transforming into money-earning machines. Due to his perception, we are losing our relations as we can’t give enough time to our families. They are busy earning their livelihood. They never get satisfies and always want more. Everyone is in a race of earning and then sends his children far away from himself to make them well settled in order to maintain their status. But one faces the consequences of this kind of lifestyle in his old age. People usually don’t spend time with their children when their children are in their childhood but they yearn for the company of their children in their old age. They feel lonely but have none to talk with. They are still attached to people, places, belongings, and memorable events from the past, although they understand that life cannot continue the same way as earlier, and this may easily result in feelings of loneliness and social isolation. As they become older, they need to be attended to in order to meet their daily needs. Robots can indeed serve the purpose but they can aid only mechanical care. They are just emotionless, feeling fewer entities. Robots aren’t creative. They can work only according to a pre-programmed system and till now no such software has been created that can transfer human feelings into robots. This is the major loophole of using robots to tackle late-life loneliness. They can undoubtedly serve their masters but their masters can’t share their feelings with them as they are incapable to understand or react to them. They can’t change their activity according to the occasion. They can provide anything except emotional satisfaction and without emotional gratification, loneliness can’t be tackled. A master can be attached to his robot but that attachment is only due to their service. They can’t share their thoughts with them. In this era, we are rendered lonely and in late- life feel the need for a companion with whom we can talk. We feel a need for someone who can listen to us, react, and advise us to tackle our day-to-day life problems. But we can’t find one. We have, undoubtedly, achieved great progress in terms of technology but we can never fill the void in the heart of a person struggling with his late-life loneliness with our advancements. We are in a kind of mental trance in which we experience fame, progress, wealth, etc. but when we gain our consciousness, we find ourselves lonely in this world. Relations in life are actual wealth in a person’s life. We can never enjoy such a bond with a robot. It will follow our commands, take our appropriate care but can’t react to our emotions. It can’t console us. When a man lives in loneliness for a long time, it eats up his conscience and transforms him into a machine. Robots can never become our friends, crack jokes, weep our tears, or establish an emotional connection with us. They can’t understand our feelings. Many people go into depression. Depression or the occurrence of depressive symptoms is a prominent condition amongst older people, with a significant impact on their well-being and quality of life. They remain sick and loneliness directly impacts longevity. Lonely people often think that they are no longer needed in this world and thus they want to die. It impacts their mental, psychological, social, and physical health. Robots prove to be useless in these matters. They can provide motivation, only if they have the software to do so but can’t, themselves, react to such a situation. They don’t know about anger, happiness, or sadness. They don’t themselves bring food when their master is hungry until commanded to do so. They can’t even offer a glass of water themselves. A man living without relations and without fellow feeling no longer remains a human being. He becomes none less than a machine as, due to his loneliness, he becomes mentally ill and goes into a condition like trauma where he no longer enjoys nature’s blessings, becomes happy or sad as he loses the ability to react and hence can’t act. It’s a dangerous situation. We face a plethora of challenges in assisted living facilities such as not being addressed to emotional needs, being neglected, and forcing a withdrawal from social activities. Relations in life, interaction with fellow beings, sharing of joy and happiness, and fellow feeling make a man from mere a ‘being’ to a ‘social being’ and finally a human being.'"
      ]
     },
     "execution_count": 86,
     "metadata": {},
     "output_type": "execute_result"
    }
   ],
   "source": [
    "article.cleaned_text"
   ]
  },
  {
   "cell_type": "code",
   "execution_count": 87,
   "id": "65618061",
   "metadata": {},
   "outputs": [],
   "source": [
    "from goose3 import Goose\n",
    "url68=\"https://insights.blackcoffer.com/embedding-care-robots-into-society-socio-technical-considerations/\"\n",
    "goose= Goose()\n",
    "article=goose.extract(url68)"
   ]
  },
  {
   "cell_type": "code",
   "execution_count": 88,
   "id": "d8d979e2",
   "metadata": {},
   "outputs": [
    {
     "data": {
      "text/plain": [
       "'Embedding care robots into society and practice: Socio-technical considerations | Blackcoffer Insights'"
      ]
     },
     "execution_count": 88,
     "metadata": {},
     "output_type": "execute_result"
    }
   ],
   "source": [
    "article.title"
   ]
  },
  {
   "cell_type": "code",
   "execution_count": 89,
   "id": "79d476c9",
   "metadata": {},
   "outputs": [
    {
     "data": {
      "text/plain": [
       "'Care Robots, as the name suggests, are robots that are used for hospitality purposes like fetching water, cracking jokes and keeping a patient in good harmony, etc.\\n\\nThe senior care industry has been at the forefront for quite a period. The reason being, Nuclear families becoming very busy in their schedule that one day when the parents of this nuclear family are old, children are nowhere to take care of. Instead, nursing homes have become a trend. Parents with mental illness are being put in rehab.\\n\\nAs observed for a few decades robots are taking care of many activities and they are even dominating a few fields like the automobile industry. So, Machines can indeed help humankind in achieving remarkable success in many fields.\\n\\nDo senior citizens love machines ?, You should look at them when they watch TV when they love to play video games on a smartphone. So, If we give them a human-like structure with the ability of a smartphone to make these people happy then it would be quite a monstrous feat.'"
      ]
     },
     "execution_count": 89,
     "metadata": {},
     "output_type": "execute_result"
    }
   ],
   "source": [
    "article.cleaned_text"
   ]
  },
  {
   "cell_type": "code",
   "execution_count": 90,
   "id": "27ae2654",
   "metadata": {},
   "outputs": [],
   "source": [
    "from goose3 import Goose\n",
    "url69=\"https://insights.blackcoffer.com/management-challenges-for-future-digitalization-of-healthcare-services/\"\n",
    "goose= Goose()\n",
    "article=goose.extract(url69)"
   ]
  },
  {
   "cell_type": "code",
   "execution_count": 91,
   "id": "b7ecf96a",
   "metadata": {},
   "outputs": [
    {
     "data": {
      "text/plain": [
       "'Management challenges for future digitalization of healthcare services | Blackcoffer Insights'"
      ]
     },
     "execution_count": 91,
     "metadata": {},
     "output_type": "execute_result"
    }
   ],
   "source": [
    "article.title"
   ]
  },
  {
   "cell_type": "code",
   "execution_count": 92,
   "id": "bdacf636",
   "metadata": {},
   "outputs": [
    {
     "data": {
      "text/plain": [
       "'Management acts as a guide to a group of people working in the organization and coordinating their efforts, towards the attainment of the common objective.Management challenges for future digitalization of healthcare services\\n• Universal: All organizations, whether it is profit-making or not, require management, for managing their activities. Hence it is universal in nature.\\n• Goal-Oriented: Every organization is set up with a predetermined objective and management helps in reaching those goals timely, and smoothly.\\n• Continuous Process: It is an ongoing process that tends to persist as long as the organization exists. It is required in every sphere of the organization whether it is production, human resource, finance, or marketing.\\n• Multi-dimensional: Management is not confined to the administration of people only, but it also manages work, processes, and operations, which makes it a multi-disciplinary activity.\\n• Group activity: An organization consists of various members who have different needs, expectations, and beliefs. Every person joins the organization with a different motive, but after becoming a part of the organization they work for achieving the same goal. It requires supervision, teamwork, and coordination, and in this way, management comes into the picture.\\n• Top-Level Management: This is the highest level in the organizational hierarchy, which includes the Board of Directors and Chief Executives. They are responsible for defining the objectives, formulating plans, strategies, and policies.\\n• Middle-Level Management: It is the second and most important level in the corporate ladder, as it creates a link between the top and lower-level management. It includes departmental and division heads and managers who are responsible for implementing and controlling plans and strategies which are formulated by the top executives.\\n• Lower Level Management: Otherwise called functional or operational level management. It includes first-line managers, foremen, supervisors. As lower-level management directly interacts with the workers, it plays a crucial role in the organization because it helps in reducing wastage and idle time of the workers, improving the quality and quantity of output.\\n\\nIn the current day and age, a wave of digitization has taken over the world. All the emerging technologies like Artificial Intelligence and others are helping people live better and easier life. The service sector has also benefited a lot from digitization. It got further boost when Prime Minister Narendra Modi, in the year 2015, launched a campaign known as ‘Digital India.’ Among the various industries in the service sector, digitization has had a massive impact on the operation of the healthcare and diagnostic industry. It has helped in the development of this industry and enhances life for millions of people. The condition of India in terms of healthcare has been quite grim. Patients who need attention are neglected and are unable to avail proper treatment or diagnosis. However, with the coming up of digitization, there has been hoped for this industry also.\\n\\nthere are three trends emerging in the healthcare and diagnostics ecosystem as a result of digitization.\\n\\nThis is a model of healthcare where doctors and hospitals are paid based on patient health outcomes. The coming up of digital tools in this segment of healthcare can be considered as the starting tool. Dr. Panda further says that the implementation of advanced digital technologies in patient-care domains like- mobile health apps, telehealth, wearables, and remote monitoring can help in enhancing accessibility, boost efficiency and augment the effectiveness of treatment and preventive care.\\n\\nThe healthcare industry over the past few decades has changed drastically. With the coming of emerging technologies, new surgical procedures and medical devices have been made available.\\n\\nWhile talking about connectivity in healthcare, Dr. Panda said that with digitization taking over the industry, it is only a matter of time when with the help of the internet and smartphones, digital healthcare will be everywhere. The internet for once has helped doctors connect to their patients and also with one another. This has helped in enhancing the doctor-patient engagement by increasing their interaction time.\\n\\nBig data aggregates information about a business through formats such as social media, eCommerce, online transactions, and financial transactions, and identifies patterns and trends for future use.\\n\\nFor the healthcare industry, big data can provide several important benefits, including:\\n• Lower rate of medication errors – through patient record analysis, the software can flag any inconsistencies between a patient’s health and drug prescriptions, alerting health professionals and patients when there is a potential risk of a medication error.\\n• Facilitating Preventive Care – a high volume of people stepping into emergency rooms are recurring patients also called “frequent flyers.” They can account for up to 28% of visits. Big data analysis could identify these people and create preventive plans to keep them from returning.\\n• More Accurate Staffing – big data’s predictive analysis could help hospitals and clinics estimate future admission rates, which helps these facilities allocate the proper staff to deal with patients. This saves money and reduces emergency room wait times when a facility is understaffed.\\n\\nAlthough ransomware, data breaches, and other cybersecurity concerns are nothing new to the healthcare industry, the 2020 Covid-19 pandemic revealed just how vulnerable sensitive patient health information really is.\\n\\nThe recent growth of digital health initiatives- like telehealth doctor visits — is a major contributor to the severe increase in breached patient records. As more healthcare functions continue to move online over the next year, it’s extremely important to ensure these processes are protected from outside threats.\\n\\nMedical practices are citing patient collections as their top revenue cycle management struggle as patients are becoming responsible for a larger portion of their medical bills. In order to help encourage patients to submit payments in a timely manner, providers must adhere to patient payment preferences.\\n\\nTo meet patient expectations and improve the user experience, ensure billing statements are patient-friendly. You should offer paperless statements and a variety of payment options (e.g. credit card, etc.) via an online patient portal and utilize the latest payment technologies, such as mobile and text-to-pay. New features like text or email reminders help effectively communicate with patients and encourage them to pay their financial obligations.\\n\\nThe medical insurance landscape has experienced some significant changes in recent years. As more patients are responsible for a larger portion of their healthcare bill, they naturally demand better services from their providers.\\n\\nHealthcare organizations will face tougher competition in attracting and retaining patients who demand an experience that matches the level of customer service they expect from other consumer brands.\\n\\nThey demand a streamlined patient experience so they can “self-service” to resolve most questions, issues, or concerns (e.g., downloading an immunization record, booking an appointment, paying their bills, or checking their account/insurance status) whenever, wherever, and however is most convenient for them.'"
      ]
     },
     "execution_count": 92,
     "metadata": {},
     "output_type": "execute_result"
    }
   ],
   "source": [
    "article.cleaned_text"
   ]
  },
  {
   "cell_type": "code",
   "execution_count": 93,
   "id": "7488e60b",
   "metadata": {},
   "outputs": [],
   "source": [
    "from goose3 import Goose\n",
    "url70=\"https://insights.blackcoffer.com/are-we-any-closer-to-preventing-a-nuclear-holocaust/\"\n",
    "goose= Goose()\n",
    "article=goose.extract(url70)"
   ]
  },
  {
   "cell_type": "code",
   "execution_count": 94,
   "id": "3c80a86f",
   "metadata": {},
   "outputs": [
    {
     "data": {
      "text/plain": [
       "'Are we any closer to preventing a nuclear holocaust? | Blackcoffer Insights'"
      ]
     },
     "execution_count": 94,
     "metadata": {},
     "output_type": "execute_result"
    }
   ],
   "source": [
    "article.title"
   ]
  },
  {
   "cell_type": "code",
   "execution_count": 95,
   "id": "3d73ada6",
   "metadata": {},
   "outputs": [
    {
     "data": {
      "text/plain": [
       "'One thought always comes to my mind…\\n\\nWhat if we lived without that dander hanging over our heads?\\n\\nAnd you all know what is that danger is. For more than 70 years the world has faced the very real threat of nuclear war.\\n\\nNuclear war is a real and growing threat. The United States and Russia have left critical agreements and treaties, while actively planning to add new types of weapons to their arsenals.\\n\\nMeanwhile, US nuclear policy remains rooted in the Cold War, increasing the risk that nuclear weapons could be used again.\\n\\nIt doesn’t have to be this way. With the right policy changes and a commitment to diplomacy, the United States can be a leader in reducing the nuclear threat and we can also help them. But the question arises is what are the activities are being done for the prevention of nuclear holocaust?\\n\\nAnd they are :\\n• Holding the White House accountable through independent research and analysis,\\n• Increasing public demand for changing nuclear weapon policies.\\n\\nNow the question is what can we do to prevent a nuclear holocaust?\\n• Call for investment in public health and public security, not nuclear weapons.\\n• Tell government: The United States should never start a nuclear war.\\n• Urge presidential candidates to make preventing nuclear war a priority. ACTIVIST RESOURCES\\n\\nnuclear weapons are extremely strong to show the power of a nation. But no one knows the drawback of this attack between the two countries. For example Hiroshima and Nagasaki, the realistic bomb blast explained the blood of each people. The crux of my presentation is that the circumstances surrounding nuclear war call for a new level of commitment by the scientific community to reduce the risk of nuclear war. To generate new options for decreasing the risk, we need analytical work by people who know the weaponry and its military uses. But that is far from enough to do the job. We also need scholars who know the superpowers in-depth; people who know other nuclear powers; people who know third-world flashpoints; people who know international relations very broadly; people who know a lot about policy formation and implementation, especially in the superpowers; people who understand human behavior under stress, especially leadership under stress; people who understand negotiation and conflict resolution people and much more. In other words, the relevant knowledge and skills cut right across all the physical, biological, behavioral, social. International Physicians for the Prevention of Nuclear War, World Health, British Medical Association, and the American Medical Association; others have contributed as well. The central point is that a kind of awakening has occurred in the medical community to the responsibility of addressing the immense nature of the threat to public health. At last, I want to conclude that: “ In a nuclear war, except evil force, no one is the winner. Science and humanity become the villain. Everyone knows that but the gamblers want to play their cards. Be aware of the nuclear gamblers “.\\n\\nI hope that soon the world will be full of love and affection and there will be no place for hate and the wars will be held.'"
      ]
     },
     "execution_count": 95,
     "metadata": {},
     "output_type": "execute_result"
    }
   ],
   "source": [
    "article.cleaned_text"
   ]
  },
  {
   "cell_type": "code",
   "execution_count": 96,
   "id": "a22e4435",
   "metadata": {},
   "outputs": [],
   "source": [
    "from goose3 import Goose\n",
    "url71=\"https://insights.blackcoffer.com/will-technology-eliminate-the-need-for-animal-testing-in-drug-development/\"\n",
    "goose= Goose()\n",
    "article=goose.extract(url71)"
   ]
  },
  {
   "cell_type": "code",
   "execution_count": 97,
   "id": "f443e2c9",
   "metadata": {},
   "outputs": [
    {
     "data": {
      "text/plain": [
       "'Will technology eliminate the need for animal testing in drug development? | Blackcoffer Insights'"
      ]
     },
     "execution_count": 97,
     "metadata": {},
     "output_type": "execute_result"
    }
   ],
   "source": [
    "article.title"
   ]
  },
  {
   "cell_type": "code",
   "execution_count": 98,
   "id": "854784ac",
   "metadata": {},
   "outputs": [
    {
     "data": {
      "text/plain": [
       "'Imagine yourself as a being who can speak but no one can comprehend you. You are kept in captivity, in a place where you can hardly breathe. You are finally selected and taken out of that place, it is a happy moment for you. You can finally have your freedom but sadly instead of being free, you are prodded by rods and fed toxic substances against your will. The only thing you can do is scream in vain. Your voice is heard by everyone but it gets lost in the noise of scientific advancement. You writhe in pain as the substances take effect on your body, the pain slowly creeps into your body and you slowly succumb to it, never to wake up again.\\n\\nSince the time of Aristotle, animals have been subjected to various inhumane experiments for the sake of knowledge. These experiments though unethical were very necessary for the advancement of science. Animal testing has become an important part of experimenting on living organisms to ensure that a product is safe for humans to consume. The lab animals are generally subjected to high levels of toxicity while being kept in isolation due to which they have to suffer a lot of stress and discomfort. Animal testing has a large number of drawbacks:\\n• Animals and human beings react differently to certain substances. For example, in 2004, Vioxx withdrew “rofexocib” after more than 80,000 people suffered heart attacks after taking the drug. Although the drug showed no such effects during animal testing, it posed threat to human beings.\\n• It is very costly to conduct animal testing as animals need to be provided with shelter and food over a large period until the trials are completed.\\n• Animal testing might not lead to a scientific breakthrough. There are various instances of animal testing failing to achieve the desired result which ultimately leads to loss of time, resources and money.\\n• Some products like cosmetics may not be essential to humans and therefore don’t require animal testing at all. The cosmetic industry is notorious for animal testing of products and it’s a pity that some of those products aren’t even launched in the market.\\n\\nAll of these things make us question ourselves. Is it even worth it? Is it possible to stop this cruelty without hampering our growth?\\n\\nWith the advancement in science, it can be made possible that we don’t have to use animals ever again.\\n• Advanced computing– With the availability of various software programs it has become easier to understand the working of a biological organism. We can replicate the entire human body and conduct various tests to get generate simulations to assess the possible effects of a chemical or biological reaction. For example, CADD (Computer-aided drug design) is becoming popular for stimulating whether a particular drug affects the cells or not. This cuts down the requirement of using animals for testing and also reduces the experimentation time as the researchers don’t have to wait for the animals to show response.\\n• Tissue Culture – Growing tissues in Petri dishes and in vitro cells can be a viable alternative to animal testing. Tissues and cells from brain, liver, kidney etc. is taken from an animal and kept in a suitable growth medium for a few weeks or even for a year. These cultures can be used to test the toxicity and efficacy of substances. For example: In eye irritancy tests, new animals have to be used in each experiment to check if the substance is irritating the eye or not. Many animals permanently lose their eyesight and using a new animal every time is just simply inhumane. Using bovine corneal organ culture in which the corneal tissue is cultured for three weeks before using it yields the same result without any complications. Scientists have started to use this method to test for toxicity and efficacy in cosmetics, drugs and chemical sectors.\\n• 3-D printing– Making complex tissue structures from a single digital file is astonishing. Printing tissues can help in carrying out experiments on it and getting results similar to the real tissues. For example Earlier animal organs, charts and 3-D models were used to explain the functioning of a particular organ to medical students but now bio-printing companies have started making human tissues and organs which are used by students in various medical schools to understand the intricacies of human organs which has helped in bringing down animal experimentation to a large extent.\\n\\nThese bio-printed models can also be used by the researchers to conduct experiments on them without using animals for it. A French company is working on a bio-printed liver model to test liver toxicity without having to use animals at all. This is a breakthrough in the field of bio-technology as it can bring down animal experimentation by a large percentage.\\n• Organ-on-a-chip method – It is a fairly new technology which consists of growing cells inside chips where they imitate the structure and behavior of human organs. Researchers can test drugs on these chips and it is far cheaper and humane than testing on animals. For example, UK Company CN Bio has come with a system which consists of 10 organs on a single chip and they have tissues ranging from the liver to the brain.\\n• Micro dosing: Humans can participate in these experiments in which they are injected with small one time doses and are constantly monitored under imaging techniques to gather information on the changes happening in the body. These tests can replace certain tests on animals and help in removing drug compounds that don’t have the desired effect on the human body. For example, COVID-19 tests were carried on human volunteers in which they were given small doses of the vaccine and kept under constant surveillance. This helped the researchers in removing the drugs that were not having the desired effect on the human body and thus they were also able to remove animal testing as one of the processes.\\n\\nThese alternatives can help in bringing down animal experimentation to a large extent. If science can progress without harming animals then we should go for it rather than putting them through excruciating pain. We must protect the animals as much as we can or else we would soon be living in a world without them.'"
      ]
     },
     "execution_count": 98,
     "metadata": {},
     "output_type": "execute_result"
    }
   ],
   "source": [
    "article.cleaned_text"
   ]
  },
  {
   "cell_type": "code",
   "execution_count": 99,
   "id": "df2ef129",
   "metadata": {},
   "outputs": [],
   "source": [
    "from goose3 import Goose\n",
    "url72=\"https://insights.blackcoffer.com/will-we-ever-understand-the-nature-of-consciousness/\"\n",
    "goose= Goose()\n",
    "article=goose.extract(url71)"
   ]
  },
  {
   "cell_type": "code",
   "execution_count": 100,
   "id": "58ba213c",
   "metadata": {},
   "outputs": [
    {
     "data": {
      "text/plain": [
       "'Will technology eliminate the need for animal testing in drug development? | Blackcoffer Insights'"
      ]
     },
     "execution_count": 100,
     "metadata": {},
     "output_type": "execute_result"
    }
   ],
   "source": [
    "article.title"
   ]
  },
  {
   "cell_type": "code",
   "execution_count": 101,
   "id": "bdfec38f",
   "metadata": {},
   "outputs": [
    {
     "data": {
      "text/plain": [
       "'Imagine yourself as a being who can speak but no one can comprehend you. You are kept in captivity, in a place where you can hardly breathe. You are finally selected and taken out of that place, it is a happy moment for you. You can finally have your freedom but sadly instead of being free, you are prodded by rods and fed toxic substances against your will. The only thing you can do is scream in vain. Your voice is heard by everyone but it gets lost in the noise of scientific advancement. You writhe in pain as the substances take effect on your body, the pain slowly creeps into your body and you slowly succumb to it, never to wake up again.\\n\\nSince the time of Aristotle, animals have been subjected to various inhumane experiments for the sake of knowledge. These experiments though unethical were very necessary for the advancement of science. Animal testing has become an important part of experimenting on living organisms to ensure that a product is safe for humans to consume. The lab animals are generally subjected to high levels of toxicity while being kept in isolation due to which they have to suffer a lot of stress and discomfort. Animal testing has a large number of drawbacks:\\n• Animals and human beings react differently to certain substances. For example, in 2004, Vioxx withdrew “rofexocib” after more than 80,000 people suffered heart attacks after taking the drug. Although the drug showed no such effects during animal testing, it posed threat to human beings.\\n• It is very costly to conduct animal testing as animals need to be provided with shelter and food over a large period until the trials are completed.\\n• Animal testing might not lead to a scientific breakthrough. There are various instances of animal testing failing to achieve the desired result which ultimately leads to loss of time, resources and money.\\n• Some products like cosmetics may not be essential to humans and therefore don’t require animal testing at all. The cosmetic industry is notorious for animal testing of products and it’s a pity that some of those products aren’t even launched in the market.\\n\\nAll of these things make us question ourselves. Is it even worth it? Is it possible to stop this cruelty without hampering our growth?\\n\\nWith the advancement in science, it can be made possible that we don’t have to use animals ever again.\\n• Advanced computing– With the availability of various software programs it has become easier to understand the working of a biological organism. We can replicate the entire human body and conduct various tests to get generate simulations to assess the possible effects of a chemical or biological reaction. For example, CADD (Computer-aided drug design) is becoming popular for stimulating whether a particular drug affects the cells or not. This cuts down the requirement of using animals for testing and also reduces the experimentation time as the researchers don’t have to wait for the animals to show response.\\n• Tissue Culture – Growing tissues in Petri dishes and in vitro cells can be a viable alternative to animal testing. Tissues and cells from brain, liver, kidney etc. is taken from an animal and kept in a suitable growth medium for a few weeks or even for a year. These cultures can be used to test the toxicity and efficacy of substances. For example: In eye irritancy tests, new animals have to be used in each experiment to check if the substance is irritating the eye or not. Many animals permanently lose their eyesight and using a new animal every time is just simply inhumane. Using bovine corneal organ culture in which the corneal tissue is cultured for three weeks before using it yields the same result without any complications. Scientists have started to use this method to test for toxicity and efficacy in cosmetics, drugs and chemical sectors.\\n• 3-D printing– Making complex tissue structures from a single digital file is astonishing. Printing tissues can help in carrying out experiments on it and getting results similar to the real tissues. For example Earlier animal organs, charts and 3-D models were used to explain the functioning of a particular organ to medical students but now bio-printing companies have started making human tissues and organs which are used by students in various medical schools to understand the intricacies of human organs which has helped in bringing down animal experimentation to a large extent.\\n\\nThese bio-printed models can also be used by the researchers to conduct experiments on them without using animals for it. A French company is working on a bio-printed liver model to test liver toxicity without having to use animals at all. This is a breakthrough in the field of bio-technology as it can bring down animal experimentation by a large percentage.\\n• Organ-on-a-chip method – It is a fairly new technology which consists of growing cells inside chips where they imitate the structure and behavior of human organs. Researchers can test drugs on these chips and it is far cheaper and humane than testing on animals. For example, UK Company CN Bio has come with a system which consists of 10 organs on a single chip and they have tissues ranging from the liver to the brain.\\n• Micro dosing: Humans can participate in these experiments in which they are injected with small one time doses and are constantly monitored under imaging techniques to gather information on the changes happening in the body. These tests can replace certain tests on animals and help in removing drug compounds that don’t have the desired effect on the human body. For example, COVID-19 tests were carried on human volunteers in which they were given small doses of the vaccine and kept under constant surveillance. This helped the researchers in removing the drugs that were not having the desired effect on the human body and thus they were also able to remove animal testing as one of the processes.\\n\\nThese alternatives can help in bringing down animal experimentation to a large extent. If science can progress without harming animals then we should go for it rather than putting them through excruciating pain. We must protect the animals as much as we can or else we would soon be living in a world without them.'"
      ]
     },
     "execution_count": 101,
     "metadata": {},
     "output_type": "execute_result"
    }
   ],
   "source": [
    "article.cleaned_text"
   ]
  },
  {
   "cell_type": "code",
   "execution_count": null,
   "id": "d0b575fc",
   "metadata": {},
   "outputs": [],
   "source": []
  }
 ],
 "metadata": {
  "kernelspec": {
   "display_name": "Python 3 (ipykernel)",
   "language": "python",
   "name": "python3"
  },
  "language_info": {
   "codemirror_mode": {
    "name": "ipython",
    "version": 3
   },
   "file_extension": ".py",
   "mimetype": "text/x-python",
   "name": "python",
   "nbconvert_exporter": "python",
   "pygments_lexer": "ipython3",
   "version": "3.9.13"
  }
 },
 "nbformat": 4,
 "nbformat_minor": 5
}
